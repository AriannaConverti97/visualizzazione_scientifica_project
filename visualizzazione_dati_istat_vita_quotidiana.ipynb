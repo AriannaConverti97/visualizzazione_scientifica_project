{
 "cells": [
  {
   "cell_type": "code",
   "execution_count": 1,
   "id": "6e17fecd",
   "metadata": {},
   "outputs": [],
   "source": [
    "import matplotlib.pyplot as plt\n",
    "import pandas as pd\n",
    "import numpy as np\n",
    "import seaborn as sns"
   ]
  },
  {
   "cell_type": "markdown",
   "id": "5ad45192",
   "metadata": {},
   "source": [
    "Sesso: 1- maschio, 2-femmina"
   ]
  },
  {
   "cell_type": "code",
   "execution_count": 2,
   "id": "0ddd7e93",
   "metadata": {
    "scrolled": false
   },
   "outputs": [
    {
     "data": {
      "text/html": [
       "<div>\n",
       "<style scoped>\n",
       "    .dataframe tbody tr th:only-of-type {\n",
       "        vertical-align: middle;\n",
       "    }\n",
       "\n",
       "    .dataframe tbody tr th {\n",
       "        vertical-align: top;\n",
       "    }\n",
       "\n",
       "    .dataframe thead th {\n",
       "        text-align: right;\n",
       "    }\n",
       "</style>\n",
       "<table border=\"1\" class=\"dataframe\">\n",
       "  <thead>\n",
       "    <tr style=\"text-align: right;\">\n",
       "      <th></th>\n",
       "      <th>NCOMP</th>\n",
       "      <th>ETAMi</th>\n",
       "      <th>SESSO</th>\n",
       "      <th>LEZPR</th>\n",
       "      <th>INFOR</th>\n",
       "      <th>LING</th>\n",
       "      <th>MMSCLA</th>\n",
       "      <th>SPOCON</th>\n",
       "      <th>SPOSAL</th>\n",
       "      <th>BIRRA</th>\n",
       "      <th>...</th>\n",
       "      <th>FUMO</th>\n",
       "      <th>FRFUMO</th>\n",
       "      <th>TFUMO</th>\n",
       "      <th>NSIGARM</th>\n",
       "      <th>SALUTE</th>\n",
       "      <th>CRONI</th>\n",
       "      <th>DIAB</th>\n",
       "      <th>FEGATO</th>\n",
       "      <th>CIRRO</th>\n",
       "      <th>NEURO</th>\n",
       "    </tr>\n",
       "  </thead>\n",
       "  <tbody>\n",
       "    <tr>\n",
       "      <th>0</th>\n",
       "      <td>4</td>\n",
       "      <td>9</td>\n",
       "      <td>2</td>\n",
       "      <td>1.0</td>\n",
       "      <td>1.0</td>\n",
       "      <td>1.0</td>\n",
       "      <td>15.0</td>\n",
       "      <td>1.0</td>\n",
       "      <td>1.0</td>\n",
       "      <td>6.0</td>\n",
       "      <td>...</td>\n",
       "      <td>3.0</td>\n",
       "      <td>NaN</td>\n",
       "      <td>NaN</td>\n",
       "      <td>NaN</td>\n",
       "      <td>2</td>\n",
       "      <td>1.0</td>\n",
       "      <td>1.0</td>\n",
       "      <td>3.0</td>\n",
       "      <td>5.0</td>\n",
       "      <td>5.0</td>\n",
       "    </tr>\n",
       "    <tr>\n",
       "      <th>1</th>\n",
       "      <td>4</td>\n",
       "      <td>9</td>\n",
       "      <td>1</td>\n",
       "      <td>1.0</td>\n",
       "      <td>1.0</td>\n",
       "      <td>1.0</td>\n",
       "      <td>99.0</td>\n",
       "      <td>1.0</td>\n",
       "      <td>2.0</td>\n",
       "      <td>1.0</td>\n",
       "      <td>...</td>\n",
       "      <td>1.0</td>\n",
       "      <td>1.0</td>\n",
       "      <td>3.0</td>\n",
       "      <td>17.0</td>\n",
       "      <td>2</td>\n",
       "      <td>1.0</td>\n",
       "      <td>1.0</td>\n",
       "      <td>3.0</td>\n",
       "      <td>5.0</td>\n",
       "      <td>5.0</td>\n",
       "    </tr>\n",
       "    <tr>\n",
       "      <th>2</th>\n",
       "      <td>3</td>\n",
       "      <td>9</td>\n",
       "      <td>2</td>\n",
       "      <td>1.0</td>\n",
       "      <td>1.0</td>\n",
       "      <td>4.0</td>\n",
       "      <td>50.0</td>\n",
       "      <td>2.0</td>\n",
       "      <td>NaN</td>\n",
       "      <td>6.0</td>\n",
       "      <td>...</td>\n",
       "      <td>3.0</td>\n",
       "      <td>NaN</td>\n",
       "      <td>NaN</td>\n",
       "      <td>NaN</td>\n",
       "      <td>2</td>\n",
       "      <td>1.0</td>\n",
       "      <td>1.0</td>\n",
       "      <td>3.0</td>\n",
       "      <td>5.0</td>\n",
       "      <td>5.0</td>\n",
       "    </tr>\n",
       "    <tr>\n",
       "      <th>3</th>\n",
       "      <td>3</td>\n",
       "      <td>8</td>\n",
       "      <td>2</td>\n",
       "      <td>1.0</td>\n",
       "      <td>1.0</td>\n",
       "      <td>1.0</td>\n",
       "      <td>NaN</td>\n",
       "      <td>1.0</td>\n",
       "      <td>1.0</td>\n",
       "      <td>6.0</td>\n",
       "      <td>...</td>\n",
       "      <td>3.0</td>\n",
       "      <td>NaN</td>\n",
       "      <td>NaN</td>\n",
       "      <td>NaN</td>\n",
       "      <td>2</td>\n",
       "      <td>1.0</td>\n",
       "      <td>1.0</td>\n",
       "      <td>3.0</td>\n",
       "      <td>5.0</td>\n",
       "      <td>5.0</td>\n",
       "    </tr>\n",
       "    <tr>\n",
       "      <th>4</th>\n",
       "      <td>3</td>\n",
       "      <td>7</td>\n",
       "      <td>2</td>\n",
       "      <td>1.0</td>\n",
       "      <td>1.0</td>\n",
       "      <td>1.0</td>\n",
       "      <td>23.0</td>\n",
       "      <td>1.0</td>\n",
       "      <td>1.0</td>\n",
       "      <td>6.0</td>\n",
       "      <td>...</td>\n",
       "      <td>3.0</td>\n",
       "      <td>NaN</td>\n",
       "      <td>NaN</td>\n",
       "      <td>NaN</td>\n",
       "      <td>2</td>\n",
       "      <td>1.0</td>\n",
       "      <td>1.0</td>\n",
       "      <td>3.0</td>\n",
       "      <td>5.0</td>\n",
       "      <td>5.0</td>\n",
       "    </tr>\n",
       "  </tbody>\n",
       "</table>\n",
       "<p>5 rows × 41 columns</p>\n",
       "</div>"
      ],
      "text/plain": [
       "   NCOMP  ETAMi  SESSO  LEZPR  INFOR  LING  MMSCLA  SPOCON  SPOSAL  BIRRA  \\\n",
       "0      4      9      2    1.0    1.0   1.0    15.0     1.0     1.0    6.0   \n",
       "1      4      9      1    1.0    1.0   1.0    99.0     1.0     2.0    1.0   \n",
       "2      3      9      2    1.0    1.0   4.0    50.0     2.0     NaN    6.0   \n",
       "3      3      8      2    1.0    1.0   1.0     NaN     1.0     1.0    6.0   \n",
       "4      3      7      2    1.0    1.0   1.0    23.0     1.0     1.0    6.0   \n",
       "\n",
       "   ...  FUMO  FRFUMO  TFUMO  NSIGARM  SALUTE  CRONI  DIAB  FEGATO  CIRRO  \\\n",
       "0  ...   3.0     NaN    NaN      NaN       2    1.0   1.0     3.0    5.0   \n",
       "1  ...   1.0     1.0    3.0     17.0       2    1.0   1.0     3.0    5.0   \n",
       "2  ...   3.0     NaN    NaN      NaN       2    1.0   1.0     3.0    5.0   \n",
       "3  ...   3.0     NaN    NaN      NaN       2    1.0   1.0     3.0    5.0   \n",
       "4  ...   3.0     NaN    NaN      NaN       2    1.0   1.0     3.0    5.0   \n",
       "\n",
       "   NEURO  \n",
       "0    5.0  \n",
       "1    5.0  \n",
       "2    5.0  \n",
       "3    5.0  \n",
       "4    5.0  \n",
       "\n",
       "[5 rows x 41 columns]"
      ]
     },
     "execution_count": 2,
     "metadata": {},
     "output_type": "execute_result"
    }
   ],
   "source": [
    "dati = pd.read_csv('database_ripulito.csv')\n",
    "del(dati['Unnamed: 0'])\n",
    "dati.head()"
   ]
  },
  {
   "cell_type": "code",
   "execution_count": 3,
   "id": "f3edd9c4",
   "metadata": {},
   "outputs": [],
   "source": [
    "palette=[\"#0072c6\",\"#00a2e8\",\"#66b2ff\",\"#99cfff\",\"#cce6ff\"]"
   ]
  },
  {
   "cell_type": "code",
   "execution_count": 4,
   "id": "0dad94ef",
   "metadata": {},
   "outputs": [
    {
     "data": {
      "text/plain": [
       "array([9, 8, 7, 4, 6, 5])"
      ]
     },
     "execution_count": 4,
     "metadata": {},
     "output_type": "execute_result"
    }
   ],
   "source": [
    "dati['ETAMi'].unique()"
   ]
  },
  {
   "cell_type": "code",
   "execution_count": 5,
   "id": "0dd82a04",
   "metadata": {
    "scrolled": false
   },
   "outputs": [
    {
     "data": {
      "text/html": [
       "<div>\n",
       "<style scoped>\n",
       "    .dataframe tbody tr th:only-of-type {\n",
       "        vertical-align: middle;\n",
       "    }\n",
       "\n",
       "    .dataframe tbody tr th {\n",
       "        vertical-align: top;\n",
       "    }\n",
       "\n",
       "    .dataframe thead th {\n",
       "        text-align: right;\n",
       "    }\n",
       "</style>\n",
       "<table border=\"1\" class=\"dataframe\">\n",
       "  <thead>\n",
       "    <tr style=\"text-align: right;\">\n",
       "      <th></th>\n",
       "      <th>number_of_people</th>\n",
       "    </tr>\n",
       "  </thead>\n",
       "  <tbody>\n",
       "    <tr>\n",
       "      <th>11-13 anni</th>\n",
       "      <td>8.357349</td>\n",
       "    </tr>\n",
       "    <tr>\n",
       "      <th>14-15 anni</th>\n",
       "      <td>8.439687</td>\n",
       "    </tr>\n",
       "    <tr>\n",
       "      <th>16-17 anni</th>\n",
       "      <td>9.067517</td>\n",
       "    </tr>\n",
       "    <tr>\n",
       "      <th>18-19 anni</th>\n",
       "      <td>12.206669</td>\n",
       "    </tr>\n",
       "    <tr>\n",
       "      <th>20-24 anni</th>\n",
       "      <td>20.461095</td>\n",
       "    </tr>\n",
       "    <tr>\n",
       "      <th>25-29 anni</th>\n",
       "      <td>41.467682</td>\n",
       "    </tr>\n",
       "  </tbody>\n",
       "</table>\n",
       "</div>"
      ],
      "text/plain": [
       "            number_of_people\n",
       "11-13 anni          8.357349\n",
       "14-15 anni          8.439687\n",
       "16-17 anni          9.067517\n",
       "18-19 anni         12.206669\n",
       "20-24 anni         20.461095\n",
       "25-29 anni         41.467682"
      ]
     },
     "metadata": {},
     "output_type": "display_data"
    },
    {
     "data": {
      "image/png": "[encoded data removed]",
      "text/plain": [
       "<Figure size 640x480 with 1 Axes>"
      ]
     },
     "metadata": {},
     "output_type": "display_data"
    }
   ],
   "source": [
    "labels_eta = ['11-13 anni', '14-15 anni', '16-17 anni', '18-19 anni', '20-24 anni', '25-29 anni']\n",
    "eta_people = pd.value_counts(dati.ETAMi, ascending=True, dropna=True, normalize=True)\n",
    "plot_data= pd.DataFrame(\n",
    "    { 'number_of_people': eta_people.values*100},\n",
    "    index=labels_eta)\n",
    "display(plot_data)\n",
    "\n",
    "plt.barh(plot_data.index, plot_data['number_of_people'], color=palette[0])\n",
    "plt.title('Fascie di età')\n",
    "plt.grid(False)\n",
    "plt.show()"
   ]
  },
  {
   "cell_type": "code",
   "execution_count": 6,
   "id": "5a891407",
   "metadata": {},
   "outputs": [],
   "source": [
    "minorenni_sum = plot_data.loc['11-13 anni'].values[0] + plot_data.loc['14-15 anni'].values[0] + plot_data.loc['16-17 anni'].values[0]\n",
    "maggiorenni_sum=plot_data.loc['18-19 anni'].values[0] + plot_data.loc['20-24 anni'].values[0] + plot_data.loc['25-29 anni'].values[0]"
   ]
  },
  {
   "cell_type": "code",
   "execution_count": 7,
   "id": "9d01542b",
   "metadata": {},
   "outputs": [],
   "source": [
    "mag_min = pd.DataFrame({'somma_totale': [maggiorenni_sum, minorenni_sum]}, index=['Maggiorenni', 'Minorenni'])"
   ]
  },
  {
   "cell_type": "code",
   "execution_count": 8,
   "id": "d8ff6fee",
   "metadata": {},
   "outputs": [
    {
     "data": {
      "text/html": [
       "<div>\n",
       "<style scoped>\n",
       "    .dataframe tbody tr th:only-of-type {\n",
       "        vertical-align: middle;\n",
       "    }\n",
       "\n",
       "    .dataframe tbody tr th {\n",
       "        vertical-align: top;\n",
       "    }\n",
       "\n",
       "    .dataframe thead th {\n",
       "        text-align: right;\n",
       "    }\n",
       "</style>\n",
       "<table border=\"1\" class=\"dataframe\">\n",
       "  <thead>\n",
       "    <tr style=\"text-align: right;\">\n",
       "      <th></th>\n",
       "      <th>somma_totale</th>\n",
       "    </tr>\n",
       "  </thead>\n",
       "  <tbody>\n",
       "    <tr>\n",
       "      <th>Maggiorenni</th>\n",
       "      <td>74.135447</td>\n",
       "    </tr>\n",
       "    <tr>\n",
       "      <th>Minorenni</th>\n",
       "      <td>25.864553</td>\n",
       "    </tr>\n",
       "  </tbody>\n",
       "</table>\n",
       "</div>"
      ],
      "text/plain": [
       "             somma_totale\n",
       "Maggiorenni     74.135447\n",
       "Minorenni       25.864553"
      ]
     },
     "execution_count": 8,
     "metadata": {},
     "output_type": "execute_result"
    }
   ],
   "source": [
    "mag_min"
   ]
  },
  {
   "cell_type": "code",
   "execution_count": 9,
   "id": "2b1b4c66",
   "metadata": {},
   "outputs": [
    {
     "data": {
      "image/png": "[encoded data removed]",
      "text/plain": [
       "<Figure size 640x480 with 1 Axes>"
      ]
     },
     "metadata": {},
     "output_type": "display_data"
    }
   ],
   "source": [
    "explode=(0.02,0.02)\n",
    "plt.pie(mag_min['somma_totale'], labels = mag_min.index.tolist(),colors=palette, autopct='%.0f%%', explode=explode)\n",
    "plt.title('% di persone Minorenni e Maggiorenni intervistate')\n",
    "plt.show()"
   ]
  },
  {
   "cell_type": "code",
   "execution_count": 10,
   "id": "9c4bfe62",
   "metadata": {},
   "outputs": [
    {
     "data": {
      "image/png": "[encoded data removed]",
      "text/plain": [
       "<Figure size 640x480 with 1 Axes>"
      ]
     },
     "metadata": {},
     "output_type": "display_data"
    }
   ],
   "source": [
    "plt.bar(['Uomo', 'Donna'], dati['SESSO'].value_counts(normalize=True).values*100, color=[palette[0], 'pink'])\n",
    "plt.show()"
   ]
  },
  {
   "cell_type": "code",
   "execution_count": 11,
   "id": "6213ad41",
   "metadata": {},
   "outputs": [
    {
     "data": {
      "text/html": [
       "<div>\n",
       "<style scoped>\n",
       "    .dataframe tbody tr th:only-of-type {\n",
       "        vertical-align: middle;\n",
       "    }\n",
       "\n",
       "    .dataframe tbody tr th {\n",
       "        vertical-align: top;\n",
       "    }\n",
       "\n",
       "    .dataframe thead th {\n",
       "        text-align: right;\n",
       "    }\n",
       "</style>\n",
       "<table border=\"1\" class=\"dataframe\">\n",
       "  <thead>\n",
       "    <tr style=\"text-align: right;\">\n",
       "      <th>SESSO</th>\n",
       "      <th>1</th>\n",
       "      <th>2</th>\n",
       "    </tr>\n",
       "    <tr>\n",
       "      <th>ETAMi</th>\n",
       "      <th></th>\n",
       "      <th></th>\n",
       "    </tr>\n",
       "  </thead>\n",
       "  <tbody>\n",
       "    <tr>\n",
       "      <th>4</th>\n",
       "      <td>0.060107</td>\n",
       "      <td>0.061960</td>\n",
       "    </tr>\n",
       "    <tr>\n",
       "      <th>5</th>\n",
       "      <td>0.044977</td>\n",
       "      <td>0.045698</td>\n",
       "    </tr>\n",
       "    <tr>\n",
       "      <th>6</th>\n",
       "      <td>0.041787</td>\n",
       "      <td>0.041787</td>\n",
       "    </tr>\n",
       "    <tr>\n",
       "      <th>7</th>\n",
       "      <td>0.043022</td>\n",
       "      <td>0.041375</td>\n",
       "    </tr>\n",
       "    <tr>\n",
       "      <th>8</th>\n",
       "      <td>0.106319</td>\n",
       "      <td>0.098291</td>\n",
       "    </tr>\n",
       "    <tr>\n",
       "      <th>9</th>\n",
       "      <td>0.208213</td>\n",
       "      <td>0.206464</td>\n",
       "    </tr>\n",
       "  </tbody>\n",
       "</table>\n",
       "</div>"
      ],
      "text/plain": [
       "SESSO         1         2\n",
       "ETAMi                    \n",
       "4      0.060107  0.061960\n",
       "5      0.044977  0.045698\n",
       "6      0.041787  0.041787\n",
       "7      0.043022  0.041375\n",
       "8      0.106319  0.098291\n",
       "9      0.208213  0.206464"
      ]
     },
     "metadata": {},
     "output_type": "display_data"
    },
    {
     "name": "stdout",
     "output_type": "stream",
     "text": [
      "[0.04497736 0.04569782]\n"
     ]
    },
    {
     "data": {
      "image/png": "[encoded data removed]",
      "text/plain": [
       "<Figure size 640x480 with 1 Axes>"
      ]
     },
     "metadata": {},
     "output_type": "display_data"
    }
   ],
   "source": [
    "dati[['SESSO', 'ETAMi']]\n",
    "sesso_eta= pd.crosstab( dati['ETAMi'], dati['SESSO'],normalize=True)\n",
    "display(sesso_eta)\n",
    "#plt.barh(['Maschi', 'Femmine'], sesso_eta[4].values)\n",
    "#plt.show()\n",
    "print(sesso_eta.values[1])\n",
    "\n",
    "x = np.arange(6)  # the label locations\n",
    "width = 0.35  # the width of the bars\n",
    "\n",
    "fig, ax = plt.subplots()\n",
    "\n",
    "ax.barh(x - width/2, sesso_eta[1].values*100, width, label='Uomo', color=palette[0])\n",
    "ax.barh(x + width/2,sesso_eta[2].values*100, width, label='Donna', color='pink')\n",
    "\n",
    "\n",
    "ax.set_yticks(x, labels_eta)\n",
    "ax.legend()\n",
    "\n",
    "\n",
    "plt.show()\n",
    "#sesso_eta.plot.barh(labels=labels_eta , color=[palette[0], 'pink'])"
   ]
  },
  {
   "cell_type": "markdown",
   "id": "64bc8e12",
   "metadata": {},
   "source": [
    "BIRRA- VINO: \n",
    "* 1: 1 l/day \n",
    "* 2: da 1/2 a 1 l /giorno,\n",
    "* 3: \t1-2 bicchieri al giorno,\n",
    "* 4: raramente ,\n",
    "* 5: stagionalmente ,\n",
    "* 6: non ne consuma\n",
    "\n",
    "BICBIRRAM- BICCVINO: corrispondenza 1 a 1, 06-> 6 e più \n",
    "* 1 bicchiere di birra: 330ml, \n",
    "* 1 bicchiere di vino: 125ml\n",
    "\n",
    "BFPAS:  bicchiere di vino o alcool bevuti fuori dai pasti occasionalmente\n",
    "* 1\ttutti i giorni\t \t\n",
    "* 2\tqualche volta alla settimana\t \t\n",
    "* 3\traramente\n",
    "* 4\tmai\t \t\n",
    "\n",
    "BICFUORIM: bicchiere di vino o alcool bevuti fuori dai pasti abitualmente\n",
    "* 01\t01\t \t\n",
    "* 02\t02\t \t\n",
    "* 03\t03\t \t\n",
    "* 04\t04\t \t\n",
    "* 05\t05\t \t\n",
    "* 06\t06\t \t\n",
    "* 07\t07\t \t\n",
    "* 08\t08\t \t\n",
    "* 09\t09\t \t\n",
    "* 10\t10 - 20\t \t\n",
    "* 11\t21 e piu'\n",
    "\n",
    "ALCOL: abitualmente aperitivi alcolici assunti\n",
    "* 1\tpiu di 2 bicchierini al giorno\t \t\t\n",
    "* 2\t1-2 bicchierini al giorno\t \t\n",
    "* 3\tqualche bicchierino alla settimana\t \t\n",
    "* 4\tpiu raramente\t \t\t\n",
    "* 5\teccezionalmente\t \t\n",
    "* 6\tnon ne consumo\t \t\n",
    "\n",
    "AMAR: consuma abitualmente amari\n",
    "* uguale a prima\n",
    "\n",
    "LIQUOR: consuma abitualmente superalcolici\n",
    "* uguale a prima\n",
    "\n",
    "BICALTROM: numero di bicchieri al giorno di aperitivi alcolici, amari o superalcolici\n",
    "* 01\t1\t \t\n",
    "* 02\t2\t \t\n",
    "* 03\t3\t \t\n",
    "* 04\t4 - 5\t \t\n",
    "* 05\t6 e piu'\n",
    "\n",
    "ALCOL12:Consumo di bevande alcoliche negli ultimi 12 mesi\n",
    "* 1\tSi\n",
    "* 2\tNo, ma ne ho consumato in passato\t \t\n",
    "* 3\tNo, non ne consumo\n",
    "\n",
    "DOVCASP: almeno 6 bicchieri di alcol a casa propria\n",
    "* 1: si\n",
    "\n",
    "DOVRISTO: ristorante\n",
    "* 2:si\n",
    "\n",
    "DOVPUB: pub/birreria\n",
    "* 3:si\n",
    "\n",
    "DOVDISCO: discoteca\n",
    "* 4:si\n",
    "\n",
    "DOVSTR: strada\n",
    "* 5: si\n",
    "\n",
    "DOVALT: altro luogo\n",
    "* 6: si"
   ]
  },
  {
   "cell_type": "markdown",
   "id": "d5d28ac6",
   "metadata": {},
   "source": [
    "### BIRRA"
   ]
  },
  {
   "cell_type": "code",
   "execution_count": 12,
   "id": "61abe800",
   "metadata": {},
   "outputs": [
    {
     "data": {
      "text/plain": [
       "6.0    0.509763\n",
       "4.0    0.339250\n",
       "5.0    0.096168\n",
       "3.0    0.045526\n",
       "2.0    0.006892\n",
       "1.0    0.002402\n",
       "Name: BIRRA, dtype: float64"
      ]
     },
     "execution_count": 12,
     "metadata": {},
     "output_type": "execute_result"
    }
   ],
   "source": [
    "birra_vis = dati['BIRRA'].value_counts(normalize=True)\n",
    "birra_vis"
   ]
  },
  {
   "cell_type": "code",
   "execution_count": 13,
   "id": "968a9291",
   "metadata": {
    "scrolled": true
   },
   "outputs": [],
   "source": [
    "labels_birra=['1 L/giorno', 'da 1/2 a 1 L /giorno','1-2 bicchieri al giorno', 'raramente', 'stagionalmente', 'non ne consuma']\n",
    "labels_birra.reverse()"
   ]
  },
  {
   "cell_type": "code",
   "execution_count": 14,
   "id": "9365008b",
   "metadata": {},
   "outputs": [
    {
     "data": {
      "image/png": "[encoded data removed]",
      "text/plain": [
       "<Figure size 640x480 with 1 Axes>"
      ]
     },
     "metadata": {},
     "output_type": "display_data"
    }
   ],
   "source": [
    "female_birra=dati[dati['SESSO']==2]['BIRRA'].value_counts(normalize=True)\n",
    "graph = plt.barh(labels_birra, female_birra.values*100, color='#dfb400')\n",
    "\n",
    "i = 0\n",
    "for p in graph:\n",
    "    width = p.get_width()\n",
    "    height = p.get_height()\n",
    "    x, y = p.get_xy()\n",
    "    if round(female_birra.values[i]*100) ==0:\n",
    "        s= '< 1%'\n",
    "    else:\n",
    "        s= str(round(female_birra.values[i]*100))+'%'\n",
    "    plt.text(x + width/2, y+height/2, s ,ha='left',weight='light')\n",
    "    i+=1\n",
    "plt.title(\"% di Birra bevuta da femmine\")\n",
    "plt.grid(False)\n",
    "plt.show()"
   ]
  },
  {
   "cell_type": "code",
   "execution_count": 15,
   "id": "8d04488b",
   "metadata": {},
   "outputs": [
    {
     "ename": "NameError",
     "evalue": "name 'birra' is not defined",
     "output_type": "error",
     "traceback": [
      "\u001b[0;31m---------------------------------------------------------------------------\u001b[0m",
      "\u001b[0;31mNameError\u001b[0m                                 Traceback (most recent call last)",
      "Cell \u001b[0;32mIn [15], line 1\u001b[0m\n\u001b[0;32m----> 1\u001b[0m \u001b[43mbirra\u001b[49m[[\u001b[38;5;124m'\u001b[39m\u001b[38;5;124mSESSO\u001b[39m\u001b[38;5;124m'\u001b[39m, \u001b[38;5;124m'\u001b[39m\u001b[38;5;124mBIRRA\u001b[39m\u001b[38;5;124m'\u001b[39m]]\u001b[38;5;241m.\u001b[39mvalue_counts()\n",
      "\u001b[0;31mNameError\u001b[0m: name 'birra' is not defined"
     ]
    }
   ],
   "source": [
    "birra[['SESSO', 'BIRRA']].value_counts()"
   ]
  },
  {
   "cell_type": "code",
   "execution_count": 484,
   "id": "16935e9b",
   "metadata": {},
   "outputs": [
    {
     "data": {
      "text/plain": [
       "BIRRA\n",
       "1.0      27\n",
       "2.0      74\n",
       "3.0     524\n",
       "4.0    4601\n",
       "5.0    1369\n",
       "6.0    7735\n",
       "Name: SESSO, dtype: int64"
      ]
     },
     "execution_count": 484,
     "metadata": {},
     "output_type": "execute_result"
    }
   ],
   "source": [
    "birra.groupby(by='BIRRA')['SESSO'].sum()/birra.groupby(by='BIRRA')['SESSO'].sum()"
   ]
  },
  {
   "cell_type": "code",
   "execution_count": 490,
   "id": "2f1981bc",
   "metadata": {},
   "outputs": [
    {
     "data": {
      "text/html": [
       "<div>\n",
       "<style scoped>\n",
       "    .dataframe tbody tr th:only-of-type {\n",
       "        vertical-align: middle;\n",
       "    }\n",
       "\n",
       "    .dataframe tbody tr th {\n",
       "        vertical-align: top;\n",
       "    }\n",
       "\n",
       "    .dataframe thead th {\n",
       "        text-align: right;\n",
       "    }\n",
       "</style>\n",
       "<table border=\"1\" class=\"dataframe\">\n",
       "  <thead>\n",
       "    <tr style=\"text-align: right;\">\n",
       "      <th>SESSO</th>\n",
       "      <th>1</th>\n",
       "      <th>2</th>\n",
       "    </tr>\n",
       "    <tr>\n",
       "      <th>BIRRA</th>\n",
       "      <th></th>\n",
       "      <th></th>\n",
       "    </tr>\n",
       "  </thead>\n",
       "  <tbody>\n",
       "    <tr>\n",
       "      <th>1.0</th>\n",
       "      <td>0.001984</td>\n",
       "      <td>0.000418</td>\n",
       "    </tr>\n",
       "    <tr>\n",
       "      <th>2.0</th>\n",
       "      <td>0.006056</td>\n",
       "      <td>0.000835</td>\n",
       "    </tr>\n",
       "    <tr>\n",
       "      <th>3.0</th>\n",
       "      <td>0.036337</td>\n",
       "      <td>0.009189</td>\n",
       "    </tr>\n",
       "    <tr>\n",
       "      <th>4.0</th>\n",
       "      <td>0.198079</td>\n",
       "      <td>0.141172</td>\n",
       "    </tr>\n",
       "    <tr>\n",
       "      <th>5.0</th>\n",
       "      <td>0.049389</td>\n",
       "      <td>0.046779</td>\n",
       "    </tr>\n",
       "    <tr>\n",
       "      <th>6.0</th>\n",
       "      <td>0.211862</td>\n",
       "      <td>0.297901</td>\n",
       "    </tr>\n",
       "  </tbody>\n",
       "</table>\n",
       "</div>"
      ],
      "text/plain": [
       "SESSO         1         2\n",
       "BIRRA                    \n",
       "1.0    0.001984  0.000418\n",
       "2.0    0.006056  0.000835\n",
       "3.0    0.036337  0.009189\n",
       "4.0    0.198079  0.141172\n",
       "5.0    0.049389  0.046779\n",
       "6.0    0.211862  0.297901"
      ]
     },
     "execution_count": 490,
     "metadata": {},
     "output_type": "execute_result"
    }
   ],
   "source": [
    "df=pd.crosstab(birra['BIRRA'], birra['SESSO'], normalize=True)\n",
    "df"
   ]
  },
  {
   "cell_type": "code",
   "execution_count": 17,
   "id": "5bcfcb1d",
   "metadata": {},
   "outputs": [
    {
     "data": {
      "image/png": "[encoded data removed]",
      "text/plain": [
       "<Figure size 640x480 with 1 Axes>"
      ]
     },
     "metadata": {},
     "output_type": "display_data"
    }
   ],
   "source": [
    "male_birra=dati[dati['SESSO']==1]['BIRRA'].value_counts(normalize=True)\n",
    "female_birra=dati[dati['SESSO']==2]['BIRRA'].value_counts(normalize=True)\n",
    "\n",
    "df = pd.DataFrame(dict(Donna=female_birra.values*100, Uomo=male_birra.values*100), index= labels_birra) \n",
    "graph= df.plot.barh(width= 0.8, color=['#c96e12', '#dfb400'])\n",
    "i = 0\n",
    "s=''\n",
    "for p in graph.patches:    \n",
    "    width = p.get_width()\n",
    "    height = p.get_height()\n",
    "    x, y = p.get_xy()\n",
    "    if round(width)==0:\n",
    "        s='< 1%'\n",
    "    else:\n",
    "        s=str(round(width)) + '%'\n",
    "    plt.text(x + width, y+height/2, s ,ha='left',weight='light')\n",
    "    i+=1\n",
    "plt.title(\"Suddivisione assunzione di birra tra maschi e femmine\")\n",
    "plt.grid(False)\n",
    "plt.show()"
   ]
  },
  {
   "cell_type": "code",
   "execution_count": 28,
   "id": "510c5ac2",
   "metadata": {},
   "outputs": [
    {
     "data": {
      "text/plain": [
       "6.0    0.420605\n",
       "4.0    0.393242\n",
       "5.0    0.098051\n",
       "3.0    0.072139\n",
       "2.0    0.012023\n",
       "1.0    0.003939\n",
       "Name: BIRRA, dtype: float64"
      ]
     },
     "metadata": {},
     "output_type": "display_data"
    },
    {
     "data": {
      "image/png": "[encoded data removed]",
      "text/plain": [
       "<Figure size 640x480 with 1 Axes>"
      ]
     },
     "metadata": {},
     "output_type": "display_data"
    }
   ],
   "source": [
    "\n",
    "display(male_birra)\n",
    "graph = plt.barh(labels_birra, male_birra.values*100, color='#dfb400')\n",
    "\n",
    "i = 0\n",
    "for p in graph:\n",
    "    width = p.get_width()\n",
    "    height = p.get_height()\n",
    "    x, y = p.get_xy()\n",
    "    if round(male_birra.values[i]*100) ==0:\n",
    "        s= '< 1%'\n",
    "    else:\n",
    "        s= str(round(male_birra.values[i]*100))+'%'\n",
    "    plt.text(x + width/2, y+height/2, s ,ha='left',weight='light')\n",
    "    i+=1\n",
    "    \n",
    "plt.title(\"% di Birra bevuta da uomini\")\n",
    "plt.grid(False)\n",
    "plt.show()"
   ]
  },
  {
   "cell_type": "code",
   "execution_count": 18,
   "id": "050edcb0",
   "metadata": {},
   "outputs": [
    {
     "data": {
      "text/html": [
       "<div>\n",
       "<style scoped>\n",
       "    .dataframe tbody tr th:only-of-type {\n",
       "        vertical-align: middle;\n",
       "    }\n",
       "\n",
       "    .dataframe tbody tr th {\n",
       "        vertical-align: top;\n",
       "    }\n",
       "\n",
       "    .dataframe thead th {\n",
       "        text-align: right;\n",
       "    }\n",
       "</style>\n",
       "<table border=\"1\" class=\"dataframe\">\n",
       "  <thead>\n",
       "    <tr style=\"text-align: right;\">\n",
       "      <th></th>\n",
       "      <th>SESSO</th>\n",
       "      <th>ETAMi</th>\n",
       "      <th>BIRRA</th>\n",
       "      <th>BICBIRRAM</th>\n",
       "    </tr>\n",
       "  </thead>\n",
       "  <tbody>\n",
       "    <tr>\n",
       "      <th>0</th>\n",
       "      <td>2</td>\n",
       "      <td>9</td>\n",
       "      <td>6.0</td>\n",
       "      <td>NaN</td>\n",
       "    </tr>\n",
       "    <tr>\n",
       "      <th>1</th>\n",
       "      <td>1</td>\n",
       "      <td>9</td>\n",
       "      <td>1.0</td>\n",
       "      <td>4.0</td>\n",
       "    </tr>\n",
       "    <tr>\n",
       "      <th>2</th>\n",
       "      <td>2</td>\n",
       "      <td>9</td>\n",
       "      <td>6.0</td>\n",
       "      <td>NaN</td>\n",
       "    </tr>\n",
       "    <tr>\n",
       "      <th>3</th>\n",
       "      <td>2</td>\n",
       "      <td>8</td>\n",
       "      <td>6.0</td>\n",
       "      <td>NaN</td>\n",
       "    </tr>\n",
       "    <tr>\n",
       "      <th>4</th>\n",
       "      <td>2</td>\n",
       "      <td>7</td>\n",
       "      <td>6.0</td>\n",
       "      <td>NaN</td>\n",
       "    </tr>\n",
       "    <tr>\n",
       "      <th>...</th>\n",
       "      <td>...</td>\n",
       "      <td>...</td>\n",
       "      <td>...</td>\n",
       "      <td>...</td>\n",
       "    </tr>\n",
       "    <tr>\n",
       "      <th>9711</th>\n",
       "      <td>2</td>\n",
       "      <td>9</td>\n",
       "      <td>6.0</td>\n",
       "      <td>NaN</td>\n",
       "    </tr>\n",
       "    <tr>\n",
       "      <th>9712</th>\n",
       "      <td>1</td>\n",
       "      <td>9</td>\n",
       "      <td>2.0</td>\n",
       "      <td>3.0</td>\n",
       "    </tr>\n",
       "    <tr>\n",
       "      <th>9713</th>\n",
       "      <td>1</td>\n",
       "      <td>8</td>\n",
       "      <td>4.0</td>\n",
       "      <td>NaN</td>\n",
       "    </tr>\n",
       "    <tr>\n",
       "      <th>9714</th>\n",
       "      <td>1</td>\n",
       "      <td>9</td>\n",
       "      <td>4.0</td>\n",
       "      <td>NaN</td>\n",
       "    </tr>\n",
       "    <tr>\n",
       "      <th>9715</th>\n",
       "      <td>1</td>\n",
       "      <td>9</td>\n",
       "      <td>5.0</td>\n",
       "      <td>NaN</td>\n",
       "    </tr>\n",
       "  </tbody>\n",
       "</table>\n",
       "<p>9716 rows × 4 columns</p>\n",
       "</div>"
      ],
      "text/plain": [
       "      SESSO  ETAMi  BIRRA  BICBIRRAM\n",
       "0         2      9    6.0        NaN\n",
       "1         1      9    1.0        4.0\n",
       "2         2      9    6.0        NaN\n",
       "3         2      8    6.0        NaN\n",
       "4         2      7    6.0        NaN\n",
       "...     ...    ...    ...        ...\n",
       "9711      2      9    6.0        NaN\n",
       "9712      1      9    2.0        3.0\n",
       "9713      1      8    4.0        NaN\n",
       "9714      1      9    4.0        NaN\n",
       "9715      1      9    5.0        NaN\n",
       "\n",
       "[9716 rows x 4 columns]"
      ]
     },
     "execution_count": 18,
     "metadata": {},
     "output_type": "execute_result"
    }
   ],
   "source": [
    "birra = dati[['SESSO', 'ETAMi', 'BIRRA', 'BICBIRRAM']]\n",
    "birra"
   ]
  },
  {
   "cell_type": "code",
   "execution_count": 22,
   "id": "a3b597e5",
   "metadata": {},
   "outputs": [
    {
     "data": {
      "text/plain": [
       "non ne consuma             60.025247\n",
       "stagionalmente             28.445193\n",
       "raramente                   9.425626\n",
       "1-2 bicchieri al giorno     1.851462\n",
       "da 1/2 a 1 L /giorno        0.168315\n",
       "1 L/giorno                  0.084157\n",
       "Name: Donna, dtype: float64"
      ]
     },
     "metadata": {},
     "output_type": "display_data"
    },
    {
     "data": {
      "image/png": "[encoded data removed]",
      "text/plain": [
       "<Figure size 640x480 with 1 Axes>"
      ]
     },
     "metadata": {},
     "output_type": "display_data"
    }
   ],
   "source": [
    "#ind + width\n",
    "\n",
    "\n",
    "display(df.Donna)\n",
    "\n",
    "ind = np.arange(6)\n",
    "width_bar = 0.4\n",
    "\n",
    "fig, ax = plt.subplots()\n",
    "\n",
    "graph= ax.barh(ind , df.Uomo, width_bar, color='#dfb400')\n",
    "graph2= ax.barh(ind+ width, df.Donna, width_bar, color='#c96e12')\n",
    "\n",
    "\n",
    "i = 0\n",
    "for p in graph:\n",
    "    width = p.get_width()\n",
    "    height = p.get_height()\n",
    "    x, y = p.get_xy()\n",
    "    if round(male_birra.values[i]*100) ==0:\n",
    "        s= '< 1%'\n",
    "    else:\n",
    "        s= str(round(male_birra.values[i]*100))+'%'\n",
    "    plt.text(x + width/2, y+height/2, s ,ha='left',weight='light')\n",
    "    i+=1\n",
    "\n",
    "i = 0\n",
    "for p in graph2:\n",
    "    width = p.get_width()\n",
    "    height = p.get_height()\n",
    "    x, y = p.get_xy()\n",
    "    if round(female_birra.values[i]*100) ==0:\n",
    "        s= '< 1%'\n",
    "    else:\n",
    "        s= str(round(female_birra.values[i]*100))+'%'\n",
    "    plt.text(x + width/2, y+height/2, s ,ha='left',weight='light')\n",
    "    i+=1\n",
    "\n",
    "plt.title(\"% di Birra bevuta da uomini\")\n",
    "plt.grid(False)\n",
    "plt.show()\n",
    "\n"
   ]
  },
  {
   "cell_type": "code",
   "execution_count": 32,
   "id": "3859b1da",
   "metadata": {},
   "outputs": [
    {
     "ename": "TypeError",
     "evalue": "crosstab() got an unexpected keyword argument 'y'",
     "output_type": "error",
     "traceback": [
      "\u001b[0;31m---------------------------------------------------------------------------\u001b[0m",
      "\u001b[0;31mTypeError\u001b[0m                                 Traceback (most recent call last)",
      "Cell \u001b[0;32mIn [32], line 1\u001b[0m\n\u001b[0;32m----> 1\u001b[0m \u001b[43mpd\u001b[49m\u001b[38;5;241;43m.\u001b[39;49m\u001b[43mcrosstab\u001b[49m\u001b[43m(\u001b[49m\u001b[43mbirra\u001b[49m\u001b[43m[\u001b[49m\u001b[38;5;124;43m'\u001b[39;49m\u001b[38;5;124;43mETAMi\u001b[39;49m\u001b[38;5;124;43m'\u001b[39;49m\u001b[43m]\u001b[49m\u001b[43m,\u001b[49m\u001b[43m \u001b[49m\u001b[43my\u001b[49m\u001b[38;5;241;43m=\u001b[39;49m\u001b[38;5;124;43m'\u001b[39;49m\u001b[38;5;124;43mBIRRA\u001b[39;49m\u001b[38;5;124;43m'\u001b[39;49m\u001b[43m,\u001b[49m\u001b[43m \u001b[49m\u001b[43mdata\u001b[49m\u001b[43m \u001b[49m\u001b[38;5;241;43m=\u001b[39;49m\u001b[43m \u001b[49m\u001b[43mdati\u001b[49m\u001b[43m,\u001b[49m\u001b[43m \u001b[49m\u001b[43mfit_reg\u001b[49m\u001b[43m \u001b[49m\u001b[38;5;241;43m=\u001b[39;49m\u001b[43m \u001b[49m\u001b[38;5;28;43;01mFalse\u001b[39;49;00m\u001b[43m,\u001b[49m\u001b[43m  \u001b[49m\u001b[43mhue\u001b[49m\u001b[38;5;241;43m=\u001b[39;49m\u001b[38;5;124;43m'\u001b[39;49m\u001b[38;5;124;43mSESSO\u001b[39;49m\u001b[38;5;124;43m'\u001b[39;49m\u001b[43m)\u001b[49m\n",
      "\u001b[0;31mTypeError\u001b[0m: crosstab() got an unexpected keyword argument 'y'"
     ]
    }
   ],
   "source": [
    "pd.crosstab(birra['ETAMi'], y='BIRRA', data = dati, fit_reg = False,  hue='SESSO')"
   ]
  },
  {
   "cell_type": "code",
   "execution_count": 23,
   "id": "146d4cee",
   "metadata": {},
   "outputs": [
    {
     "data": {
      "text/html": [
       "<div>\n",
       "<style scoped>\n",
       "    .dataframe tbody tr th:only-of-type {\n",
       "        vertical-align: middle;\n",
       "    }\n",
       "\n",
       "    .dataframe tbody tr th {\n",
       "        vertical-align: top;\n",
       "    }\n",
       "\n",
       "    .dataframe thead th {\n",
       "        text-align: right;\n",
       "    }\n",
       "</style>\n",
       "<table border=\"1\" class=\"dataframe\">\n",
       "  <thead>\n",
       "    <tr style=\"text-align: right;\">\n",
       "      <th></th>\n",
       "      <th>SESSO</th>\n",
       "      <th>ETAMi</th>\n",
       "      <th>BIRRA</th>\n",
       "      <th>BICBIRRAM</th>\n",
       "    </tr>\n",
       "  </thead>\n",
       "  <tbody>\n",
       "    <tr>\n",
       "      <th>1</th>\n",
       "      <td>1</td>\n",
       "      <td>9</td>\n",
       "      <td>1.0</td>\n",
       "      <td>4.0</td>\n",
       "    </tr>\n",
       "    <tr>\n",
       "      <th>22</th>\n",
       "      <td>1</td>\n",
       "      <td>9</td>\n",
       "      <td>3.0</td>\n",
       "      <td>1.0</td>\n",
       "    </tr>\n",
       "    <tr>\n",
       "      <th>60</th>\n",
       "      <td>1</td>\n",
       "      <td>9</td>\n",
       "      <td>3.0</td>\n",
       "      <td>1.0</td>\n",
       "    </tr>\n",
       "    <tr>\n",
       "      <th>61</th>\n",
       "      <td>2</td>\n",
       "      <td>9</td>\n",
       "      <td>3.0</td>\n",
       "      <td>1.0</td>\n",
       "    </tr>\n",
       "    <tr>\n",
       "      <th>116</th>\n",
       "      <td>2</td>\n",
       "      <td>9</td>\n",
       "      <td>3.0</td>\n",
       "      <td>1.0</td>\n",
       "    </tr>\n",
       "    <tr>\n",
       "      <th>...</th>\n",
       "      <td>...</td>\n",
       "      <td>...</td>\n",
       "      <td>...</td>\n",
       "      <td>...</td>\n",
       "    </tr>\n",
       "    <tr>\n",
       "      <th>9617</th>\n",
       "      <td>1</td>\n",
       "      <td>9</td>\n",
       "      <td>2.0</td>\n",
       "      <td>3.0</td>\n",
       "    </tr>\n",
       "    <tr>\n",
       "      <th>9629</th>\n",
       "      <td>1</td>\n",
       "      <td>9</td>\n",
       "      <td>3.0</td>\n",
       "      <td>1.0</td>\n",
       "    </tr>\n",
       "    <tr>\n",
       "      <th>9630</th>\n",
       "      <td>1</td>\n",
       "      <td>7</td>\n",
       "      <td>1.0</td>\n",
       "      <td>5.0</td>\n",
       "    </tr>\n",
       "    <tr>\n",
       "      <th>9708</th>\n",
       "      <td>1</td>\n",
       "      <td>9</td>\n",
       "      <td>3.0</td>\n",
       "      <td>1.0</td>\n",
       "    </tr>\n",
       "    <tr>\n",
       "      <th>9712</th>\n",
       "      <td>1</td>\n",
       "      <td>9</td>\n",
       "      <td>2.0</td>\n",
       "      <td>3.0</td>\n",
       "    </tr>\n",
       "  </tbody>\n",
       "</table>\n",
       "<p>525 rows × 4 columns</p>\n",
       "</div>"
      ],
      "text/plain": [
       "      SESSO  ETAMi  BIRRA  BICBIRRAM\n",
       "1         1      9    1.0        4.0\n",
       "22        1      9    3.0        1.0\n",
       "60        1      9    3.0        1.0\n",
       "61        2      9    3.0        1.0\n",
       "116       2      9    3.0        1.0\n",
       "...     ...    ...    ...        ...\n",
       "9617      1      9    2.0        3.0\n",
       "9629      1      9    3.0        1.0\n",
       "9630      1      7    1.0        5.0\n",
       "9708      1      9    3.0        1.0\n",
       "9712      1      9    2.0        3.0\n",
       "\n",
       "[525 rows x 4 columns]"
      ]
     },
     "execution_count": 23,
     "metadata": {},
     "output_type": "execute_result"
    }
   ],
   "source": [
    "si_birra= birra[birra['BIRRA']<4]\n",
    "si_birra"
   ]
  },
  {
   "cell_type": "code",
   "execution_count": 24,
   "id": "94841e63",
   "metadata": {},
   "outputs": [
    {
     "data": {
      "text/plain": [
       "ETAMi\n",
       "4    5.974913\n",
       "5    5.801843\n",
       "6    5.418114\n",
       "7    4.954377\n",
       "8    4.762341\n",
       "9    4.701587\n",
       "Name: BIRRA, dtype: float64"
      ]
     },
     "metadata": {},
     "output_type": "display_data"
    },
    {
     "data": {
      "image/png": "[encoded data removed]",
      "text/plain": [
       "<Figure size 640x480 with 2 Axes>"
      ]
     },
     "metadata": {},
     "output_type": "display_data"
    }
   ],
   "source": [
    "ax, fig = plt.subplots(1,2,sharex=True, sharey=True)\n",
    "display(dati.groupby(by='ETAMi')['BIRRA'].mean())"
   ]
  },
  {
   "cell_type": "code",
   "execution_count": 25,
   "id": "c981cc3f",
   "metadata": {},
   "outputs": [
    {
     "data": {
      "text/html": [
       "<div>\n",
       "<style scoped>\n",
       "    .dataframe tbody tr th:only-of-type {\n",
       "        vertical-align: middle;\n",
       "    }\n",
       "\n",
       "    .dataframe tbody tr th {\n",
       "        vertical-align: top;\n",
       "    }\n",
       "\n",
       "    .dataframe thead th {\n",
       "        text-align: right;\n",
       "    }\n",
       "</style>\n",
       "<table border=\"1\" class=\"dataframe\">\n",
       "  <thead>\n",
       "    <tr style=\"text-align: right;\">\n",
       "      <th>BICBIRRAM</th>\n",
       "      <th>1.0</th>\n",
       "      <th>2.0</th>\n",
       "      <th>3.0</th>\n",
       "      <th>4.0</th>\n",
       "      <th>5.0</th>\n",
       "      <th>6.0</th>\n",
       "    </tr>\n",
       "    <tr>\n",
       "      <th>ETAMi</th>\n",
       "      <th></th>\n",
       "      <th></th>\n",
       "      <th></th>\n",
       "      <th></th>\n",
       "      <th></th>\n",
       "      <th></th>\n",
       "    </tr>\n",
       "  </thead>\n",
       "  <tbody>\n",
       "    <tr>\n",
       "      <th>4</th>\n",
       "      <td>0.000000</td>\n",
       "      <td>0.001905</td>\n",
       "      <td>0.000000</td>\n",
       "      <td>0.000000</td>\n",
       "      <td>0.000000</td>\n",
       "      <td>0.000000</td>\n",
       "    </tr>\n",
       "    <tr>\n",
       "      <th>5</th>\n",
       "      <td>0.009524</td>\n",
       "      <td>0.000000</td>\n",
       "      <td>0.000000</td>\n",
       "      <td>0.000000</td>\n",
       "      <td>0.000000</td>\n",
       "      <td>0.000000</td>\n",
       "    </tr>\n",
       "    <tr>\n",
       "      <th>6</th>\n",
       "      <td>0.011429</td>\n",
       "      <td>0.005714</td>\n",
       "      <td>0.003810</td>\n",
       "      <td>0.000000</td>\n",
       "      <td>0.000000</td>\n",
       "      <td>0.000000</td>\n",
       "    </tr>\n",
       "    <tr>\n",
       "      <th>7</th>\n",
       "      <td>0.055238</td>\n",
       "      <td>0.017143</td>\n",
       "      <td>0.001905</td>\n",
       "      <td>0.000000</td>\n",
       "      <td>0.001905</td>\n",
       "      <td>0.001905</td>\n",
       "    </tr>\n",
       "    <tr>\n",
       "      <th>8</th>\n",
       "      <td>0.180952</td>\n",
       "      <td>0.045714</td>\n",
       "      <td>0.013333</td>\n",
       "      <td>0.007619</td>\n",
       "      <td>0.003810</td>\n",
       "      <td>0.001905</td>\n",
       "    </tr>\n",
       "    <tr>\n",
       "      <th>9</th>\n",
       "      <td>0.420952</td>\n",
       "      <td>0.131429</td>\n",
       "      <td>0.059048</td>\n",
       "      <td>0.009524</td>\n",
       "      <td>0.001905</td>\n",
       "      <td>0.013333</td>\n",
       "    </tr>\n",
       "  </tbody>\n",
       "</table>\n",
       "</div>"
      ],
      "text/plain": [
       "BICBIRRAM       1.0       2.0       3.0       4.0       5.0       6.0\n",
       "ETAMi                                                                \n",
       "4          0.000000  0.001905  0.000000  0.000000  0.000000  0.000000\n",
       "5          0.009524  0.000000  0.000000  0.000000  0.000000  0.000000\n",
       "6          0.011429  0.005714  0.003810  0.000000  0.000000  0.000000\n",
       "7          0.055238  0.017143  0.001905  0.000000  0.001905  0.001905\n",
       "8          0.180952  0.045714  0.013333  0.007619  0.003810  0.001905\n",
       "9          0.420952  0.131429  0.059048  0.009524  0.001905  0.013333"
      ]
     },
     "execution_count": 25,
     "metadata": {},
     "output_type": "execute_result"
    }
   ],
   "source": [
    " pd.crosstab(dati[dati['BIRRA']<4]['ETAMi'],dati[dati['BIRRA']<4]['BICBIRRAM'], normalize=True)"
   ]
  },
  {
   "cell_type": "code",
   "execution_count": 73,
   "id": "2d6fdf19",
   "metadata": {},
   "outputs": [
    {
     "data": {
      "text/html": [
       "<div>\n",
       "<style scoped>\n",
       "    .dataframe tbody tr th:only-of-type {\n",
       "        vertical-align: middle;\n",
       "    }\n",
       "\n",
       "    .dataframe tbody tr th {\n",
       "        vertical-align: top;\n",
       "    }\n",
       "\n",
       "    .dataframe thead th {\n",
       "        text-align: right;\n",
       "    }\n",
       "</style>\n",
       "<table border=\"1\" class=\"dataframe\">\n",
       "  <thead>\n",
       "    <tr style=\"text-align: right;\">\n",
       "      <th></th>\n",
       "      <th>ETAMi</th>\n",
       "      <th>BICBIRRAM</th>\n",
       "    </tr>\n",
       "  </thead>\n",
       "  <tbody>\n",
       "    <tr>\n",
       "      <th>0</th>\n",
       "      <td>4</td>\n",
       "      <td>2.0</td>\n",
       "    </tr>\n",
       "    <tr>\n",
       "      <th>1</th>\n",
       "      <td>5</td>\n",
       "      <td>5.0</td>\n",
       "    </tr>\n",
       "    <tr>\n",
       "      <th>2</th>\n",
       "      <td>6</td>\n",
       "      <td>18.0</td>\n",
       "    </tr>\n",
       "    <tr>\n",
       "      <th>3</th>\n",
       "      <td>7</td>\n",
       "      <td>61.0</td>\n",
       "    </tr>\n",
       "    <tr>\n",
       "      <th>4</th>\n",
       "      <td>8</td>\n",
       "      <td>196.0</td>\n",
       "    </tr>\n",
       "    <tr>\n",
       "      <th>5</th>\n",
       "      <td>9</td>\n",
       "      <td>519.0</td>\n",
       "    </tr>\n",
       "  </tbody>\n",
       "</table>\n",
       "</div>"
      ],
      "text/plain": [
       "   ETAMi  BICBIRRAM\n",
       "0      4        2.0\n",
       "1      5        5.0\n",
       "2      6       18.0\n",
       "3      7       61.0\n",
       "4      8      196.0\n",
       "5      9      519.0"
      ]
     },
     "metadata": {},
     "output_type": "display_data"
    },
    {
     "data": {
      "image/png": "[encoded data removed]",
      "text/plain": [
       "<Figure size 640x480 with 1 Axes>"
      ]
     },
     "metadata": {},
     "output_type": "display_data"
    }
   ],
   "source": [
    "import squarify\n",
    "\n",
    "dfSup = si_birra.groupby([\"ETAMi\"],as_index=False)[\"BICBIRRAM\"].sum()\n",
    "display(dfSup)\n",
    "\n",
    "sns.set_style(style=\"whitegrid\") \n",
    "l = ['11-13','14-15','16-17','18-19','20-24','25-29']\n",
    "squarify.plot(sizes=dfSup['BICBIRRAM'], label=l, alpha=0.6,edgecolor=\"white\", linewidth=2, color=sns.color_palette(['#c96e12','#fff897','#df8d03', '#f6c101', '#fae96f' ,'#ec9d00'],len(dfSup['BICBIRRAM']))).set(\n",
    "    title='Consumo di birra nei giovani suddivisi per età')\n",
    "plt.axis('off')\n",
    "plt.show()"
   ]
  },
  {
   "cell_type": "code",
   "execution_count": 137,
   "id": "8bdf3cc3",
   "metadata": {},
   "outputs": [
    {
     "name": "stdout",
     "output_type": "stream",
     "text": [
      "[2.0, 1.0, 1.6363636363636365, 1.4878048780487805, 1.4736842105263157, 1.5538922155688624]\n"
     ]
    },
    {
     "data": {
      "text/plain": [
       "['11-13 anni',\n",
       " '14-15 anni',\n",
       " '16-17 anni',\n",
       " '18-19 anni',\n",
       " '20-24 anni',\n",
       " '25-29 anni',\n",
       " 1.0,\n",
       " 0.0,\n",
       " 0.6363636363636365,\n",
       " 0.4878048780487805,\n",
       " 0.4736842105263157,\n",
       " 0.5538922155688624]"
      ]
     },
     "metadata": {},
     "output_type": "display_data"
    },
    {
     "data": {
      "image/png": "[encoded data removed]",
      "text/plain": [
       "<Figure size 640x480 with 1 Axes>"
      ]
     },
     "metadata": {},
     "output_type": "display_data"
    }
   ],
   "source": [
    "dfSup = si_birra.groupby([\"ETAMi\"],as_index=False)[\"BICBIRRAM\"].sum()\n",
    "tot= si_birra[\"ETAMi\"].value_counts().sort_index()\n",
    "k=(dfSup['BICBIRRAM'].tolist()/tot).tolist()\n",
    "print(k)\n",
    "g=[]\n",
    "min_v= min(k)\n",
    "max_v= max(k)\n",
    "palette_b=sns.color_palette(['#c96e12','#df8d03','#fae96f', '#f6c101','#ec9d00','#fff897'], len(dfSup['BICBIRRAM']))\n",
    "           \n",
    "for i in k:\n",
    "           g.append((i - min_v)/(max_v - min_v ))\n",
    "\n",
    "display(list(labels_eta) + g)\n",
    "\n",
    "norm=squarify.normalize_sizes([i for i in g if i > 0], dx=3, dy=3)\n",
    "squarify.plot(sizes=norm, label=labels_eta[1:], color=palette_b, alpha=0.6).set(\n",
    "    title='Consumo di birra nei giovani suddivisi per età')\n",
    "plt.axis('off')\n",
    "plt.show()"
   ]
  },
  {
   "cell_type": "code",
   "execution_count": 203,
   "id": "1b9e572b",
   "metadata": {},
   "outputs": [
    {
     "data": {
      "text/plain": [
       "Index(['NCOMP', 'ETAMi', 'SESSO', 'LEZPR', 'INFOR', 'LING', 'MMSCLA', 'SPOCON',\n",
       "       'SPOSAL', 'BIRRA', 'VINO', 'BICBIRRAM', 'BICVINOM', 'BFPAS',\n",
       "       'BICFUORIM', 'ANAL', 'ALCOL', 'AMAR', 'LIQUOR', 'BICALTROM', 'ALCOL12',\n",
       "       'BICALC', 'NBICALCM', 'DOVCASP', 'DOVAMPA', 'DOVRISTO', 'DOVPUB',\n",
       "       'DOVDISCO', 'DOVSTR', 'DOVALT', 'ESIG', 'FUMO', 'FRFUMO', 'TFUMO',\n",
       "       'NSIGARM', 'SALUTE', 'CRONI', 'DIAB', 'FEGATO', 'CIRRO', 'NEURO'],\n",
       "      dtype='object')"
      ]
     },
     "execution_count": 203,
     "metadata": {},
     "output_type": "execute_result"
    }
   ],
   "source": [
    "dati.columns"
   ]
  },
  {
   "cell_type": "code",
   "execution_count": 240,
   "id": "fd65d179",
   "metadata": {},
   "outputs": [
    {
     "data": {
      "text/html": [
       "<div>\n",
       "<style scoped>\n",
       "    .dataframe tbody tr th:only-of-type {\n",
       "        vertical-align: middle;\n",
       "    }\n",
       "\n",
       "    .dataframe tbody tr th {\n",
       "        vertical-align: top;\n",
       "    }\n",
       "\n",
       "    .dataframe thead th {\n",
       "        text-align: right;\n",
       "    }\n",
       "</style>\n",
       "<table border=\"1\" class=\"dataframe\">\n",
       "  <thead>\n",
       "    <tr style=\"text-align: right;\">\n",
       "      <th></th>\n",
       "      <th>ETAMi</th>\n",
       "      <th>SESSO</th>\n",
       "      <th>BIRRA</th>\n",
       "      <th>BICBIRRAM</th>\n",
       "      <th>DOVCASP</th>\n",
       "      <th>DOVAMPA</th>\n",
       "      <th>DOVRISTO</th>\n",
       "      <th>DOVPUB</th>\n",
       "      <th>DOVDISCO</th>\n",
       "      <th>DOVSTR</th>\n",
       "    </tr>\n",
       "  </thead>\n",
       "  <tbody>\n",
       "    <tr>\n",
       "      <th>1</th>\n",
       "      <td>9</td>\n",
       "      <td>1</td>\n",
       "      <td>1.0</td>\n",
       "      <td>4.0</td>\n",
       "      <td>0</td>\n",
       "      <td>1</td>\n",
       "      <td>0</td>\n",
       "      <td>0</td>\n",
       "      <td>0</td>\n",
       "      <td>0</td>\n",
       "    </tr>\n",
       "    <tr>\n",
       "      <th>22</th>\n",
       "      <td>9</td>\n",
       "      <td>1</td>\n",
       "      <td>3.0</td>\n",
       "      <td>1.0</td>\n",
       "      <td>0</td>\n",
       "      <td>0</td>\n",
       "      <td>0</td>\n",
       "      <td>0</td>\n",
       "      <td>0</td>\n",
       "      <td>0</td>\n",
       "    </tr>\n",
       "    <tr>\n",
       "      <th>60</th>\n",
       "      <td>9</td>\n",
       "      <td>1</td>\n",
       "      <td>3.0</td>\n",
       "      <td>1.0</td>\n",
       "      <td>0</td>\n",
       "      <td>0</td>\n",
       "      <td>0</td>\n",
       "      <td>0</td>\n",
       "      <td>0</td>\n",
       "      <td>0</td>\n",
       "    </tr>\n",
       "    <tr>\n",
       "      <th>61</th>\n",
       "      <td>9</td>\n",
       "      <td>2</td>\n",
       "      <td>3.0</td>\n",
       "      <td>1.0</td>\n",
       "      <td>0</td>\n",
       "      <td>0</td>\n",
       "      <td>0</td>\n",
       "      <td>0</td>\n",
       "      <td>0</td>\n",
       "      <td>0</td>\n",
       "    </tr>\n",
       "    <tr>\n",
       "      <th>116</th>\n",
       "      <td>9</td>\n",
       "      <td>2</td>\n",
       "      <td>3.0</td>\n",
       "      <td>1.0</td>\n",
       "      <td>0</td>\n",
       "      <td>0</td>\n",
       "      <td>0</td>\n",
       "      <td>0</td>\n",
       "      <td>0</td>\n",
       "      <td>0</td>\n",
       "    </tr>\n",
       "    <tr>\n",
       "      <th>...</th>\n",
       "      <td>...</td>\n",
       "      <td>...</td>\n",
       "      <td>...</td>\n",
       "      <td>...</td>\n",
       "      <td>...</td>\n",
       "      <td>...</td>\n",
       "      <td>...</td>\n",
       "      <td>...</td>\n",
       "      <td>...</td>\n",
       "      <td>...</td>\n",
       "    </tr>\n",
       "    <tr>\n",
       "      <th>9617</th>\n",
       "      <td>9</td>\n",
       "      <td>1</td>\n",
       "      <td>2.0</td>\n",
       "      <td>3.0</td>\n",
       "      <td>0</td>\n",
       "      <td>1</td>\n",
       "      <td>1</td>\n",
       "      <td>0</td>\n",
       "      <td>0</td>\n",
       "      <td>0</td>\n",
       "    </tr>\n",
       "    <tr>\n",
       "      <th>9629</th>\n",
       "      <td>9</td>\n",
       "      <td>1</td>\n",
       "      <td>3.0</td>\n",
       "      <td>1.0</td>\n",
       "      <td>1</td>\n",
       "      <td>1</td>\n",
       "      <td>1</td>\n",
       "      <td>1</td>\n",
       "      <td>1</td>\n",
       "      <td>1</td>\n",
       "    </tr>\n",
       "    <tr>\n",
       "      <th>9630</th>\n",
       "      <td>7</td>\n",
       "      <td>1</td>\n",
       "      <td>1.0</td>\n",
       "      <td>5.0</td>\n",
       "      <td>1</td>\n",
       "      <td>1</td>\n",
       "      <td>0</td>\n",
       "      <td>0</td>\n",
       "      <td>0</td>\n",
       "      <td>0</td>\n",
       "    </tr>\n",
       "    <tr>\n",
       "      <th>9708</th>\n",
       "      <td>9</td>\n",
       "      <td>1</td>\n",
       "      <td>3.0</td>\n",
       "      <td>1.0</td>\n",
       "      <td>0</td>\n",
       "      <td>0</td>\n",
       "      <td>0</td>\n",
       "      <td>0</td>\n",
       "      <td>0</td>\n",
       "      <td>0</td>\n",
       "    </tr>\n",
       "    <tr>\n",
       "      <th>9712</th>\n",
       "      <td>9</td>\n",
       "      <td>1</td>\n",
       "      <td>2.0</td>\n",
       "      <td>3.0</td>\n",
       "      <td>1</td>\n",
       "      <td>0</td>\n",
       "      <td>0</td>\n",
       "      <td>0</td>\n",
       "      <td>0</td>\n",
       "      <td>0</td>\n",
       "    </tr>\n",
       "  </tbody>\n",
       "</table>\n",
       "<p>525 rows × 10 columns</p>\n",
       "</div>"
      ],
      "text/plain": [
       "      ETAMi  SESSO  BIRRA  BICBIRRAM  DOVCASP  DOVAMPA  DOVRISTO  DOVPUB  \\\n",
       "1         9      1    1.0        4.0        0        1         0       0   \n",
       "22        9      1    3.0        1.0        0        0         0       0   \n",
       "60        9      1    3.0        1.0        0        0         0       0   \n",
       "61        9      2    3.0        1.0        0        0         0       0   \n",
       "116       9      2    3.0        1.0        0        0         0       0   \n",
       "...     ...    ...    ...        ...      ...      ...       ...     ...   \n",
       "9617      9      1    2.0        3.0        0        1         1       0   \n",
       "9629      9      1    3.0        1.0        1        1         1       1   \n",
       "9630      7      1    1.0        5.0        1        1         0       0   \n",
       "9708      9      1    3.0        1.0        0        0         0       0   \n",
       "9712      9      1    2.0        3.0        1        0         0       0   \n",
       "\n",
       "      DOVDISCO  DOVSTR  \n",
       "1            0       0  \n",
       "22           0       0  \n",
       "60           0       0  \n",
       "61           0       0  \n",
       "116          0       0  \n",
       "...        ...     ...  \n",
       "9617         0       0  \n",
       "9629         1       1  \n",
       "9630         0       0  \n",
       "9708         0       0  \n",
       "9712         0       0  \n",
       "\n",
       "[525 rows x 10 columns]"
      ]
     },
     "execution_count": 240,
     "metadata": {},
     "output_type": "execute_result"
    }
   ],
   "source": [
    "posto_consumo_di_birra=dati[dati['BIRRA']<4][['ETAMi', 'SESSO', 'BIRRA', 'BICBIRRAM', 'DOVCASP', 'DOVAMPA', 'DOVRISTO', 'DOVPUB',\n",
    "       'DOVDISCO', 'DOVSTR']]\n",
    "posto_consumo_di_birra = posto_consumo_di_birra.fillna(0)\n",
    "\n",
    "\n",
    "\n",
    "for num, i in enumerate([ 'DOVCASP', 'DOVAMPA', 'DOVRISTO', 'DOVPUB', 'DOVDISCO', 'DOVSTR']):\n",
    "    num= num +1\n",
    "    posto_consumo_di_birra[i].replace('SI', 1, inplace=True)\n",
    "    posto_consumo_di_birra[i].replace('NO', 0, inplace=True)\n",
    "posto_consumo_di_birra    "
   ]
  },
  {
   "cell_type": "code",
   "execution_count": 155,
   "id": "234c479d",
   "metadata": {},
   "outputs": [
    {
     "data": {
      "application/vnd.plotly.v1+json": {
       "config": {
        "plotlyServerURL": "https://plot.ly"
       },
       "data": [
        {
         "name": "14-15",
         "r": [
          0.4,
          0.2,
          0,
          0,
          0,
          0.4
         ],
         "theta": [
          "CASA",
          "CASA PARENTI/AMICI",
          "RISTORANTE",
          "PUB",
          "DISCO",
          "STRADA",
          "CASA"
         ],
         "type": "scatterpolar"
        },
        {
         "name": "16-17",
         "r": [
          0,
          0,
          0,
          0.09,
          0.18,
          0
         ],
         "theta": [
          "CASA",
          "CASA PARENTI/AMICI",
          "RISTORANTE",
          "PUB",
          "DISCO",
          "STRADA",
          "CASA"
         ],
         "type": "scatterpolar"
        },
        {
         "name": "18-19",
         "r": [
          0.15,
          0.17,
          0.07,
          0.2,
          0.12,
          0.15,
          0.15
         ],
         "theta": [
          "CASA",
          "CASA PARENTI/AMICI",
          "RISTORANTE",
          "PUB",
          "DISCO",
          "STRADA",
          "CASA"
         ],
         "type": "scatterpolar"
        },
        {
         "name": "20-24",
         "r": [
          0.06,
          0.2,
          0.05,
          0.24,
          0.1,
          0.04,
          0.06
         ],
         "theta": [
          "CASA",
          "CASA PARENTI/AMICI",
          "RISTORANTE",
          "PUB",
          "DISCO",
          "STRADA",
          "CASA"
         ],
         "type": "scatterpolar"
        },
        {
         "name": "25-29",
         "r": [
          0.15,
          0.18,
          0.12,
          0.19,
          0.06,
          0.04,
          0.15
         ],
         "theta": [
          "CASA",
          "CASA PARENTI/AMICI",
          "RISTORANTE",
          "PUB",
          "DISCO",
          "STRADA",
          "CASA"
         ],
         "type": "scatterpolar"
        }
       ],
       "layout": {
        "polar": {
         "radialaxis": {
          "visible": false
         }
        },
        "showlegend": true,
        "template": {
         "data": {
          "bar": [
           {
            "error_x": {
             "color": "#2a3f5f"
            },
            "error_y": {
             "color": "#2a3f5f"
            },
            "marker": {
             "line": {
              "color": "#E5ECF6",
              "width": 0.5
             },
             "pattern": {
              "fillmode": "overlay",
              "size": 10,
              "solidity": 0.2
             }
            },
            "type": "bar"
           }
          ],
          "barpolar": [
           {
            "marker": {
             "line": {
              "color": "#E5ECF6",
              "width": 0.5
             },
             "pattern": {
              "fillmode": "overlay",
              "size": 10,
              "solidity": 0.2
             }
            },
            "type": "barpolar"
           }
          ],
          "carpet": [
           {
            "aaxis": {
             "endlinecolor": "#2a3f5f",
             "gridcolor": "white",
             "linecolor": "white",
             "minorgridcolor": "white",
             "startlinecolor": "#2a3f5f"
            },
            "baxis": {
             "endlinecolor": "#2a3f5f",
             "gridcolor": "white",
             "linecolor": "white",
             "minorgridcolor": "white",
             "startlinecolor": "#2a3f5f"
            },
            "type": "carpet"
           }
          ],
          "choropleth": [
           {
            "colorbar": {
             "outlinewidth": 0,
             "ticks": ""
            },
            "type": "choropleth"
           }
          ],
          "contour": [
           {
            "colorbar": {
             "outlinewidth": 0,
             "ticks": ""
            },
            "colorscale": [
             [
              0,
              "#0d0887"
             ],
             [
              0.1111111111111111,
              "#46039f"
             ],
             [
              0.2222222222222222,
              "#7201a8"
             ],
             [
              0.3333333333333333,
              "#9c179e"
             ],
             [
              0.4444444444444444,
              "#bd3786"
             ],
             [
              0.5555555555555556,
              "#d8576b"
             ],
             [
              0.6666666666666666,
              "#ed7953"
             ],
             [
              0.7777777777777778,
              "#fb9f3a"
             ],
             [
              0.8888888888888888,
              "#fdca26"
             ],
             [
              1,
              "#f0f921"
             ]
            ],
            "type": "contour"
           }
          ],
          "contourcarpet": [
           {
            "colorbar": {
             "outlinewidth": 0,
             "ticks": ""
            },
            "type": "contourcarpet"
           }
          ],
          "heatmap": [
           {
            "colorbar": {
             "outlinewidth": 0,
             "ticks": ""
            },
            "colorscale": [
             [
              0,
              "#0d0887"
             ],
             [
              0.1111111111111111,
              "#46039f"
             ],
             [
              0.2222222222222222,
              "#7201a8"
             ],
             [
              0.3333333333333333,
              "#9c179e"
             ],
             [
              0.4444444444444444,
              "#bd3786"
             ],
             [
              0.5555555555555556,
              "#d8576b"
             ],
             [
              0.6666666666666666,
              "#ed7953"
             ],
             [
              0.7777777777777778,
              "#fb9f3a"
             ],
             [
              0.8888888888888888,
              "#fdca26"
             ],
             [
              1,
              "#f0f921"
             ]
            ],
            "type": "heatmap"
           }
          ],
          "heatmapgl": [
           {
            "colorbar": {
             "outlinewidth": 0,
             "ticks": ""
            },
            "colorscale": [
             [
              0,
              "#0d0887"
             ],
             [
              0.1111111111111111,
              "#46039f"
             ],
             [
              0.2222222222222222,
              "#7201a8"
             ],
             [
              0.3333333333333333,
              "#9c179e"
             ],
             [
              0.4444444444444444,
              "#bd3786"
             ],
             [
              0.5555555555555556,
              "#d8576b"
             ],
             [
              0.6666666666666666,
              "#ed7953"
             ],
             [
              0.7777777777777778,
              "#fb9f3a"
             ],
             [
              0.8888888888888888,
              "#fdca26"
             ],
             [
              1,
              "#f0f921"
             ]
            ],
            "type": "heatmapgl"
           }
          ],
          "histogram": [
           {
            "marker": {
             "pattern": {
              "fillmode": "overlay",
              "size": 10,
              "solidity": 0.2
             }
            },
            "type": "histogram"
           }
          ],
          "histogram2d": [
           {
            "colorbar": {
             "outlinewidth": 0,
             "ticks": ""
            },
            "colorscale": [
             [
              0,
              "#0d0887"
             ],
             [
              0.1111111111111111,
              "#46039f"
             ],
             [
              0.2222222222222222,
              "#7201a8"
             ],
             [
              0.3333333333333333,
              "#9c179e"
             ],
             [
              0.4444444444444444,
              "#bd3786"
             ],
             [
              0.5555555555555556,
              "#d8576b"
             ],
             [
              0.6666666666666666,
              "#ed7953"
             ],
             [
              0.7777777777777778,
              "#fb9f3a"
             ],
             [
              0.8888888888888888,
              "#fdca26"
             ],
             [
              1,
              "#f0f921"
             ]
            ],
            "type": "histogram2d"
           }
          ],
          "histogram2dcontour": [
           {
            "colorbar": {
             "outlinewidth": 0,
             "ticks": ""
            },
            "colorscale": [
             [
              0,
              "#0d0887"
             ],
             [
              0.1111111111111111,
              "#46039f"
             ],
             [
              0.2222222222222222,
              "#7201a8"
             ],
             [
              0.3333333333333333,
              "#9c179e"
             ],
             [
              0.4444444444444444,
              "#bd3786"
             ],
             [
              0.5555555555555556,
              "#d8576b"
             ],
             [
              0.6666666666666666,
              "#ed7953"
             ],
             [
              0.7777777777777778,
              "#fb9f3a"
             ],
             [
              0.8888888888888888,
              "#fdca26"
             ],
             [
              1,
              "#f0f921"
             ]
            ],
            "type": "histogram2dcontour"
           }
          ],
          "mesh3d": [
           {
            "colorbar": {
             "outlinewidth": 0,
             "ticks": ""
            },
            "type": "mesh3d"
           }
          ],
          "parcoords": [
           {
            "line": {
             "colorbar": {
              "outlinewidth": 0,
              "ticks": ""
             }
            },
            "type": "parcoords"
           }
          ],
          "pie": [
           {
            "automargin": true,
            "type": "pie"
           }
          ],
          "scatter": [
           {
            "fillpattern": {
             "fillmode": "overlay",
             "size": 10,
             "solidity": 0.2
            },
            "type": "scatter"
           }
          ],
          "scatter3d": [
           {
            "line": {
             "colorbar": {
              "outlinewidth": 0,
              "ticks": ""
             }
            },
            "marker": {
             "colorbar": {
              "outlinewidth": 0,
              "ticks": ""
             }
            },
            "type": "scatter3d"
           }
          ],
          "scattercarpet": [
           {
            "marker": {
             "colorbar": {
              "outlinewidth": 0,
              "ticks": ""
             }
            },
            "type": "scattercarpet"
           }
          ],
          "scattergeo": [
           {
            "marker": {
             "colorbar": {
              "outlinewidth": 0,
              "ticks": ""
             }
            },
            "type": "scattergeo"
           }
          ],
          "scattergl": [
           {
            "marker": {
             "colorbar": {
              "outlinewidth": 0,
              "ticks": ""
             }
            },
            "type": "scattergl"
           }
          ],
          "scattermapbox": [
           {
            "marker": {
             "colorbar": {
              "outlinewidth": 0,
              "ticks": ""
             }
            },
            "type": "scattermapbox"
           }
          ],
          "scatterpolar": [
           {
            "marker": {
             "colorbar": {
              "outlinewidth": 0,
              "ticks": ""
             }
            },
            "type": "scatterpolar"
           }
          ],
          "scatterpolargl": [
           {
            "marker": {
             "colorbar": {
              "outlinewidth": 0,
              "ticks": ""
             }
            },
            "type": "scatterpolargl"
           }
          ],
          "scatterternary": [
           {
            "marker": {
             "colorbar": {
              "outlinewidth": 0,
              "ticks": ""
             }
            },
            "type": "scatterternary"
           }
          ],
          "surface": [
           {
            "colorbar": {
             "outlinewidth": 0,
             "ticks": ""
            },
            "colorscale": [
             [
              0,
              "#0d0887"
             ],
             [
              0.1111111111111111,
              "#46039f"
             ],
             [
              0.2222222222222222,
              "#7201a8"
             ],
             [
              0.3333333333333333,
              "#9c179e"
             ],
             [
              0.4444444444444444,
              "#bd3786"
             ],
             [
              0.5555555555555556,
              "#d8576b"
             ],
             [
              0.6666666666666666,
              "#ed7953"
             ],
             [
              0.7777777777777778,
              "#fb9f3a"
             ],
             [
              0.8888888888888888,
              "#fdca26"
             ],
             [
              1,
              "#f0f921"
             ]
            ],
            "type": "surface"
           }
          ],
          "table": [
           {
            "cells": {
             "fill": {
              "color": "#EBF0F8"
             },
             "line": {
              "color": "white"
             }
            },
            "header": {
             "fill": {
              "color": "#C8D4E3"
             },
             "line": {
              "color": "white"
             }
            },
            "type": "table"
           }
          ]
         },
         "layout": {
          "annotationdefaults": {
           "arrowcolor": "#2a3f5f",
           "arrowhead": 0,
           "arrowwidth": 1
          },
          "autotypenumbers": "strict",
          "coloraxis": {
           "colorbar": {
            "outlinewidth": 0,
            "ticks": ""
           }
          },
          "colorscale": {
           "diverging": [
            [
             0,
             "#8e0152"
            ],
            [
             0.1,
             "#c51b7d"
            ],
            [
             0.2,
             "#de77ae"
            ],
            [
             0.3,
             "#f1b6da"
            ],
            [
             0.4,
             "#fde0ef"
            ],
            [
             0.5,
             "#f7f7f7"
            ],
            [
             0.6,
             "#e6f5d0"
            ],
            [
             0.7,
             "#b8e186"
            ],
            [
             0.8,
             "#7fbc41"
            ],
            [
             0.9,
             "#4d9221"
            ],
            [
             1,
             "#276419"
            ]
           ],
           "sequential": [
            [
             0,
             "#0d0887"
            ],
            [
             0.1111111111111111,
             "#46039f"
            ],
            [
             0.2222222222222222,
             "#7201a8"
            ],
            [
             0.3333333333333333,
             "#9c179e"
            ],
            [
             0.4444444444444444,
             "#bd3786"
            ],
            [
             0.5555555555555556,
             "#d8576b"
            ],
            [
             0.6666666666666666,
             "#ed7953"
            ],
            [
             0.7777777777777778,
             "#fb9f3a"
            ],
            [
             0.8888888888888888,
             "#fdca26"
            ],
            [
             1,
             "#f0f921"
            ]
           ],
           "sequentialminus": [
            [
             0,
             "#0d0887"
            ],
            [
             0.1111111111111111,
             "#46039f"
            ],
            [
             0.2222222222222222,
             "#7201a8"
            ],
            [
             0.3333333333333333,
             "#9c179e"
            ],
            [
             0.4444444444444444,
             "#bd3786"
            ],
            [
             0.5555555555555556,
             "#d8576b"
            ],
            [
             0.6666666666666666,
             "#ed7953"
            ],
            [
             0.7777777777777778,
             "#fb9f3a"
            ],
            [
             0.8888888888888888,
             "#fdca26"
            ],
            [
             1,
             "#f0f921"
            ]
           ]
          },
          "colorway": [
           "#636efa",
           "#EF553B",
           "#00cc96",
           "#ab63fa",
           "#FFA15A",
           "#19d3f3",
           "#FF6692",
           "#B6E880",
           "#FF97FF",
           "#FECB52"
          ],
          "font": {
           "color": "#2a3f5f"
          },
          "geo": {
           "bgcolor": "white",
           "lakecolor": "white",
           "landcolor": "#E5ECF6",
           "showlakes": true,
           "showland": true,
           "subunitcolor": "white"
          },
          "hoverlabel": {
           "align": "left"
          },
          "hovermode": "closest",
          "mapbox": {
           "style": "light"
          },
          "paper_bgcolor": "white",
          "plot_bgcolor": "#E5ECF6",
          "polar": {
           "angularaxis": {
            "gridcolor": "white",
            "linecolor": "white",
            "ticks": ""
           },
           "bgcolor": "#E5ECF6",
           "radialaxis": {
            "gridcolor": "white",
            "linecolor": "white",
            "ticks": ""
           }
          },
          "scene": {
           "xaxis": {
            "backgroundcolor": "#E5ECF6",
            "gridcolor": "white",
            "gridwidth": 2,
            "linecolor": "white",
            "showbackground": true,
            "ticks": "",
            "zerolinecolor": "white"
           },
           "yaxis": {
            "backgroundcolor": "#E5ECF6",
            "gridcolor": "white",
            "gridwidth": 2,
            "linecolor": "white",
            "showbackground": true,
            "ticks": "",
            "zerolinecolor": "white"
           },
           "zaxis": {
            "backgroundcolor": "#E5ECF6",
            "gridcolor": "white",
            "gridwidth": 2,
            "linecolor": "white",
            "showbackground": true,
            "ticks": "",
            "zerolinecolor": "white"
           }
          },
          "shapedefaults": {
           "line": {
            "color": "#2a3f5f"
           }
          },
          "ternary": {
           "aaxis": {
            "gridcolor": "white",
            "linecolor": "white",
            "ticks": ""
           },
           "baxis": {
            "gridcolor": "white",
            "linecolor": "white",
            "ticks": ""
           },
           "bgcolor": "#E5ECF6",
           "caxis": {
            "gridcolor": "white",
            "linecolor": "white",
            "ticks": ""
           }
          },
          "title": {
           "x": 0.05
          },
          "xaxis": {
           "automargin": true,
           "gridcolor": "white",
           "linecolor": "white",
           "ticks": "",
           "title": {
            "standoff": 15
           },
           "zerolinecolor": "white",
           "zerolinewidth": 2
          },
          "yaxis": {
           "automargin": true,
           "gridcolor": "white",
           "linecolor": "white",
           "ticks": "",
           "title": {
            "standoff": 15
           },
           "zerolinecolor": "white",
           "zerolinewidth": 2
          }
         }
        },
        "title": {
         "text": "Luogo di consumo di almeno 6 bicchieri di birra"
        }
       }
      },
      "text/html": [
       "<div>                            <div id=\"dd93eb64-12e9-4570-adec-7a9f9ad99b44\" class=\"plotly-graph-div\" style=\"height:525px; width:100%;\"></div>            <script type=\"text/javascript\">                require([\"plotly\"], function(Plotly) {                    window.PLOTLYENV=window.PLOTLYENV || {};                                    if (document.getElementById(\"dd93eb64-12e9-4570-adec-7a9f9ad99b44\")) {                    Plotly.newPlot(                        \"dd93eb64-12e9-4570-adec-7a9f9ad99b44\",                        [{\"name\":\"14-15\",\"r\":[0.4,0.2,0,0,0,0.4],\"theta\":[\"CASA\",\"CASA PARENTI/AMICI\",\"RISTORANTE\",\"PUB\",\"DISCO\",\"STRADA\",\"CASA\"],\"type\":\"scatterpolar\"},{\"name\":\"16-17\",\"r\":[0,0,0,0.09,0.18,0],\"theta\":[\"CASA\",\"CASA PARENTI/AMICI\",\"RISTORANTE\",\"PUB\",\"DISCO\",\"STRADA\",\"CASA\"],\"type\":\"scatterpolar\"},{\"name\":\"18-19\",\"r\":[0.15,0.17,0.07,0.2,0.12,0.15,0.15],\"theta\":[\"CASA\",\"CASA PARENTI/AMICI\",\"RISTORANTE\",\"PUB\",\"DISCO\",\"STRADA\",\"CASA\"],\"type\":\"scatterpolar\"},{\"name\":\"20-24\",\"r\":[0.06,0.2,0.05,0.24,0.1,0.04,0.06],\"theta\":[\"CASA\",\"CASA PARENTI/AMICI\",\"RISTORANTE\",\"PUB\",\"DISCO\",\"STRADA\",\"CASA\"],\"type\":\"scatterpolar\"},{\"name\":\"25-29\",\"r\":[0.15,0.18,0.12,0.19,0.06,0.04,0.15],\"theta\":[\"CASA\",\"CASA PARENTI/AMICI\",\"RISTORANTE\",\"PUB\",\"DISCO\",\"STRADA\",\"CASA\"],\"type\":\"scatterpolar\"}],                        {\"polar\":{\"radialaxis\":{\"visible\":false}},\"showlegend\":true,\"title\":{\"text\":\"Luogo di consumo di almeno 6 bicchieri di birra\"},\"template\":{\"data\":{\"histogram2dcontour\":[{\"type\":\"histogram2dcontour\",\"colorbar\":{\"outlinewidth\":0,\"ticks\":\"\"},\"colorscale\":[[0.0,\"#0d0887\"],[0.1111111111111111,\"#46039f\"],[0.2222222222222222,\"#7201a8\"],[0.3333333333333333,\"#9c179e\"],[0.4444444444444444,\"#bd3786\"],[0.5555555555555556,\"#d8576b\"],[0.6666666666666666,\"#ed7953\"],[0.7777777777777778,\"#fb9f3a\"],[0.8888888888888888,\"#fdca26\"],[1.0,\"#f0f921\"]]}],\"choropleth\":[{\"type\":\"choropleth\",\"colorbar\":{\"outlinewidth\":0,\"ticks\":\"\"}}],\"histogram2d\":[{\"type\":\"histogram2d\",\"colorbar\":{\"outlinewidth\":0,\"ticks\":\"\"},\"colorscale\":[[0.0,\"#0d0887\"],[0.1111111111111111,\"#46039f\"],[0.2222222222222222,\"#7201a8\"],[0.3333333333333333,\"#9c179e\"],[0.4444444444444444,\"#bd3786\"],[0.5555555555555556,\"#d8576b\"],[0.6666666666666666,\"#ed7953\"],[0.7777777777777778,\"#fb9f3a\"],[0.8888888888888888,\"#fdca26\"],[1.0,\"#f0f921\"]]}],\"heatmap\":[{\"type\":\"heatmap\",\"colorbar\":{\"outlinewidth\":0,\"ticks\":\"\"},\"colorscale\":[[0.0,\"#0d0887\"],[0.1111111111111111,\"#46039f\"],[0.2222222222222222,\"#7201a8\"],[0.3333333333333333,\"#9c179e\"],[0.4444444444444444,\"#bd3786\"],[0.5555555555555556,\"#d8576b\"],[0.6666666666666666,\"#ed7953\"],[0.7777777777777778,\"#fb9f3a\"],[0.8888888888888888,\"#fdca26\"],[1.0,\"#f0f921\"]]}],\"heatmapgl\":[{\"type\":\"heatmapgl\",\"colorbar\":{\"outlinewidth\":0,\"ticks\":\"\"},\"colorscale\":[[0.0,\"#0d0887\"],[0.1111111111111111,\"#46039f\"],[0.2222222222222222,\"#7201a8\"],[0.3333333333333333,\"#9c179e\"],[0.4444444444444444,\"#bd3786\"],[0.5555555555555556,\"#d8576b\"],[0.6666666666666666,\"#ed7953\"],[0.7777777777777778,\"#fb9f3a\"],[0.8888888888888888,\"#fdca26\"],[1.0,\"#f0f921\"]]}],\"contourcarpet\":[{\"type\":\"contourcarpet\",\"colorbar\":{\"outlinewidth\":0,\"ticks\":\"\"}}],\"contour\":[{\"type\":\"contour\",\"colorbar\":{\"outlinewidth\":0,\"ticks\":\"\"},\"colorscale\":[[0.0,\"#0d0887\"],[0.1111111111111111,\"#46039f\"],[0.2222222222222222,\"#7201a8\"],[0.3333333333333333,\"#9c179e\"],[0.4444444444444444,\"#bd3786\"],[0.5555555555555556,\"#d8576b\"],[0.6666666666666666,\"#ed7953\"],[0.7777777777777778,\"#fb9f3a\"],[0.8888888888888888,\"#fdca26\"],[1.0,\"#f0f921\"]]}],\"surface\":[{\"type\":\"surface\",\"colorbar\":{\"outlinewidth\":0,\"ticks\":\"\"},\"colorscale\":[[0.0,\"#0d0887\"],[0.1111111111111111,\"#46039f\"],[0.2222222222222222,\"#7201a8\"],[0.3333333333333333,\"#9c179e\"],[0.4444444444444444,\"#bd3786\"],[0.5555555555555556,\"#d8576b\"],[0.6666666666666666,\"#ed7953\"],[0.7777777777777778,\"#fb9f3a\"],[0.8888888888888888,\"#fdca26\"],[1.0,\"#f0f921\"]]}],\"mesh3d\":[{\"type\":\"mesh3d\",\"colorbar\":{\"outlinewidth\":0,\"ticks\":\"\"}}],\"scatter\":[{\"fillpattern\":{\"fillmode\":\"overlay\",\"size\":10,\"solidity\":0.2},\"type\":\"scatter\"}],\"parcoords\":[{\"type\":\"parcoords\",\"line\":{\"colorbar\":{\"outlinewidth\":0,\"ticks\":\"\"}}}],\"scatterpolargl\":[{\"type\":\"scatterpolargl\",\"marker\":{\"colorbar\":{\"outlinewidth\":0,\"ticks\":\"\"}}}],\"bar\":[{\"error_x\":{\"color\":\"#2a3f5f\"},\"error_y\":{\"color\":\"#2a3f5f\"},\"marker\":{\"line\":{\"color\":\"#E5ECF6\",\"width\":0.5},\"pattern\":{\"fillmode\":\"overlay\",\"size\":10,\"solidity\":0.2}},\"type\":\"bar\"}],\"scattergeo\":[{\"type\":\"scattergeo\",\"marker\":{\"colorbar\":{\"outlinewidth\":0,\"ticks\":\"\"}}}],\"scatterpolar\":[{\"type\":\"scatterpolar\",\"marker\":{\"colorbar\":{\"outlinewidth\":0,\"ticks\":\"\"}}}],\"histogram\":[{\"marker\":{\"pattern\":{\"fillmode\":\"overlay\",\"size\":10,\"solidity\":0.2}},\"type\":\"histogram\"}],\"scattergl\":[{\"type\":\"scattergl\",\"marker\":{\"colorbar\":{\"outlinewidth\":0,\"ticks\":\"\"}}}],\"scatter3d\":[{\"type\":\"scatter3d\",\"line\":{\"colorbar\":{\"outlinewidth\":0,\"ticks\":\"\"}},\"marker\":{\"colorbar\":{\"outlinewidth\":0,\"ticks\":\"\"}}}],\"scattermapbox\":[{\"type\":\"scattermapbox\",\"marker\":{\"colorbar\":{\"outlinewidth\":0,\"ticks\":\"\"}}}],\"scatterternary\":[{\"type\":\"scatterternary\",\"marker\":{\"colorbar\":{\"outlinewidth\":0,\"ticks\":\"\"}}}],\"scattercarpet\":[{\"type\":\"scattercarpet\",\"marker\":{\"colorbar\":{\"outlinewidth\":0,\"ticks\":\"\"}}}],\"carpet\":[{\"aaxis\":{\"endlinecolor\":\"#2a3f5f\",\"gridcolor\":\"white\",\"linecolor\":\"white\",\"minorgridcolor\":\"white\",\"startlinecolor\":\"#2a3f5f\"},\"baxis\":{\"endlinecolor\":\"#2a3f5f\",\"gridcolor\":\"white\",\"linecolor\":\"white\",\"minorgridcolor\":\"white\",\"startlinecolor\":\"#2a3f5f\"},\"type\":\"carpet\"}],\"table\":[{\"cells\":{\"fill\":{\"color\":\"#EBF0F8\"},\"line\":{\"color\":\"white\"}},\"header\":{\"fill\":{\"color\":\"#C8D4E3\"},\"line\":{\"color\":\"white\"}},\"type\":\"table\"}],\"barpolar\":[{\"marker\":{\"line\":{\"color\":\"#E5ECF6\",\"width\":0.5},\"pattern\":{\"fillmode\":\"overlay\",\"size\":10,\"solidity\":0.2}},\"type\":\"barpolar\"}],\"pie\":[{\"automargin\":true,\"type\":\"pie\"}]},\"layout\":{\"autotypenumbers\":\"strict\",\"colorway\":[\"#636efa\",\"#EF553B\",\"#00cc96\",\"#ab63fa\",\"#FFA15A\",\"#19d3f3\",\"#FF6692\",\"#B6E880\",\"#FF97FF\",\"#FECB52\"],\"font\":{\"color\":\"#2a3f5f\"},\"hovermode\":\"closest\",\"hoverlabel\":{\"align\":\"left\"},\"paper_bgcolor\":\"white\",\"plot_bgcolor\":\"#E5ECF6\",\"polar\":{\"bgcolor\":\"#E5ECF6\",\"angularaxis\":{\"gridcolor\":\"white\",\"linecolor\":\"white\",\"ticks\":\"\"},\"radialaxis\":{\"gridcolor\":\"white\",\"linecolor\":\"white\",\"ticks\":\"\"}},\"ternary\":{\"bgcolor\":\"#E5ECF6\",\"aaxis\":{\"gridcolor\":\"white\",\"linecolor\":\"white\",\"ticks\":\"\"},\"baxis\":{\"gridcolor\":\"white\",\"linecolor\":\"white\",\"ticks\":\"\"},\"caxis\":{\"gridcolor\":\"white\",\"linecolor\":\"white\",\"ticks\":\"\"}},\"coloraxis\":{\"colorbar\":{\"outlinewidth\":0,\"ticks\":\"\"}},\"colorscale\":{\"sequential\":[[0.0,\"#0d0887\"],[0.1111111111111111,\"#46039f\"],[0.2222222222222222,\"#7201a8\"],[0.3333333333333333,\"#9c179e\"],[0.4444444444444444,\"#bd3786\"],[0.5555555555555556,\"#d8576b\"],[0.6666666666666666,\"#ed7953\"],[0.7777777777777778,\"#fb9f3a\"],[0.8888888888888888,\"#fdca26\"],[1.0,\"#f0f921\"]],\"sequentialminus\":[[0.0,\"#0d0887\"],[0.1111111111111111,\"#46039f\"],[0.2222222222222222,\"#7201a8\"],[0.3333333333333333,\"#9c179e\"],[0.4444444444444444,\"#bd3786\"],[0.5555555555555556,\"#d8576b\"],[0.6666666666666666,\"#ed7953\"],[0.7777777777777778,\"#fb9f3a\"],[0.8888888888888888,\"#fdca26\"],[1.0,\"#f0f921\"]],\"diverging\":[[0,\"#8e0152\"],[0.1,\"#c51b7d\"],[0.2,\"#de77ae\"],[0.3,\"#f1b6da\"],[0.4,\"#fde0ef\"],[0.5,\"#f7f7f7\"],[0.6,\"#e6f5d0\"],[0.7,\"#b8e186\"],[0.8,\"#7fbc41\"],[0.9,\"#4d9221\"],[1,\"#276419\"]]},\"xaxis\":{\"gridcolor\":\"white\",\"linecolor\":\"white\",\"ticks\":\"\",\"title\":{\"standoff\":15},\"zerolinecolor\":\"white\",\"automargin\":true,\"zerolinewidth\":2},\"yaxis\":{\"gridcolor\":\"white\",\"linecolor\":\"white\",\"ticks\":\"\",\"title\":{\"standoff\":15},\"zerolinecolor\":\"white\",\"automargin\":true,\"zerolinewidth\":2},\"scene\":{\"xaxis\":{\"backgroundcolor\":\"#E5ECF6\",\"gridcolor\":\"white\",\"linecolor\":\"white\",\"showbackground\":true,\"ticks\":\"\",\"zerolinecolor\":\"white\",\"gridwidth\":2},\"yaxis\":{\"backgroundcolor\":\"#E5ECF6\",\"gridcolor\":\"white\",\"linecolor\":\"white\",\"showbackground\":true,\"ticks\":\"\",\"zerolinecolor\":\"white\",\"gridwidth\":2},\"zaxis\":{\"backgroundcolor\":\"#E5ECF6\",\"gridcolor\":\"white\",\"linecolor\":\"white\",\"showbackground\":true,\"ticks\":\"\",\"zerolinecolor\":\"white\",\"gridwidth\":2}},\"shapedefaults\":{\"line\":{\"color\":\"#2a3f5f\"}},\"annotationdefaults\":{\"arrowcolor\":\"#2a3f5f\",\"arrowhead\":0,\"arrowwidth\":1},\"geo\":{\"bgcolor\":\"white\",\"landcolor\":\"#E5ECF6\",\"subunitcolor\":\"white\",\"showland\":true,\"showlakes\":true,\"lakecolor\":\"white\"},\"title\":{\"x\":0.05},\"mapbox\":{\"style\":\"light\"}}}},                        {\"responsive\": true}                    ).then(function(){\n",
       "                            \n",
       "var gd = document.getElementById('dd93eb64-12e9-4570-adec-7a9f9ad99b44');\n",
       "var x = new MutationObserver(function (mutations, observer) {{\n",
       "        var display = window.getComputedStyle(gd).display;\n",
       "        if (!display || display === 'none') {{\n",
       "            console.log([gd, 'removed!']);\n",
       "            Plotly.purge(gd);\n",
       "            observer.disconnect();\n",
       "        }}\n",
       "}});\n",
       "\n",
       "// Listen for the removal of the full notebook cells\n",
       "var notebookContainer = gd.closest('#notebook-container');\n",
       "if (notebookContainer) {{\n",
       "    x.observe(notebookContainer, {childList: true});\n",
       "}}\n",
       "\n",
       "// Listen for the clearing of the current output cell\n",
       "var outputEl = gd.closest('.output');\n",
       "if (outputEl) {{\n",
       "    x.observe(outputEl, {childList: true});\n",
       "}}\n",
       "\n",
       "                        })                };                });            </script>        </div>"
      ]
     },
     "metadata": {},
     "output_type": "display_data"
    }
   ],
   "source": [
    "import plotly.graph_objects as go\n",
    "import plotly.offline as pyo\n",
    "\n",
    "\n",
    "categories = ['CASA', 'CASA PARENTI/AMICI', 'RISTORANTE', 'PUB', 'DISCO', 'STRADA']\n",
    "categories = [*categories, categories[0]]\n",
    "\n",
    "# fascia eta 1, fascia eta 2, fascia eta 3, ...\n",
    "fascia_5=[0.4,0.2,0,0,0]\n",
    "fascia_6=[0,0,0,0.09,0.18]\n",
    "fascia_7=[0.15,0.17,0.07,0.2,0.12,0.15]\n",
    "fascia_8=[0.06,0.2,0.05,0.24,0.10,0.04]\n",
    "fascia_9=[0.15,0.18,0.12,0.19,0.06,0.04]\n",
    "\n",
    "fascia_5=[*fascia_5, fascia_5[0]]\n",
    "fascia_6=[*fascia_6, fascia_6[0]]\n",
    "fascia_7=[*fascia_7, fascia_7[0]]\n",
    "fascia_8=[*fascia_8, fascia_8[0]]\n",
    "fascia_9=[*fascia_9, fascia_9[0]]\n",
    "\n",
    "fig = go.Figure(\n",
    "    data=[\n",
    "        go.Scatterpolar(r=fascia_5, theta=categories, name='14-15'),\n",
    "        go.Scatterpolar(r=fascia_6, theta=categories, name='16-17'),\n",
    "        go.Scatterpolar(r=fascia_7, theta=categories, name='18-19'),\n",
    "        go.Scatterpolar(r=fascia_8, theta=categories, name='20-24'),\n",
    "        go.Scatterpolar(r=fascia_9, theta=categories, name='25-29'),\n",
    "    ],\n",
    "    layout=go.Layout(\n",
    "        title=go.layout.Title(text='Luogo di consumo di almeno 6 bicchieri di birra'),\n",
    "        polar={'radialaxis': {'visible': False}},\n",
    "        showlegend=True,\n",
    "    )\n",
    ")\n",
    "\n",
    "fig.show()"
   ]
  },
  {
   "cell_type": "code",
   "execution_count": null,
   "id": "a8a36dd9",
   "metadata": {},
   "outputs": [],
   "source": []
  },
  {
   "cell_type": "code",
   "execution_count": 348,
   "id": "aa0559da",
   "metadata": {},
   "outputs": [
    {
     "data": {
      "image/png": "[encoded data removed]",
      "text/plain": [
       "<Figure size 640x480 with 1 Axes>"
      ]
     },
     "metadata": {},
     "output_type": "display_data"
    }
   ],
   "source": [
    "ax = plt.subplot(111, polar=True)\n",
    "ax.scatter(x=categories, y=fascia_9)\n",
    "#ax.scatter(x=categories, y=fascia_5)\n",
    "plt.show()"
   ]
  },
  {
   "cell_type": "code",
   "execution_count": 295,
   "id": "eed0e575",
   "metadata": {},
   "outputs": [
    {
     "data": {
      "text/html": [
       "<div>\n",
       "<style scoped>\n",
       "    .dataframe tbody tr th:only-of-type {\n",
       "        vertical-align: middle;\n",
       "    }\n",
       "\n",
       "    .dataframe tbody tr th {\n",
       "        vertical-align: top;\n",
       "    }\n",
       "\n",
       "    .dataframe thead th {\n",
       "        text-align: right;\n",
       "    }\n",
       "</style>\n",
       "<table border=\"1\" class=\"dataframe\">\n",
       "  <thead>\n",
       "    <tr style=\"text-align: right;\">\n",
       "      <th></th>\n",
       "      <th>SESSO</th>\n",
       "      <th>BIRRA</th>\n",
       "      <th>BICBIRRAM</th>\n",
       "      <th>DOVCASP</th>\n",
       "      <th>DOVAMPA</th>\n",
       "      <th>DOVRISTO</th>\n",
       "      <th>DOVPUB</th>\n",
       "      <th>DOVDISCO</th>\n",
       "      <th>DOVSTR</th>\n",
       "    </tr>\n",
       "    <tr>\n",
       "      <th>ETAMi</th>\n",
       "      <th></th>\n",
       "      <th></th>\n",
       "      <th></th>\n",
       "      <th></th>\n",
       "      <th></th>\n",
       "      <th></th>\n",
       "      <th></th>\n",
       "      <th></th>\n",
       "      <th></th>\n",
       "    </tr>\n",
       "  </thead>\n",
       "  <tbody>\n",
       "    <tr>\n",
       "      <th>7</th>\n",
       "      <td>3</td>\n",
       "      <td>9.0</td>\n",
       "      <td>4.0</td>\n",
       "      <td>2</td>\n",
       "      <td>2</td>\n",
       "      <td>3</td>\n",
       "      <td>3</td>\n",
       "      <td>2</td>\n",
       "      <td>2</td>\n",
       "    </tr>\n",
       "    <tr>\n",
       "      <th>8</th>\n",
       "      <td>7</td>\n",
       "      <td>20.0</td>\n",
       "      <td>10.0</td>\n",
       "      <td>2</td>\n",
       "      <td>4</td>\n",
       "      <td>7</td>\n",
       "      <td>7</td>\n",
       "      <td>4</td>\n",
       "      <td>2</td>\n",
       "    </tr>\n",
       "    <tr>\n",
       "      <th>9</th>\n",
       "      <td>43</td>\n",
       "      <td>106.0</td>\n",
       "      <td>78.0</td>\n",
       "      <td>11</td>\n",
       "      <td>24</td>\n",
       "      <td>40</td>\n",
       "      <td>20</td>\n",
       "      <td>10</td>\n",
       "      <td>7</td>\n",
       "    </tr>\n",
       "  </tbody>\n",
       "</table>\n",
       "</div>"
      ],
      "text/plain": [
       "       SESSO  BIRRA  BICBIRRAM  DOVCASP  DOVAMPA  DOVRISTO  DOVPUB  DOVDISCO  \\\n",
       "ETAMi                                                                          \n",
       "7          3    9.0        4.0        2        2         3       3         2   \n",
       "8          7   20.0       10.0        2        4         7       7         4   \n",
       "9         43  106.0       78.0       11       24        40      20        10   \n",
       "\n",
       "       DOVSTR  \n",
       "ETAMi          \n",
       "7           2  \n",
       "8           2  \n",
       "9           7  "
      ]
     },
     "execution_count": 295,
     "metadata": {},
     "output_type": "execute_result"
    }
   ],
   "source": [
    "posto_consumo_di_birra[posto_consumo_di_birra['DOVRISTO']==1].groupby(by='ETAMi').sum()"
   ]
  },
  {
   "cell_type": "code",
   "execution_count": 325,
   "id": "992fee38",
   "metadata": {},
   "outputs": [
    {
     "data": {
      "text/plain": [
       "ETAMi\n",
       "6    0.01\n",
       "7    0.08\n",
       "8    0.31\n",
       "9    0.60\n",
       "Name: DOVPUB, dtype: float64"
      ]
     },
     "execution_count": 325,
     "metadata": {},
     "output_type": "execute_result"
    }
   ],
   "source": [
    "round(posto_consumo_di_birra[posto_consumo_di_birra['DOVPUB']==1].groupby(by='ETAMi')['DOVPUB'].sum()/posto_consumo_di_birra[posto_consumo_di_birra['DOVPUB']==1].groupby(by='ETAMi')['DOVPUB'].sum().sum(), 2)"
   ]
  },
  {
   "cell_type": "code",
   "execution_count": 300,
   "id": "c29c38ce",
   "metadata": {},
   "outputs": [
    {
     "data": {
      "text/plain": [
       "ETAMi\n",
       "5    0.029851\n",
       "7    0.089552\n",
       "8    0.119403\n",
       "9    0.761194\n",
       "Name: DOVCASP, dtype: float64"
      ]
     },
     "metadata": {},
     "output_type": "display_data"
    },
    {
     "data": {
      "text/plain": [
       "ETAMi\n",
       "5    0.010638\n",
       "7    0.074468\n",
       "8    0.287234\n",
       "9    0.627660\n",
       "Name: DOVAMPA, dtype: float64"
      ]
     },
     "metadata": {},
     "output_type": "display_data"
    },
    {
     "data": {
      "text/plain": [
       "ETAMi\n",
       "7    0.06\n",
       "8    0.14\n",
       "9    0.80\n",
       "Name: DOVRISTO, dtype: float64"
      ]
     },
     "metadata": {},
     "output_type": "display_data"
    },
    {
     "data": {
      "text/plain": [
       "ETAMi\n",
       "6    0.009709\n",
       "7    0.077670\n",
       "8    0.310680\n",
       "9    0.601942\n",
       "Name: DOVPUB, dtype: float64"
      ]
     },
     "metadata": {},
     "output_type": "display_data"
    },
    {
     "data": {
      "text/plain": [
       "ETAMi\n",
       "6    0.050\n",
       "7    0.125\n",
       "8    0.350\n",
       "9    0.475\n",
       "Name: DOVDISCO, dtype: float64"
      ]
     },
     "metadata": {},
     "output_type": "display_data"
    },
    {
     "data": {
      "text/plain": [
       "ETAMi\n",
       "7    0.230769\n",
       "8    0.230769\n",
       "9    0.538462\n",
       "Name: DOVSTR, dtype: float64"
      ]
     },
     "metadata": {},
     "output_type": "display_data"
    }
   ],
   "source": [
    "for i in ['DOVCASP', 'DOVAMPA', 'DOVRISTO', 'DOVPUB', 'DOVDISCO', 'DOVSTR']:\n",
    "    display(posto_consumo_di_birra[posto_consumo_di_birra[i]==1].groupby(by='ETAMi')[i].sum()/posto_consumo_di_birra[posto_consumo_di_birra[i]==1].groupby(by='ETAMi')[i].sum().sum())"
   ]
  },
  {
   "cell_type": "code",
   "execution_count": 287,
   "id": "5b8317e8",
   "metadata": {},
   "outputs": [
    {
     "data": {
      "text/plain": [
       "{'DOVCASP': [0.029850746268656716,\n",
       "  0.08955223880597014,\n",
       "  0.11940298507462686,\n",
       "  0.7611940298507462],\n",
       " 'DOVAMPA': [0.010638297872340425,\n",
       "  0.07446808510638298,\n",
       "  0.2872340425531915,\n",
       "  0.6276595744680851],\n",
       " 'DOVRISTO': [0.06, 0.14, 0.8],\n",
       " 'DOVPUB': [0.009708737864077669,\n",
       "  0.07766990291262135,\n",
       "  0.3106796116504854,\n",
       "  0.6019417475728155],\n",
       " 'DOVDISCO': [0.05, 0.125, 0.35, 0.475],\n",
       " 'DOVSTR': [0.23076923076923078, 0.23076923076923078, 0.5384615384615384]}"
      ]
     },
     "execution_count": 287,
     "metadata": {},
     "output_type": "execute_result"
    }
   ],
   "source": [
    "d={}\n",
    "for i in ['DOVCASP', 'DOVAMPA', 'DOVRISTO', 'DOVPUB', 'DOVDISCO', 'DOVSTR']:\n",
    "    d[i]=pd.crosstab(posto_consumo_di_birra[posto_consumo_di_birra[i]==1][i], posto_consumo_di_birra['ETAMi'], normalize=True).values[0].tolist()\n",
    "    \n",
    "d"
   ]
  },
  {
   "cell_type": "code",
   "execution_count": 318,
   "id": "76075a10",
   "metadata": {},
   "outputs": [
    {
     "name": "stdout",
     "output_type": "stream",
     "text": [
      "DOVCASP 9\n",
      "0    0.847305\n",
      "1    0.152695\n",
      "Name: DOVCASP, dtype: float64\n",
      "--------------------------------------------------------------------------------\n",
      "DOVCASP 7\n",
      "0    0.853659\n",
      "1    0.146341\n",
      "Name: DOVCASP, dtype: float64\n",
      "--------------------------------------------------------------------------------\n",
      "DOVCASP 8\n",
      "0    0.93985\n",
      "1    0.06015\n",
      "Name: DOVCASP, dtype: float64\n",
      "--------------------------------------------------------------------------------\n",
      "DOVCASP 6\n",
      "0    1.0\n",
      "Name: DOVCASP, dtype: float64\n",
      "--------------------------------------------------------------------------------\n",
      "DOVCASP 5\n",
      "0    0.6\n",
      "1    0.4\n",
      "Name: DOVCASP, dtype: float64\n",
      "--------------------------------------------------------------------------------\n",
      "DOVCASP 4\n",
      "0    1.0\n",
      "Name: DOVCASP, dtype: float64\n",
      "--------------------------------------------------------------------------------\n",
      "DOVAMPA 9\n",
      "0    0.823353\n",
      "1    0.176647\n",
      "Name: DOVAMPA, dtype: float64\n",
      "--------------------------------------------------------------------------------\n",
      "DOVAMPA 7\n",
      "0    0.829268\n",
      "1    0.170732\n",
      "Name: DOVAMPA, dtype: float64\n",
      "--------------------------------------------------------------------------------\n",
      "DOVAMPA 8\n",
      "0    0.796992\n",
      "1    0.203008\n",
      "Name: DOVAMPA, dtype: float64\n",
      "--------------------------------------------------------------------------------\n",
      "DOVAMPA 6\n",
      "0    1.0\n",
      "Name: DOVAMPA, dtype: float64\n",
      "--------------------------------------------------------------------------------\n",
      "DOVAMPA 5\n",
      "0    0.8\n",
      "1    0.2\n",
      "Name: DOVAMPA, dtype: float64\n",
      "--------------------------------------------------------------------------------\n",
      "DOVAMPA 4\n",
      "0    1.0\n",
      "Name: DOVAMPA, dtype: float64\n",
      "--------------------------------------------------------------------------------\n",
      "DOVRISTO 9\n",
      "0    0.88024\n",
      "1    0.11976\n",
      "Name: DOVRISTO, dtype: float64\n",
      "--------------------------------------------------------------------------------\n",
      "DOVRISTO 7\n",
      "0    0.926829\n",
      "1    0.073171\n",
      "Name: DOVRISTO, dtype: float64\n",
      "--------------------------------------------------------------------------------\n",
      "DOVRISTO 8\n",
      "0    0.947368\n",
      "1    0.052632\n",
      "Name: DOVRISTO, dtype: float64\n",
      "--------------------------------------------------------------------------------\n",
      "DOVRISTO 6\n",
      "0    1.0\n",
      "Name: DOVRISTO, dtype: float64\n",
      "--------------------------------------------------------------------------------\n",
      "DOVRISTO 5\n",
      "0    1.0\n",
      "Name: DOVRISTO, dtype: float64\n",
      "--------------------------------------------------------------------------------\n",
      "DOVRISTO 4\n",
      "0    1.0\n",
      "Name: DOVRISTO, dtype: float64\n",
      "--------------------------------------------------------------------------------\n",
      "DOVPUB 9\n",
      "0    0.814371\n",
      "1    0.185629\n",
      "Name: DOVPUB, dtype: float64\n",
      "--------------------------------------------------------------------------------\n",
      "DOVPUB 7\n",
      "0    0.804878\n",
      "1    0.195122\n",
      "Name: DOVPUB, dtype: float64\n",
      "--------------------------------------------------------------------------------\n",
      "DOVPUB 8\n",
      "0    0.759398\n",
      "1    0.240602\n",
      "Name: DOVPUB, dtype: float64\n",
      "--------------------------------------------------------------------------------\n",
      "DOVPUB 6\n",
      "0    0.909091\n",
      "1    0.090909\n",
      "Name: DOVPUB, dtype: float64\n",
      "--------------------------------------------------------------------------------\n",
      "DOVPUB 5\n",
      "0    1.0\n",
      "Name: DOVPUB, dtype: float64\n",
      "--------------------------------------------------------------------------------\n",
      "DOVPUB 4\n",
      "0    1.0\n",
      "Name: DOVPUB, dtype: float64\n",
      "--------------------------------------------------------------------------------\n",
      "DOVDISCO 9\n",
      "0    0.943114\n",
      "1    0.056886\n",
      "Name: DOVDISCO, dtype: float64\n",
      "--------------------------------------------------------------------------------\n",
      "DOVDISCO 7\n",
      "0    0.878049\n",
      "1    0.121951\n",
      "Name: DOVDISCO, dtype: float64\n",
      "--------------------------------------------------------------------------------\n",
      "DOVDISCO 8\n",
      "0    0.894737\n",
      "1    0.105263\n",
      "Name: DOVDISCO, dtype: float64\n",
      "--------------------------------------------------------------------------------\n",
      "DOVDISCO 6\n",
      "0    0.818182\n",
      "1    0.181818\n",
      "Name: DOVDISCO, dtype: float64\n",
      "--------------------------------------------------------------------------------\n",
      "DOVDISCO 5\n",
      "0    1.0\n",
      "Name: DOVDISCO, dtype: float64\n",
      "--------------------------------------------------------------------------------\n",
      "DOVDISCO 4\n",
      "0    1.0\n",
      "Name: DOVDISCO, dtype: float64\n",
      "--------------------------------------------------------------------------------\n",
      "DOVSTR 9\n",
      "0    0.958084\n",
      "1    0.041916\n",
      "Name: DOVSTR, dtype: float64\n",
      "--------------------------------------------------------------------------------\n",
      "DOVSTR 7\n",
      "0    0.853659\n",
      "1    0.146341\n",
      "Name: DOVSTR, dtype: float64\n",
      "--------------------------------------------------------------------------------\n",
      "DOVSTR 8\n",
      "0    0.954887\n",
      "1    0.045113\n",
      "Name: DOVSTR, dtype: float64\n",
      "--------------------------------------------------------------------------------\n",
      "DOVSTR 6\n",
      "0    1.0\n",
      "Name: DOVSTR, dtype: float64\n",
      "--------------------------------------------------------------------------------\n",
      "DOVSTR 5\n",
      "0    1.0\n",
      "Name: DOVSTR, dtype: float64\n",
      "--------------------------------------------------------------------------------\n",
      "DOVSTR 4\n",
      "0    1.0\n",
      "Name: DOVSTR, dtype: float64\n",
      "--------------------------------------------------------------------------------\n"
     ]
    }
   ],
   "source": [
    "for k in ['DOVCASP', 'DOVAMPA', 'DOVRISTO', 'DOVPUB', 'DOVDISCO', 'DOVSTR']:    \n",
    "    for i in posto_consumo_di_birra['ETAMi'].unique():\n",
    "        print(k, i)\n",
    "        print(posto_consumo_di_birra[posto_consumo_di_birra['ETAMi']==i][k].value_counts(normalize=True))\n",
    "        print('-'*80)"
   ]
  },
  {
   "cell_type": "code",
   "execution_count": 139,
   "id": "00ce5686",
   "metadata": {},
   "outputs": [
    {
     "data": {
      "text/html": [
       "<div>\n",
       "<style scoped>\n",
       "    .dataframe tbody tr th:only-of-type {\n",
       "        vertical-align: middle;\n",
       "    }\n",
       "\n",
       "    .dataframe tbody tr th {\n",
       "        vertical-align: top;\n",
       "    }\n",
       "\n",
       "    .dataframe thead th {\n",
       "        text-align: right;\n",
       "    }\n",
       "</style>\n",
       "<table border=\"1\" class=\"dataframe\">\n",
       "  <thead>\n",
       "    <tr style=\"text-align: right;\">\n",
       "      <th>SESSO</th>\n",
       "      <th>1</th>\n",
       "      <th>2</th>\n",
       "    </tr>\n",
       "    <tr>\n",
       "      <th>ETAMi</th>\n",
       "      <th></th>\n",
       "      <th></th>\n",
       "    </tr>\n",
       "  </thead>\n",
       "  <tbody>\n",
       "    <tr>\n",
       "      <th>4</th>\n",
       "      <td>0.062859</td>\n",
       "      <td>0.064737</td>\n",
       "    </tr>\n",
       "    <tr>\n",
       "      <th>5</th>\n",
       "      <td>0.047614</td>\n",
       "      <td>0.047724</td>\n",
       "    </tr>\n",
       "    <tr>\n",
       "      <th>6</th>\n",
       "      <td>0.043747</td>\n",
       "      <td>0.044079</td>\n",
       "    </tr>\n",
       "    <tr>\n",
       "      <th>7</th>\n",
       "      <td>0.041869</td>\n",
       "      <td>0.043195</td>\n",
       "    </tr>\n",
       "    <tr>\n",
       "      <th>8</th>\n",
       "      <td>0.100309</td>\n",
       "      <td>0.102077</td>\n",
       "    </tr>\n",
       "    <tr>\n",
       "      <th>9</th>\n",
       "      <td>0.189571</td>\n",
       "      <td>0.212218</td>\n",
       "    </tr>\n",
       "  </tbody>\n",
       "</table>\n",
       "</div>"
      ],
      "text/plain": [
       "SESSO         1         2\n",
       "ETAMi                    \n",
       "4      0.062859  0.064737\n",
       "5      0.047614  0.047724\n",
       "6      0.043747  0.044079\n",
       "7      0.041869  0.043195\n",
       "8      0.100309  0.102077\n",
       "9      0.189571  0.212218"
      ]
     },
     "execution_count": 139,
     "metadata": {},
     "output_type": "execute_result"
    }
   ],
   "source": [
    "no_birra=birra[birra['BIRRA']>=4]\n",
    "dati_no_birra = pd.crosstab(no_birra['ETAMi'], no_birra['SESSO'], normalize=True)\n",
    "dati_no_birra"
   ]
  },
  {
   "cell_type": "code",
   "execution_count": 140,
   "id": "244ff9ca",
   "metadata": {},
   "outputs": [
    {
     "data": {
      "text/plain": [
       "ETAMi\n",
       "4    0.062859\n",
       "5    0.047614\n",
       "6    0.043747\n",
       "7    0.041869\n",
       "8    0.100309\n",
       "9    0.189571\n",
       "Name: 1, dtype: float64"
      ]
     },
     "execution_count": 140,
     "metadata": {},
     "output_type": "execute_result"
    }
   ],
   "source": [
    "dati_no_birra [1]"
   ]
  },
  {
   "cell_type": "code",
   "execution_count": 141,
   "id": "5b007588",
   "metadata": {},
   "outputs": [
    {
     "data": {
      "image/png": "[encoded data removed]",
      "text/plain": [
       "<Figure size 640x480 with 1 Axes>"
      ]
     },
     "metadata": {},
     "output_type": "display_data"
    }
   ],
   "source": [
    "explode=(0.02,0.02)\n",
    "plt.pie(no_birra['SESSO'].value_counts(normalize=True).values, labels = ['Donna','Uomo'],colors=['#c96e12', '#dfb400'], autopct='%.0f%%', explode=explode)\n",
    "plt.title('Intervastati che non bevono birra')\n",
    "plt.show()"
   ]
  },
  {
   "cell_type": "code",
   "execution_count": 143,
   "id": "54694211",
   "metadata": {},
   "outputs": [
    {
     "data": {
      "image/png": "[encoded data removed]",
      "text/plain": [
       "<Figure size 640x480 with 1 Axes>"
      ]
     },
     "metadata": {},
     "output_type": "display_data"
    }
   ],
   "source": [
    "pd.DataFrame(index=labels_eta, data={'Donna':dati_no_birra[2].values*100, 'Uomo':dati_no_birra[1].values*100 }).plot(kind='barh',color=['#c96e12', '#dfb400'])\n",
    "plt.grid(False)\n",
    "plt.show()"
   ]
  },
  {
   "cell_type": "code",
   "execution_count": 378,
   "id": "b145f673",
   "metadata": {},
   "outputs": [
    {
     "data": {
      "image/png": "[encoded data removed]",
      "text/plain": [
       "<Figure size 640x480 with 1 Axes>"
      ]
     },
     "metadata": {},
     "output_type": "display_data"
    }
   ],
   "source": [
    "dati_no_birra.plot(color=['#c96e12', '#dfb400'])\n",
    "plt.grid(False)\n",
    "plt.show()"
   ]
  },
  {
   "cell_type": "code",
   "execution_count": null,
   "id": "aa7d5801",
   "metadata": {},
   "outputs": [],
   "source": []
  },
  {
   "cell_type": "code",
   "execution_count": 402,
   "id": "8816dac5",
   "metadata": {},
   "outputs": [],
   "source": [
    "dati_birra_generali = dati[dati['BIRRA']<4][['SESSO', 'ETAMi', 'BIRRA', 'CRONI', 'DIAB', 'FEGATO', 'CIRRO', 'NEURO']]"
   ]
  },
  {
   "cell_type": "code",
   "execution_count": 400,
   "id": "e2c9f20a",
   "metadata": {},
   "outputs": [],
   "source": [
    "dati_birra_generali_NO_beve = dati[dati['BIRRA']>=4][['SESSO', 'ETAMi', 'BIRRA', 'CRONI', 'DIAB', 'FEGATO', 'CIRRO', 'NEURO']]"
   ]
  },
  {
   "cell_type": "code",
   "execution_count": 401,
   "id": "e59e4b47",
   "metadata": {},
   "outputs": [
    {
     "data": {
      "image/png": "[encoded data removed]",
      "text/plain": [
       "<Figure size 640x480 with 2 Axes>"
      ]
     },
     "metadata": {},
     "output_type": "display_data"
    }
   ],
   "source": [
    "sns.heatmap(dati_birra_generali_NO_beve.corr(), annot=True, fmt=\".1f\", cmap=palette)\n",
    "plt.show()"
   ]
  },
  {
   "cell_type": "code",
   "execution_count": 150,
   "id": "0e0aa7d3",
   "metadata": {},
   "outputs": [],
   "source": [
    "# Calcola i bicchieri bevuto dalle donne e quelli dagli uomini vedi se ci sono discrepanze.\n",
    "# \n",
    "# cosa succede per chi non beve?"
   ]
  },
  {
   "cell_type": "markdown",
   "id": "b64835fa",
   "metadata": {},
   "source": [
    "### VINO"
   ]
  },
  {
   "cell_type": "code",
   "execution_count": 108,
   "id": "45d69871",
   "metadata": {},
   "outputs": [],
   "source": [
    "vino_vis = dati['VINO'].value_counts(normalize=True)"
   ]
  },
  {
   "cell_type": "code",
   "execution_count": 111,
   "id": "d33b8723",
   "metadata": {},
   "outputs": [],
   "source": [
    "labels_vino=['1 l/day', 'da 1/2 a 1 l /giorno','1-2 bicchieri al giorno', 'raramente', 'stagionalmente', 'non ne consuma']\n",
    "labels_vino.reverse()"
   ]
  },
  {
   "cell_type": "code",
   "execution_count": 112,
   "id": "17bd03f5",
   "metadata": {},
   "outputs": [
    {
     "data": {
      "text/html": [
       "<div>\n",
       "<style scoped>\n",
       "    .dataframe tbody tr th:only-of-type {\n",
       "        vertical-align: middle;\n",
       "    }\n",
       "\n",
       "    .dataframe tbody tr th {\n",
       "        vertical-align: top;\n",
       "    }\n",
       "\n",
       "    .dataframe thead th {\n",
       "        text-align: right;\n",
       "    }\n",
       "</style>\n",
       "<table border=\"1\" class=\"dataframe\">\n",
       "  <thead>\n",
       "    <tr style=\"text-align: right;\">\n",
       "      <th></th>\n",
       "      <th>SESSO</th>\n",
       "      <th>ETAMi</th>\n",
       "      <th>VINO</th>\n",
       "      <th>BICVINOM</th>\n",
       "    </tr>\n",
       "  </thead>\n",
       "  <tbody>\n",
       "    <tr>\n",
       "      <th>0</th>\n",
       "      <td>2</td>\n",
       "      <td>9</td>\n",
       "      <td>6.0</td>\n",
       "      <td>NaN</td>\n",
       "    </tr>\n",
       "    <tr>\n",
       "      <th>1</th>\n",
       "      <td>1</td>\n",
       "      <td>9</td>\n",
       "      <td>5.0</td>\n",
       "      <td>NaN</td>\n",
       "    </tr>\n",
       "    <tr>\n",
       "      <th>2</th>\n",
       "      <td>2</td>\n",
       "      <td>9</td>\n",
       "      <td>5.0</td>\n",
       "      <td>NaN</td>\n",
       "    </tr>\n",
       "    <tr>\n",
       "      <th>3</th>\n",
       "      <td>2</td>\n",
       "      <td>8</td>\n",
       "      <td>6.0</td>\n",
       "      <td>NaN</td>\n",
       "    </tr>\n",
       "    <tr>\n",
       "      <th>4</th>\n",
       "      <td>2</td>\n",
       "      <td>7</td>\n",
       "      <td>6.0</td>\n",
       "      <td>NaN</td>\n",
       "    </tr>\n",
       "    <tr>\n",
       "      <th>...</th>\n",
       "      <td>...</td>\n",
       "      <td>...</td>\n",
       "      <td>...</td>\n",
       "      <td>...</td>\n",
       "    </tr>\n",
       "    <tr>\n",
       "      <th>9711</th>\n",
       "      <td>2</td>\n",
       "      <td>9</td>\n",
       "      <td>6.0</td>\n",
       "      <td>NaN</td>\n",
       "    </tr>\n",
       "    <tr>\n",
       "      <th>9712</th>\n",
       "      <td>1</td>\n",
       "      <td>9</td>\n",
       "      <td>5.0</td>\n",
       "      <td>NaN</td>\n",
       "    </tr>\n",
       "    <tr>\n",
       "      <th>9713</th>\n",
       "      <td>1</td>\n",
       "      <td>8</td>\n",
       "      <td>6.0</td>\n",
       "      <td>NaN</td>\n",
       "    </tr>\n",
       "    <tr>\n",
       "      <th>9714</th>\n",
       "      <td>1</td>\n",
       "      <td>9</td>\n",
       "      <td>4.0</td>\n",
       "      <td>NaN</td>\n",
       "    </tr>\n",
       "    <tr>\n",
       "      <th>9715</th>\n",
       "      <td>1</td>\n",
       "      <td>9</td>\n",
       "      <td>6.0</td>\n",
       "      <td>NaN</td>\n",
       "    </tr>\n",
       "  </tbody>\n",
       "</table>\n",
       "<p>9716 rows × 4 columns</p>\n",
       "</div>"
      ],
      "text/plain": [
       "      SESSO  ETAMi  VINO  BICVINOM\n",
       "0         2      9   6.0       NaN\n",
       "1         1      9   5.0       NaN\n",
       "2         2      9   5.0       NaN\n",
       "3         2      8   6.0       NaN\n",
       "4         2      7   6.0       NaN\n",
       "...     ...    ...   ...       ...\n",
       "9711      2      9   6.0       NaN\n",
       "9712      1      9   5.0       NaN\n",
       "9713      1      8   6.0       NaN\n",
       "9714      1      9   4.0       NaN\n",
       "9715      1      9   6.0       NaN\n",
       "\n",
       "[9716 rows x 4 columns]"
      ]
     },
     "execution_count": 112,
     "metadata": {},
     "output_type": "execute_result"
    }
   ],
   "source": [
    "vino = dati[['SESSO', 'ETAMi', 'VINO', 'BICVINOM']]\n",
    "vino"
   ]
  },
  {
   "cell_type": "code",
   "execution_count": 113,
   "id": "48693b8b",
   "metadata": {},
   "outputs": [
    {
     "data": {
      "text/html": [
       "<div>\n",
       "<style scoped>\n",
       "    .dataframe tbody tr th:only-of-type {\n",
       "        vertical-align: middle;\n",
       "    }\n",
       "\n",
       "    .dataframe tbody tr th {\n",
       "        vertical-align: top;\n",
       "    }\n",
       "\n",
       "    .dataframe thead th {\n",
       "        text-align: right;\n",
       "    }\n",
       "</style>\n",
       "<table border=\"1\" class=\"dataframe\">\n",
       "  <thead>\n",
       "    <tr style=\"text-align: right;\">\n",
       "      <th></th>\n",
       "      <th>Donna</th>\n",
       "      <th>Uomo</th>\n",
       "    </tr>\n",
       "  </thead>\n",
       "  <tbody>\n",
       "    <tr>\n",
       "      <th>non ne consuma</th>\n",
       "      <td>63.523469</td>\n",
       "      <td>54.388877</td>\n",
       "    </tr>\n",
       "    <tr>\n",
       "      <th>stagionalmente</th>\n",
       "      <td>26.983793</td>\n",
       "      <td>30.711766</td>\n",
       "    </tr>\n",
       "    <tr>\n",
       "      <th>raramente</th>\n",
       "      <td>6.651231</td>\n",
       "      <td>8.092965</td>\n",
       "    </tr>\n",
       "    <tr>\n",
       "      <th>1-2 bicchieri al giorno</th>\n",
       "      <td>2.525784</td>\n",
       "      <td>5.872588</td>\n",
       "    </tr>\n",
       "    <tr>\n",
       "      <th>da 1/2 a 1 L /giorno</th>\n",
       "      <td>0.210482</td>\n",
       "      <td>0.830048</td>\n",
       "    </tr>\n",
       "    <tr>\n",
       "      <th>1 L/giorno</th>\n",
       "      <td>0.105241</td>\n",
       "      <td>0.103756</td>\n",
       "    </tr>\n",
       "  </tbody>\n",
       "</table>\n",
       "</div>"
      ],
      "text/plain": [
       "                             Donna       Uomo\n",
       "non ne consuma           63.523469  54.388877\n",
       "stagionalmente           26.983793  30.711766\n",
       "raramente                 6.651231   8.092965\n",
       "1-2 bicchieri al giorno   2.525784   5.872588\n",
       "da 1/2 a 1 L /giorno      0.210482   0.830048\n",
       "1 L/giorno                0.105241   0.103756"
      ]
     },
     "metadata": {},
     "output_type": "display_data"
    },
    {
     "data": {
      "image/png": "[encoded data removed]",
      "text/plain": [
       "<Figure size 640x480 with 1 Axes>"
      ]
     },
     "metadata": {},
     "output_type": "display_data"
    }
   ],
   "source": [
    "male_vino=dati[dati['SESSO']==1]['VINO'].value_counts(normalize=True)\n",
    "female_vino=dati[dati['SESSO']==2]['VINO'].value_counts(normalize=True)\n",
    "\n",
    "df=pd.DataFrame(dict(Donna=female_vino.values*100, Uomo=male_vino.values*100), index= labels_birra)\n",
    "display(df)\n",
    "graph= df.plot.barh(width= 0.8, color=['#76162d','#d68c91'])\n",
    "\n",
    "i = 0\n",
    "s=''\n",
    "color=''\n",
    "for p in graph.patches:    \n",
    "    width = p.get_width()\n",
    "    height = p.get_height()\n",
    "    x, y = p.get_xy()\n",
    "    if round(width)==0:\n",
    "        s='< 1%'\n",
    "    else:\n",
    "        s=str(round(width)) + '%'\n",
    "    plt.text(x + width, y+height/2, s ,ha='left',weight='light')\n",
    "    i+=1\n",
    "plt.title(\"Suddivisione assunzione di vino tra maschi e femmine\")\n",
    "#plt.legend(loc='lower right')\n",
    "plt.grid(False)\n",
    "plt.show()"
   ]
  },
  {
   "cell_type": "code",
   "execution_count": 115,
   "id": "64aab8d1",
   "metadata": {},
   "outputs": [
    {
     "data": {
      "text/html": [
       "<div>\n",
       "<style scoped>\n",
       "    .dataframe tbody tr th:only-of-type {\n",
       "        vertical-align: middle;\n",
       "    }\n",
       "\n",
       "    .dataframe tbody tr th {\n",
       "        vertical-align: top;\n",
       "    }\n",
       "\n",
       "    .dataframe thead th {\n",
       "        text-align: right;\n",
       "    }\n",
       "</style>\n",
       "<table border=\"1\" class=\"dataframe\">\n",
       "  <thead>\n",
       "    <tr style=\"text-align: right;\">\n",
       "      <th></th>\n",
       "      <th>SESSO</th>\n",
       "      <th>ETAMi</th>\n",
       "      <th>VINO</th>\n",
       "      <th>BICVINOM</th>\n",
       "    </tr>\n",
       "  </thead>\n",
       "  <tbody>\n",
       "    <tr>\n",
       "      <th>97</th>\n",
       "      <td>1</td>\n",
       "      <td>9</td>\n",
       "      <td>3.0</td>\n",
       "      <td>1.0</td>\n",
       "    </tr>\n",
       "    <tr>\n",
       "      <th>106</th>\n",
       "      <td>1</td>\n",
       "      <td>9</td>\n",
       "      <td>3.0</td>\n",
       "      <td>2.0</td>\n",
       "    </tr>\n",
       "    <tr>\n",
       "      <th>116</th>\n",
       "      <td>2</td>\n",
       "      <td>9</td>\n",
       "      <td>1.0</td>\n",
       "      <td>6.0</td>\n",
       "    </tr>\n",
       "    <tr>\n",
       "      <th>122</th>\n",
       "      <td>1</td>\n",
       "      <td>9</td>\n",
       "      <td>3.0</td>\n",
       "      <td>1.0</td>\n",
       "    </tr>\n",
       "    <tr>\n",
       "      <th>130</th>\n",
       "      <td>1</td>\n",
       "      <td>9</td>\n",
       "      <td>3.0</td>\n",
       "      <td>1.0</td>\n",
       "    </tr>\n",
       "    <tr>\n",
       "      <th>...</th>\n",
       "      <td>...</td>\n",
       "      <td>...</td>\n",
       "      <td>...</td>\n",
       "      <td>...</td>\n",
       "    </tr>\n",
       "    <tr>\n",
       "      <th>9595</th>\n",
       "      <td>1</td>\n",
       "      <td>9</td>\n",
       "      <td>3.0</td>\n",
       "      <td>1.0</td>\n",
       "    </tr>\n",
       "    <tr>\n",
       "      <th>9629</th>\n",
       "      <td>1</td>\n",
       "      <td>9</td>\n",
       "      <td>3.0</td>\n",
       "      <td>1.0</td>\n",
       "    </tr>\n",
       "    <tr>\n",
       "      <th>9630</th>\n",
       "      <td>1</td>\n",
       "      <td>7</td>\n",
       "      <td>2.0</td>\n",
       "      <td>6.0</td>\n",
       "    </tr>\n",
       "    <tr>\n",
       "      <th>9673</th>\n",
       "      <td>1</td>\n",
       "      <td>9</td>\n",
       "      <td>3.0</td>\n",
       "      <td>1.0</td>\n",
       "    </tr>\n",
       "    <tr>\n",
       "      <th>9690</th>\n",
       "      <td>1</td>\n",
       "      <td>9</td>\n",
       "      <td>3.0</td>\n",
       "      <td>1.0</td>\n",
       "    </tr>\n",
       "  </tbody>\n",
       "</table>\n",
       "<p>463 rows × 4 columns</p>\n",
       "</div>"
      ],
      "text/plain": [
       "      SESSO  ETAMi  VINO  BICVINOM\n",
       "97        1      9   3.0       1.0\n",
       "106       1      9   3.0       2.0\n",
       "116       2      9   1.0       6.0\n",
       "122       1      9   3.0       1.0\n",
       "130       1      9   3.0       1.0\n",
       "...     ...    ...   ...       ...\n",
       "9595      1      9   3.0       1.0\n",
       "9629      1      9   3.0       1.0\n",
       "9630      1      7   2.0       6.0\n",
       "9673      1      9   3.0       1.0\n",
       "9690      1      9   3.0       1.0\n",
       "\n",
       "[463 rows x 4 columns]"
      ]
     },
     "execution_count": 115,
     "metadata": {},
     "output_type": "execute_result"
    }
   ],
   "source": [
    "si_vino= vino[vino['VINO']<4]\n",
    "si_vino"
   ]
  },
  {
   "cell_type": "code",
   "execution_count": 116,
   "id": "c93adc7a",
   "metadata": {},
   "outputs": [
    {
     "data": {
      "text/html": [
       "<div>\n",
       "<style scoped>\n",
       "    .dataframe tbody tr th:only-of-type {\n",
       "        vertical-align: middle;\n",
       "    }\n",
       "\n",
       "    .dataframe tbody tr th {\n",
       "        vertical-align: top;\n",
       "    }\n",
       "\n",
       "    .dataframe thead th {\n",
       "        text-align: right;\n",
       "    }\n",
       "</style>\n",
       "<table border=\"1\" class=\"dataframe\">\n",
       "  <thead>\n",
       "    <tr style=\"text-align: right;\">\n",
       "      <th></th>\n",
       "      <th>ETAMi</th>\n",
       "      <th>BICVINOM</th>\n",
       "    </tr>\n",
       "  </thead>\n",
       "  <tbody>\n",
       "    <tr>\n",
       "      <th>0</th>\n",
       "      <td>4</td>\n",
       "      <td>6.0</td>\n",
       "    </tr>\n",
       "    <tr>\n",
       "      <th>1</th>\n",
       "      <td>5</td>\n",
       "      <td>18.0</td>\n",
       "    </tr>\n",
       "    <tr>\n",
       "      <th>2</th>\n",
       "      <td>6</td>\n",
       "      <td>13.0</td>\n",
       "    </tr>\n",
       "    <tr>\n",
       "      <th>3</th>\n",
       "      <td>7</td>\n",
       "      <td>52.0</td>\n",
       "    </tr>\n",
       "    <tr>\n",
       "      <th>4</th>\n",
       "      <td>8</td>\n",
       "      <td>164.0</td>\n",
       "    </tr>\n",
       "    <tr>\n",
       "      <th>5</th>\n",
       "      <td>9</td>\n",
       "      <td>586.0</td>\n",
       "    </tr>\n",
       "  </tbody>\n",
       "</table>\n",
       "</div>"
      ],
      "text/plain": [
       "   ETAMi  BICVINOM\n",
       "0      4       6.0\n",
       "1      5      18.0\n",
       "2      6      13.0\n",
       "3      7      52.0\n",
       "4      8     164.0\n",
       "5      9     586.0"
      ]
     },
     "metadata": {},
     "output_type": "display_data"
    },
    {
     "data": {
      "image/png": "[encoded data removed]",
      "text/plain": [
       "<Figure size 640x480 with 1 Axes>"
      ]
     },
     "metadata": {},
     "output_type": "display_data"
    }
   ],
   "source": [
    "dfvino = si_vino.groupby([\"ETAMi\"],as_index=False)[\"BICVINOM\"].sum()\n",
    "dfvino[\"BICVINOM\"]\n",
    "display(dfvino)\n",
    "\n",
    "sns.set_style(style=\"whitegrid\") \n",
    "l = ['11-13','14-15','16-17','18-19','20-24','25-34']\n",
    "squarify.plot(sizes=dfvino['BICVINOM'], label=l, alpha=0.6, color=['#f2c6c5','#e96672','#f1959a','#c5233d','#be2556','#8b1d3c']).set(\n",
    "    title='Consumo di vino nei giovani suddivisi per età')\n",
    "plt.axis('off')\n",
    "plt.show()"
   ]
  },
  {
   "cell_type": "code",
   "execution_count": 136,
   "id": "fb8bf7bc",
   "metadata": {},
   "outputs": [
    {
     "name": "stdout",
     "output_type": "stream",
     "text": [
      "[3.0, 3.6, 2.1666666666666665, 2.1666666666666665, 1.8850574712643677, 1.7286135693215339]\n"
     ]
    },
    {
     "data": {
      "text/plain": [
       "['11-13 anni',\n",
       " '14-15 anni',\n",
       " '16-17 anni',\n",
       " '18-19 anni',\n",
       " '20-24 anni',\n",
       " '25-29 anni',\n",
       " 0.6793820933165196,\n",
       " 1.0,\n",
       " 0.23407944514501886,\n",
       " 0.23407944514501886,\n",
       " 0.08359786059051179,\n",
       " 0.0]"
      ]
     },
     "metadata": {},
     "output_type": "display_data"
    },
    {
     "data": {
      "image/png": "[encoded data removed]",
      "text/plain": [
       "<Figure size 640x480 with 1 Axes>"
      ]
     },
     "metadata": {},
     "output_type": "display_data"
    }
   ],
   "source": [
    "dfSup = si_vino.groupby([\"ETAMi\"],as_index=False)[\"BICVINOM\"].sum()\n",
    "tot= si_vino[\"ETAMi\"].value_counts().sort_index()\n",
    "k=(dfSup['BICVINOM'].tolist()/tot).tolist()\n",
    "print(k)\n",
    "g=[]\n",
    "min_v= min(k)\n",
    "max_v= max(k)\n",
    "palette_b=['#be2556','#8b1d3c','#c5233d','#e96672' ,'#f1959a' , '#f2c6c5']\n",
    "           \n",
    "for i in k:\n",
    "           g.append((i - min_v)/(max_v - min_v ))\n",
    "\n",
    "display(list(labels_eta) + g)\n",
    "\n",
    "norm=squarify.normalize_sizes([i for i in g if i > 0], dx=3, dy=3)\n",
    "squarify.plot(sizes=norm, label=labels_eta[1:], color=palette_b, text_kwargs={'color': 'black'}, alpha=0.6).set(\n",
    "    title='Consumo di vino nei giovani suddivisi per età')\n",
    "plt.axis('off')\n",
    "plt.show()"
   ]
  },
  {
   "cell_type": "code",
   "execution_count": 145,
   "id": "d93af8f9",
   "metadata": {},
   "outputs": [
    {
     "data": {
      "image/png": "[encoded data removed]",
      "text/plain": [
       "<Figure size 640x480 with 1 Axes>"
      ]
     },
     "metadata": {},
     "output_type": "display_data"
    }
   ],
   "source": [
    "no_vino=dati[dati['VINO']>=4]\n",
    "dati_no_vino = pd.crosstab(no_vino['ETAMi'], no_vino['SESSO'], normalize=True)\n",
    "dati_no_vino\n",
    "\n",
    "explode=(0.02,0.02)\n",
    "_,_, autotexts= plt.pie(no_vino['SESSO'].value_counts(normalize=True).values, labels = ['Donna','Uomo'] ,colors=['#76162d','#d68c91'], autopct='%.0f%%', explode=explode)\n",
    "for autotext in autotexts:\n",
    "    autotext.set_color('white')\n",
    "plt.title('Intervastati che non bevono vino')\n",
    "plt.show()"
   ]
  },
  {
   "cell_type": "code",
   "execution_count": 146,
   "id": "589928fe",
   "metadata": {},
   "outputs": [
    {
     "data": {
      "image/png": "[encoded data removed]",
      "text/plain": [
       "<Figure size 640x480 with 1 Axes>"
      ]
     },
     "metadata": {},
     "output_type": "display_data"
    }
   ],
   "source": [
    "explode=(0.02,0.02)\n",
    "_,_, autotexts= plt.pie(no_vino['SESSO'].value_counts(normalize=True).values, labels = ['Donna','Uomo'] ,colors=['#76162d','#d68c91'], autopct='%.0f%%', explode=explode)\n",
    "for autotext in autotexts:\n",
    "    autotext.set_color('white')\n",
    "plt.title('Intervastati che non bevono vino')\n",
    "plt.show()"
   ]
  },
  {
   "cell_type": "code",
   "execution_count": 147,
   "id": "21e073ea",
   "metadata": {},
   "outputs": [
    {
     "data": {
      "image/png": "[encoded data removed]",
      "text/plain": [
       "<Figure size 640x480 with 1 Axes>"
      ]
     },
     "metadata": {},
     "output_type": "display_data"
    }
   ],
   "source": [
    "pd.DataFrame(index=labels_eta, data={'Donna':dati_no_vino[2].values*100, 'Uomo':dati_no_vino[1].values*100 }).plot(kind='barh',color=['#76162d','#d68c91'])\n",
    "plt.grid(False)\n",
    "plt.show()"
   ]
  },
  {
   "cell_type": "code",
   "execution_count": 503,
   "id": "17811ead",
   "metadata": {},
   "outputs": [
    {
     "data": {
      "text/html": [
       "<div>\n",
       "<style scoped>\n",
       "    .dataframe tbody tr th:only-of-type {\n",
       "        vertical-align: middle;\n",
       "    }\n",
       "\n",
       "    .dataframe tbody tr th {\n",
       "        vertical-align: top;\n",
       "    }\n",
       "\n",
       "    .dataframe thead th {\n",
       "        text-align: right;\n",
       "    }\n",
       "</style>\n",
       "<table border=\"1\" class=\"dataframe\">\n",
       "  <thead>\n",
       "    <tr style=\"text-align: right;\">\n",
       "      <th></th>\n",
       "      <th>ETAMi</th>\n",
       "      <th>SESSO</th>\n",
       "      <th>VINO</th>\n",
       "      <th>BICVINOM</th>\n",
       "      <th>DOVCASP</th>\n",
       "      <th>DOVAMPA</th>\n",
       "      <th>DOVRISTO</th>\n",
       "      <th>DOVPUB</th>\n",
       "      <th>DOVDISCO</th>\n",
       "      <th>DOVSTR</th>\n",
       "    </tr>\n",
       "  </thead>\n",
       "  <tbody>\n",
       "    <tr>\n",
       "      <th>97</th>\n",
       "      <td>9</td>\n",
       "      <td>1</td>\n",
       "      <td>3.0</td>\n",
       "      <td>1.0</td>\n",
       "      <td>NO</td>\n",
       "      <td>NO</td>\n",
       "      <td>NO</td>\n",
       "      <td>NO</td>\n",
       "      <td>NO</td>\n",
       "      <td>NO</td>\n",
       "    </tr>\n",
       "    <tr>\n",
       "      <th>106</th>\n",
       "      <td>9</td>\n",
       "      <td>1</td>\n",
       "      <td>3.0</td>\n",
       "      <td>2.0</td>\n",
       "      <td>SI</td>\n",
       "      <td>NO</td>\n",
       "      <td>NO</td>\n",
       "      <td>NO</td>\n",
       "      <td>NO</td>\n",
       "      <td>NO</td>\n",
       "    </tr>\n",
       "    <tr>\n",
       "      <th>116</th>\n",
       "      <td>9</td>\n",
       "      <td>2</td>\n",
       "      <td>1.0</td>\n",
       "      <td>6.0</td>\n",
       "      <td>NO</td>\n",
       "      <td>NO</td>\n",
       "      <td>NO</td>\n",
       "      <td>NO</td>\n",
       "      <td>NO</td>\n",
       "      <td>NO</td>\n",
       "    </tr>\n",
       "    <tr>\n",
       "      <th>122</th>\n",
       "      <td>9</td>\n",
       "      <td>1</td>\n",
       "      <td>3.0</td>\n",
       "      <td>1.0</td>\n",
       "      <td>NO</td>\n",
       "      <td>NO</td>\n",
       "      <td>NO</td>\n",
       "      <td>SI</td>\n",
       "      <td>NO</td>\n",
       "      <td>NO</td>\n",
       "    </tr>\n",
       "    <tr>\n",
       "      <th>130</th>\n",
       "      <td>9</td>\n",
       "      <td>1</td>\n",
       "      <td>3.0</td>\n",
       "      <td>1.0</td>\n",
       "      <td>NO</td>\n",
       "      <td>NO</td>\n",
       "      <td>NO</td>\n",
       "      <td>NO</td>\n",
       "      <td>NO</td>\n",
       "      <td>NO</td>\n",
       "    </tr>\n",
       "    <tr>\n",
       "      <th>...</th>\n",
       "      <td>...</td>\n",
       "      <td>...</td>\n",
       "      <td>...</td>\n",
       "      <td>...</td>\n",
       "      <td>...</td>\n",
       "      <td>...</td>\n",
       "      <td>...</td>\n",
       "      <td>...</td>\n",
       "      <td>...</td>\n",
       "      <td>...</td>\n",
       "    </tr>\n",
       "    <tr>\n",
       "      <th>9595</th>\n",
       "      <td>9</td>\n",
       "      <td>1</td>\n",
       "      <td>3.0</td>\n",
       "      <td>1.0</td>\n",
       "      <td>NO</td>\n",
       "      <td>NO</td>\n",
       "      <td>SI</td>\n",
       "      <td>SI</td>\n",
       "      <td>SI</td>\n",
       "      <td>NO</td>\n",
       "    </tr>\n",
       "    <tr>\n",
       "      <th>9629</th>\n",
       "      <td>9</td>\n",
       "      <td>1</td>\n",
       "      <td>3.0</td>\n",
       "      <td>1.0</td>\n",
       "      <td>SI</td>\n",
       "      <td>SI</td>\n",
       "      <td>SI</td>\n",
       "      <td>SI</td>\n",
       "      <td>SI</td>\n",
       "      <td>SI</td>\n",
       "    </tr>\n",
       "    <tr>\n",
       "      <th>9630</th>\n",
       "      <td>7</td>\n",
       "      <td>1</td>\n",
       "      <td>2.0</td>\n",
       "      <td>6.0</td>\n",
       "      <td>SI</td>\n",
       "      <td>SI</td>\n",
       "      <td>NO</td>\n",
       "      <td>NO</td>\n",
       "      <td>NO</td>\n",
       "      <td>NO</td>\n",
       "    </tr>\n",
       "    <tr>\n",
       "      <th>9673</th>\n",
       "      <td>9</td>\n",
       "      <td>1</td>\n",
       "      <td>3.0</td>\n",
       "      <td>1.0</td>\n",
       "      <td>NO</td>\n",
       "      <td>NO</td>\n",
       "      <td>NO</td>\n",
       "      <td>NO</td>\n",
       "      <td>NO</td>\n",
       "      <td>NO</td>\n",
       "    </tr>\n",
       "    <tr>\n",
       "      <th>9690</th>\n",
       "      <td>9</td>\n",
       "      <td>1</td>\n",
       "      <td>3.0</td>\n",
       "      <td>1.0</td>\n",
       "      <td>NO</td>\n",
       "      <td>SI</td>\n",
       "      <td>NO</td>\n",
       "      <td>NO</td>\n",
       "      <td>NO</td>\n",
       "      <td>NO</td>\n",
       "    </tr>\n",
       "  </tbody>\n",
       "</table>\n",
       "<p>463 rows × 10 columns</p>\n",
       "</div>"
      ],
      "text/plain": [
       "      ETAMi  SESSO  VINO  BICVINOM DOVCASP DOVAMPA DOVRISTO DOVPUB DOVDISCO  \\\n",
       "97        9      1   3.0       1.0      NO      NO       NO     NO       NO   \n",
       "106       9      1   3.0       2.0      SI      NO       NO     NO       NO   \n",
       "116       9      2   1.0       6.0      NO      NO       NO     NO       NO   \n",
       "122       9      1   3.0       1.0      NO      NO       NO     SI       NO   \n",
       "130       9      1   3.0       1.0      NO      NO       NO     NO       NO   \n",
       "...     ...    ...   ...       ...     ...     ...      ...    ...      ...   \n",
       "9595      9      1   3.0       1.0      NO      NO       SI     SI       SI   \n",
       "9629      9      1   3.0       1.0      SI      SI       SI     SI       SI   \n",
       "9630      7      1   2.0       6.0      SI      SI       NO     NO       NO   \n",
       "9673      9      1   3.0       1.0      NO      NO       NO     NO       NO   \n",
       "9690      9      1   3.0       1.0      NO      SI       NO     NO       NO   \n",
       "\n",
       "     DOVSTR  \n",
       "97       NO  \n",
       "106      NO  \n",
       "116      NO  \n",
       "122      NO  \n",
       "130      NO  \n",
       "...     ...  \n",
       "9595     NO  \n",
       "9629     SI  \n",
       "9630     NO  \n",
       "9673     NO  \n",
       "9690     NO  \n",
       "\n",
       "[463 rows x 10 columns]"
      ]
     },
     "execution_count": 503,
     "metadata": {},
     "output_type": "execute_result"
    }
   ],
   "source": [
    "posto_consumo_di_vino=dati[dati['VINO']<4][['ETAMi', 'SESSO', 'VINO', 'BICVINOM', 'DOVCASP', 'DOVAMPA', 'DOVRISTO', 'DOVPUB',\n",
    "       'DOVDISCO', 'DOVSTR']]\n",
    "posto_consumo_di_vino = posto_consumo_di_vino.fillna(0)\n",
    "\n",
    "\n",
    "\n",
    "for num, i in enumerate([ 'DOVCASP', 'DOVAMPA', 'DOVRISTO', 'DOVPUB', 'DOVDISCO', 'DOVSTR']):\n",
    "    num= num +1\n",
    "    posto_consumo_di_vino[i].replace( num, 'SI', inplace=True)\n",
    "    posto_consumo_di_vino[i].replace( 0, 'NO', inplace=True)\n",
    "posto_consumo_di_vino "
   ]
  },
  {
   "cell_type": "code",
   "execution_count": 504,
   "id": "3b3340ee",
   "metadata": {},
   "outputs": [
    {
     "name": "stdout",
     "output_type": "stream",
     "text": [
      "DOVCASP 9\n",
      "NO    0.870206\n",
      "SI    0.129794\n",
      "Name: DOVCASP, dtype: float64\n",
      "--------------------------------------------------------------------------------\n",
      "DOVCASP 8\n",
      "NO    0.954023\n",
      "SI    0.045977\n",
      "Name: DOVCASP, dtype: float64\n",
      "--------------------------------------------------------------------------------\n",
      "DOVCASP 4\n",
      "NO    1.0\n",
      "Name: DOVCASP, dtype: float64\n",
      "--------------------------------------------------------------------------------\n",
      "DOVCASP 6\n",
      "NO    1.0\n",
      "Name: DOVCASP, dtype: float64\n",
      "--------------------------------------------------------------------------------\n",
      "DOVCASP 7\n",
      "NO    0.791667\n",
      "SI    0.208333\n",
      "Name: DOVCASP, dtype: float64\n",
      "--------------------------------------------------------------------------------\n",
      "DOVCASP 5\n",
      "NO    0.8\n",
      "SI    0.2\n",
      "Name: DOVCASP, dtype: float64\n",
      "--------------------------------------------------------------------------------\n",
      "DOVAMPA 9\n",
      "NO    0.858407\n",
      "SI    0.141593\n",
      "Name: DOVAMPA, dtype: float64\n",
      "--------------------------------------------------------------------------------\n",
      "DOVAMPA 8\n",
      "NO    0.862069\n",
      "SI    0.137931\n",
      "Name: DOVAMPA, dtype: float64\n",
      "--------------------------------------------------------------------------------\n",
      "DOVAMPA 4\n",
      "NO    1.0\n",
      "Name: DOVAMPA, dtype: float64\n",
      "--------------------------------------------------------------------------------\n",
      "DOVAMPA 6\n",
      "NO    1.0\n",
      "Name: DOVAMPA, dtype: float64\n",
      "--------------------------------------------------------------------------------\n",
      "DOVAMPA 7\n",
      "NO    0.875\n",
      "SI    0.125\n",
      "Name: DOVAMPA, dtype: float64\n",
      "--------------------------------------------------------------------------------\n",
      "DOVAMPA 5\n",
      "NO    0.8\n",
      "SI    0.2\n",
      "Name: DOVAMPA, dtype: float64\n",
      "--------------------------------------------------------------------------------\n",
      "DOVRISTO 9\n",
      "NO    0.908555\n",
      "SI    0.091445\n",
      "Name: DOVRISTO, dtype: float64\n",
      "--------------------------------------------------------------------------------\n",
      "DOVRISTO 8\n",
      "NO    0.954023\n",
      "SI    0.045977\n",
      "Name: DOVRISTO, dtype: float64\n",
      "--------------------------------------------------------------------------------\n",
      "DOVRISTO 4\n",
      "NO    1.0\n",
      "Name: DOVRISTO, dtype: float64\n",
      "--------------------------------------------------------------------------------\n",
      "DOVRISTO 6\n",
      "NO    1.0\n",
      "Name: DOVRISTO, dtype: float64\n",
      "--------------------------------------------------------------------------------\n",
      "DOVRISTO 7\n",
      "NO    0.916667\n",
      "SI    0.083333\n",
      "Name: DOVRISTO, dtype: float64\n",
      "--------------------------------------------------------------------------------\n",
      "DOVRISTO 5\n",
      "NO    1.0\n",
      "Name: DOVRISTO, dtype: float64\n",
      "--------------------------------------------------------------------------------\n",
      "DOVPUB 9\n",
      "NO    0.902655\n",
      "SI    0.097345\n",
      "Name: DOVPUB, dtype: float64\n",
      "--------------------------------------------------------------------------------\n",
      "DOVPUB 8\n",
      "NO    0.804598\n",
      "SI    0.195402\n",
      "Name: DOVPUB, dtype: float64\n",
      "--------------------------------------------------------------------------------\n",
      "DOVPUB 4\n",
      "NO    1.0\n",
      "Name: DOVPUB, dtype: float64\n",
      "--------------------------------------------------------------------------------\n",
      "DOVPUB 6\n",
      "NO    0.833333\n",
      "SI    0.166667\n",
      "Name: DOVPUB, dtype: float64\n",
      "--------------------------------------------------------------------------------\n",
      "DOVPUB 7\n",
      "NO    0.75\n",
      "SI    0.25\n",
      "Name: DOVPUB, dtype: float64\n",
      "--------------------------------------------------------------------------------\n",
      "DOVPUB 5\n",
      "NO    1.0\n",
      "Name: DOVPUB, dtype: float64\n",
      "--------------------------------------------------------------------------------\n",
      "DOVDISCO 9\n",
      "NO    0.943953\n",
      "SI    0.056047\n",
      "Name: DOVDISCO, dtype: float64\n",
      "--------------------------------------------------------------------------------\n",
      "DOVDISCO 8\n",
      "NO    0.896552\n",
      "SI    0.103448\n",
      "Name: DOVDISCO, dtype: float64\n",
      "--------------------------------------------------------------------------------\n",
      "DOVDISCO 4\n",
      "NO    1.0\n",
      "Name: DOVDISCO, dtype: float64\n",
      "--------------------------------------------------------------------------------\n",
      "DOVDISCO 6\n",
      "NO    0.666667\n",
      "SI    0.333333\n",
      "Name: DOVDISCO, dtype: float64\n",
      "--------------------------------------------------------------------------------\n",
      "DOVDISCO 7\n",
      "NO    0.916667\n",
      "SI    0.083333\n",
      "Name: DOVDISCO, dtype: float64\n",
      "--------------------------------------------------------------------------------\n",
      "DOVDISCO 5\n",
      "NO    1.0\n",
      "Name: DOVDISCO, dtype: float64\n",
      "--------------------------------------------------------------------------------\n",
      "DOVSTR 9\n",
      "NO    0.964602\n",
      "SI    0.035398\n",
      "Name: DOVSTR, dtype: float64\n",
      "--------------------------------------------------------------------------------\n",
      "DOVSTR 8\n",
      "NO    0.942529\n",
      "SI    0.057471\n",
      "Name: DOVSTR, dtype: float64\n",
      "--------------------------------------------------------------------------------\n",
      "DOVSTR 4\n",
      "NO    1.0\n",
      "Name: DOVSTR, dtype: float64\n",
      "--------------------------------------------------------------------------------\n",
      "DOVSTR 6\n",
      "NO    1.0\n",
      "Name: DOVSTR, dtype: float64\n",
      "--------------------------------------------------------------------------------\n",
      "DOVSTR 7\n",
      "NO    0.875\n",
      "SI    0.125\n",
      "Name: DOVSTR, dtype: float64\n",
      "--------------------------------------------------------------------------------\n",
      "DOVSTR 5\n",
      "NO    0.8\n",
      "SI    0.2\n",
      "Name: DOVSTR, dtype: float64\n",
      "--------------------------------------------------------------------------------\n"
     ]
    }
   ],
   "source": [
    "for k in ['DOVCASP', 'DOVAMPA', 'DOVRISTO', 'DOVPUB', 'DOVDISCO', 'DOVSTR']:    \n",
    "    for i in posto_consumo_di_vino['ETAMi'].unique():\n",
    "        print(k, i)\n",
    "        print(posto_consumo_di_vino[posto_consumo_di_vino['ETAMi']==i][k].value_counts(normalize=True))\n",
    "        print('-'*80)"
   ]
  },
  {
   "cell_type": "code",
   "execution_count": 154,
   "id": "6e501aa2",
   "metadata": {},
   "outputs": [
    {
     "data": {
      "application/vnd.plotly.v1+json": {
       "config": {
        "plotlyServerURL": "https://plot.ly"
       },
       "data": [
        {
         "name": "14-15",
         "r": [
          0.2,
          0.2,
          0,
          0,
          0.2,
          0.2
         ],
         "theta": [
          "CASA",
          "CASA PARENTI/AMICI",
          "RISTORANTE",
          "PUB",
          "DISCO",
          "STRADA",
          "CASA"
         ],
         "type": "scatterpolar"
        },
        {
         "name": "16-17",
         "r": [
          0,
          0,
          0,
          0.17,
          0.33,
          0,
          0
         ],
         "theta": [
          "CASA",
          "CASA PARENTI/AMICI",
          "RISTORANTE",
          "PUB",
          "DISCO",
          "STRADA",
          "CASA"
         ],
         "type": "scatterpolar"
        },
        {
         "name": "18-19",
         "r": [
          0.21,
          0.12,
          0.08,
          0.25,
          0.08,
          0.13,
          0.21
         ],
         "theta": [
          "CASA",
          "CASA PARENTI/AMICI",
          "RISTORANTE",
          "PUB",
          "DISCO",
          "STRADA",
          "CASA"
         ],
         "type": "scatterpolar"
        },
        {
         "name": "20-24",
         "r": [
          0.04,
          0.14,
          0.05,
          0.19,
          0.1,
          0.06,
          0.04
         ],
         "theta": [
          "CASA",
          "CASA PARENTI/AMICI",
          "RISTORANTE",
          "PUB",
          "DISCO",
          "STRADA",
          "CASA"
         ],
         "type": "scatterpolar"
        },
        {
         "name": "25-29",
         "r": [
          0.13,
          0.14,
          0.09,
          0.09,
          0.06,
          0.04,
          0.13
         ],
         "theta": [
          "CASA",
          "CASA PARENTI/AMICI",
          "RISTORANTE",
          "PUB",
          "DISCO",
          "STRADA",
          "CASA"
         ],
         "type": "scatterpolar"
        }
       ],
       "layout": {
        "polar": {
         "radialaxis": {
          "visible": false
         }
        },
        "showlegend": true,
        "template": {
         "data": {
          "bar": [
           {
            "error_x": {
             "color": "#2a3f5f"
            },
            "error_y": {
             "color": "#2a3f5f"
            },
            "marker": {
             "line": {
              "color": "#E5ECF6",
              "width": 0.5
             },
             "pattern": {
              "fillmode": "overlay",
              "size": 10,
              "solidity": 0.2
             }
            },
            "type": "bar"
           }
          ],
          "barpolar": [
           {
            "marker": {
             "line": {
              "color": "#E5ECF6",
              "width": 0.5
             },
             "pattern": {
              "fillmode": "overlay",
              "size": 10,
              "solidity": 0.2
             }
            },
            "type": "barpolar"
           }
          ],
          "carpet": [
           {
            "aaxis": {
             "endlinecolor": "#2a3f5f",
             "gridcolor": "white",
             "linecolor": "white",
             "minorgridcolor": "white",
             "startlinecolor": "#2a3f5f"
            },
            "baxis": {
             "endlinecolor": "#2a3f5f",
             "gridcolor": "white",
             "linecolor": "white",
             "minorgridcolor": "white",
             "startlinecolor": "#2a3f5f"
            },
            "type": "carpet"
           }
          ],
          "choropleth": [
           {
            "colorbar": {
             "outlinewidth": 0,
             "ticks": ""
            },
            "type": "choropleth"
           }
          ],
          "contour": [
           {
            "colorbar": {
             "outlinewidth": 0,
             "ticks": ""
            },
            "colorscale": [
             [
              0,
              "#0d0887"
             ],
             [
              0.1111111111111111,
              "#46039f"
             ],
             [
              0.2222222222222222,
              "#7201a8"
             ],
             [
              0.3333333333333333,
              "#9c179e"
             ],
             [
              0.4444444444444444,
              "#bd3786"
             ],
             [
              0.5555555555555556,
              "#d8576b"
             ],
             [
              0.6666666666666666,
              "#ed7953"
             ],
             [
              0.7777777777777778,
              "#fb9f3a"
             ],
             [
              0.8888888888888888,
              "#fdca26"
             ],
             [
              1,
              "#f0f921"
             ]
            ],
            "type": "contour"
           }
          ],
          "contourcarpet": [
           {
            "colorbar": {
             "outlinewidth": 0,
             "ticks": ""
            },
            "type": "contourcarpet"
           }
          ],
          "heatmap": [
           {
            "colorbar": {
             "outlinewidth": 0,
             "ticks": ""
            },
            "colorscale": [
             [
              0,
              "#0d0887"
             ],
             [
              0.1111111111111111,
              "#46039f"
             ],
             [
              0.2222222222222222,
              "#7201a8"
             ],
             [
              0.3333333333333333,
              "#9c179e"
             ],
             [
              0.4444444444444444,
              "#bd3786"
             ],
             [
              0.5555555555555556,
              "#d8576b"
             ],
             [
              0.6666666666666666,
              "#ed7953"
             ],
             [
              0.7777777777777778,
              "#fb9f3a"
             ],
             [
              0.8888888888888888,
              "#fdca26"
             ],
             [
              1,
              "#f0f921"
             ]
            ],
            "type": "heatmap"
           }
          ],
          "heatmapgl": [
           {
            "colorbar": {
             "outlinewidth": 0,
             "ticks": ""
            },
            "colorscale": [
             [
              0,
              "#0d0887"
             ],
             [
              0.1111111111111111,
              "#46039f"
             ],
             [
              0.2222222222222222,
              "#7201a8"
             ],
             [
              0.3333333333333333,
              "#9c179e"
             ],
             [
              0.4444444444444444,
              "#bd3786"
             ],
             [
              0.5555555555555556,
              "#d8576b"
             ],
             [
              0.6666666666666666,
              "#ed7953"
             ],
             [
              0.7777777777777778,
              "#fb9f3a"
             ],
             [
              0.8888888888888888,
              "#fdca26"
             ],
             [
              1,
              "#f0f921"
             ]
            ],
            "type": "heatmapgl"
           }
          ],
          "histogram": [
           {
            "marker": {
             "pattern": {
              "fillmode": "overlay",
              "size": 10,
              "solidity": 0.2
             }
            },
            "type": "histogram"
           }
          ],
          "histogram2d": [
           {
            "colorbar": {
             "outlinewidth": 0,
             "ticks": ""
            },
            "colorscale": [
             [
              0,
              "#0d0887"
             ],
             [
              0.1111111111111111,
              "#46039f"
             ],
             [
              0.2222222222222222,
              "#7201a8"
             ],
             [
              0.3333333333333333,
              "#9c179e"
             ],
             [
              0.4444444444444444,
              "#bd3786"
             ],
             [
              0.5555555555555556,
              "#d8576b"
             ],
             [
              0.6666666666666666,
              "#ed7953"
             ],
             [
              0.7777777777777778,
              "#fb9f3a"
             ],
             [
              0.8888888888888888,
              "#fdca26"
             ],
             [
              1,
              "#f0f921"
             ]
            ],
            "type": "histogram2d"
           }
          ],
          "histogram2dcontour": [
           {
            "colorbar": {
             "outlinewidth": 0,
             "ticks": ""
            },
            "colorscale": [
             [
              0,
              "#0d0887"
             ],
             [
              0.1111111111111111,
              "#46039f"
             ],
             [
              0.2222222222222222,
              "#7201a8"
             ],
             [
              0.3333333333333333,
              "#9c179e"
             ],
             [
              0.4444444444444444,
              "#bd3786"
             ],
             [
              0.5555555555555556,
              "#d8576b"
             ],
             [
              0.6666666666666666,
              "#ed7953"
             ],
             [
              0.7777777777777778,
              "#fb9f3a"
             ],
             [
              0.8888888888888888,
              "#fdca26"
             ],
             [
              1,
              "#f0f921"
             ]
            ],
            "type": "histogram2dcontour"
           }
          ],
          "mesh3d": [
           {
            "colorbar": {
             "outlinewidth": 0,
             "ticks": ""
            },
            "type": "mesh3d"
           }
          ],
          "parcoords": [
           {
            "line": {
             "colorbar": {
              "outlinewidth": 0,
              "ticks": ""
             }
            },
            "type": "parcoords"
           }
          ],
          "pie": [
           {
            "automargin": true,
            "type": "pie"
           }
          ],
          "scatter": [
           {
            "fillpattern": {
             "fillmode": "overlay",
             "size": 10,
             "solidity": 0.2
            },
            "type": "scatter"
           }
          ],
          "scatter3d": [
           {
            "line": {
             "colorbar": {
              "outlinewidth": 0,
              "ticks": ""
             }
            },
            "marker": {
             "colorbar": {
              "outlinewidth": 0,
              "ticks": ""
             }
            },
            "type": "scatter3d"
           }
          ],
          "scattercarpet": [
           {
            "marker": {
             "colorbar": {
              "outlinewidth": 0,
              "ticks": ""
             }
            },
            "type": "scattercarpet"
           }
          ],
          "scattergeo": [
           {
            "marker": {
             "colorbar": {
              "outlinewidth": 0,
              "ticks": ""
             }
            },
            "type": "scattergeo"
           }
          ],
          "scattergl": [
           {
            "marker": {
             "colorbar": {
              "outlinewidth": 0,
              "ticks": ""
             }
            },
            "type": "scattergl"
           }
          ],
          "scattermapbox": [
           {
            "marker": {
             "colorbar": {
              "outlinewidth": 0,
              "ticks": ""
             }
            },
            "type": "scattermapbox"
           }
          ],
          "scatterpolar": [
           {
            "marker": {
             "colorbar": {
              "outlinewidth": 0,
              "ticks": ""
             }
            },
            "type": "scatterpolar"
           }
          ],
          "scatterpolargl": [
           {
            "marker": {
             "colorbar": {
              "outlinewidth": 0,
              "ticks": ""
             }
            },
            "type": "scatterpolargl"
           }
          ],
          "scatterternary": [
           {
            "marker": {
             "colorbar": {
              "outlinewidth": 0,
              "ticks": ""
             }
            },
            "type": "scatterternary"
           }
          ],
          "surface": [
           {
            "colorbar": {
             "outlinewidth": 0,
             "ticks": ""
            },
            "colorscale": [
             [
              0,
              "#0d0887"
             ],
             [
              0.1111111111111111,
              "#46039f"
             ],
             [
              0.2222222222222222,
              "#7201a8"
             ],
             [
              0.3333333333333333,
              "#9c179e"
             ],
             [
              0.4444444444444444,
              "#bd3786"
             ],
             [
              0.5555555555555556,
              "#d8576b"
             ],
             [
              0.6666666666666666,
              "#ed7953"
             ],
             [
              0.7777777777777778,
              "#fb9f3a"
             ],
             [
              0.8888888888888888,
              "#fdca26"
             ],
             [
              1,
              "#f0f921"
             ]
            ],
            "type": "surface"
           }
          ],
          "table": [
           {
            "cells": {
             "fill": {
              "color": "#EBF0F8"
             },
             "line": {
              "color": "white"
             }
            },
            "header": {
             "fill": {
              "color": "#C8D4E3"
             },
             "line": {
              "color": "white"
             }
            },
            "type": "table"
           }
          ]
         },
         "layout": {
          "annotationdefaults": {
           "arrowcolor": "#2a3f5f",
           "arrowhead": 0,
           "arrowwidth": 1
          },
          "autotypenumbers": "strict",
          "coloraxis": {
           "colorbar": {
            "outlinewidth": 0,
            "ticks": ""
           }
          },
          "colorscale": {
           "diverging": [
            [
             0,
             "#8e0152"
            ],
            [
             0.1,
             "#c51b7d"
            ],
            [
             0.2,
             "#de77ae"
            ],
            [
             0.3,
             "#f1b6da"
            ],
            [
             0.4,
             "#fde0ef"
            ],
            [
             0.5,
             "#f7f7f7"
            ],
            [
             0.6,
             "#e6f5d0"
            ],
            [
             0.7,
             "#b8e186"
            ],
            [
             0.8,
             "#7fbc41"
            ],
            [
             0.9,
             "#4d9221"
            ],
            [
             1,
             "#276419"
            ]
           ],
           "sequential": [
            [
             0,
             "#0d0887"
            ],
            [
             0.1111111111111111,
             "#46039f"
            ],
            [
             0.2222222222222222,
             "#7201a8"
            ],
            [
             0.3333333333333333,
             "#9c179e"
            ],
            [
             0.4444444444444444,
             "#bd3786"
            ],
            [
             0.5555555555555556,
             "#d8576b"
            ],
            [
             0.6666666666666666,
             "#ed7953"
            ],
            [
             0.7777777777777778,
             "#fb9f3a"
            ],
            [
             0.8888888888888888,
             "#fdca26"
            ],
            [
             1,
             "#f0f921"
            ]
           ],
           "sequentialminus": [
            [
             0,
             "#0d0887"
            ],
            [
             0.1111111111111111,
             "#46039f"
            ],
            [
             0.2222222222222222,
             "#7201a8"
            ],
            [
             0.3333333333333333,
             "#9c179e"
            ],
            [
             0.4444444444444444,
             "#bd3786"
            ],
            [
             0.5555555555555556,
             "#d8576b"
            ],
            [
             0.6666666666666666,
             "#ed7953"
            ],
            [
             0.7777777777777778,
             "#fb9f3a"
            ],
            [
             0.8888888888888888,
             "#fdca26"
            ],
            [
             1,
             "#f0f921"
            ]
           ]
          },
          "colorway": [
           "#636efa",
           "#EF553B",
           "#00cc96",
           "#ab63fa",
           "#FFA15A",
           "#19d3f3",
           "#FF6692",
           "#B6E880",
           "#FF97FF",
           "#FECB52"
          ],
          "font": {
           "color": "#2a3f5f"
          },
          "geo": {
           "bgcolor": "white",
           "lakecolor": "white",
           "landcolor": "#E5ECF6",
           "showlakes": true,
           "showland": true,
           "subunitcolor": "white"
          },
          "hoverlabel": {
           "align": "left"
          },
          "hovermode": "closest",
          "mapbox": {
           "style": "light"
          },
          "paper_bgcolor": "white",
          "plot_bgcolor": "#E5ECF6",
          "polar": {
           "angularaxis": {
            "gridcolor": "white",
            "linecolor": "white",
            "ticks": ""
           },
           "bgcolor": "#E5ECF6",
           "radialaxis": {
            "gridcolor": "white",
            "linecolor": "white",
            "ticks": ""
           }
          },
          "scene": {
           "xaxis": {
            "backgroundcolor": "#E5ECF6",
            "gridcolor": "white",
            "gridwidth": 2,
            "linecolor": "white",
            "showbackground": true,
            "ticks": "",
            "zerolinecolor": "white"
           },
           "yaxis": {
            "backgroundcolor": "#E5ECF6",
            "gridcolor": "white",
            "gridwidth": 2,
            "linecolor": "white",
            "showbackground": true,
            "ticks": "",
            "zerolinecolor": "white"
           },
           "zaxis": {
            "backgroundcolor": "#E5ECF6",
            "gridcolor": "white",
            "gridwidth": 2,
            "linecolor": "white",
            "showbackground": true,
            "ticks": "",
            "zerolinecolor": "white"
           }
          },
          "shapedefaults": {
           "line": {
            "color": "#2a3f5f"
           }
          },
          "ternary": {
           "aaxis": {
            "gridcolor": "white",
            "linecolor": "white",
            "ticks": ""
           },
           "baxis": {
            "gridcolor": "white",
            "linecolor": "white",
            "ticks": ""
           },
           "bgcolor": "#E5ECF6",
           "caxis": {
            "gridcolor": "white",
            "linecolor": "white",
            "ticks": ""
           }
          },
          "title": {
           "x": 0.05
          },
          "xaxis": {
           "automargin": true,
           "gridcolor": "white",
           "linecolor": "white",
           "ticks": "",
           "title": {
            "standoff": 15
           },
           "zerolinecolor": "white",
           "zerolinewidth": 2
          },
          "yaxis": {
           "automargin": true,
           "gridcolor": "white",
           "linecolor": "white",
           "ticks": "",
           "title": {
            "standoff": 15
           },
           "zerolinecolor": "white",
           "zerolinewidth": 2
          }
         }
        },
        "title": {
         "text": "Luogo di consumo di almeno 6 bicchieri di vino"
        }
       }
      },
      "text/html": [
       "<div>                            <div id=\"c1d49ffb-87d0-489d-9be9-9b9512e10241\" class=\"plotly-graph-div\" style=\"height:525px; width:100%;\"></div>            <script type=\"text/javascript\">                require([\"plotly\"], function(Plotly) {                    window.PLOTLYENV=window.PLOTLYENV || {};                                    if (document.getElementById(\"c1d49ffb-87d0-489d-9be9-9b9512e10241\")) {                    Plotly.newPlot(                        \"c1d49ffb-87d0-489d-9be9-9b9512e10241\",                        [{\"name\":\"14-15\",\"r\":[0.2,0.2,0,0,0.2,0.2],\"theta\":[\"CASA\",\"CASA PARENTI/AMICI\",\"RISTORANTE\",\"PUB\",\"DISCO\",\"STRADA\",\"CASA\"],\"type\":\"scatterpolar\"},{\"name\":\"16-17\",\"r\":[0,0,0,0.17,0.33,0,0],\"theta\":[\"CASA\",\"CASA PARENTI/AMICI\",\"RISTORANTE\",\"PUB\",\"DISCO\",\"STRADA\",\"CASA\"],\"type\":\"scatterpolar\"},{\"name\":\"18-19\",\"r\":[0.21,0.12,0.08,0.25,0.08,0.13,0.21],\"theta\":[\"CASA\",\"CASA PARENTI/AMICI\",\"RISTORANTE\",\"PUB\",\"DISCO\",\"STRADA\",\"CASA\"],\"type\":\"scatterpolar\"},{\"name\":\"20-24\",\"r\":[0.04,0.14,0.05,0.19,0.1,0.06,0.04],\"theta\":[\"CASA\",\"CASA PARENTI/AMICI\",\"RISTORANTE\",\"PUB\",\"DISCO\",\"STRADA\",\"CASA\"],\"type\":\"scatterpolar\"},{\"name\":\"25-29\",\"r\":[0.13,0.14,0.09,0.09,0.06,0.04,0.13],\"theta\":[\"CASA\",\"CASA PARENTI/AMICI\",\"RISTORANTE\",\"PUB\",\"DISCO\",\"STRADA\",\"CASA\"],\"type\":\"scatterpolar\"}],                        {\"polar\":{\"radialaxis\":{\"visible\":false}},\"showlegend\":true,\"title\":{\"text\":\"Luogo di consumo di almeno 6 bicchieri di vino\"},\"template\":{\"data\":{\"histogram2dcontour\":[{\"type\":\"histogram2dcontour\",\"colorbar\":{\"outlinewidth\":0,\"ticks\":\"\"},\"colorscale\":[[0.0,\"#0d0887\"],[0.1111111111111111,\"#46039f\"],[0.2222222222222222,\"#7201a8\"],[0.3333333333333333,\"#9c179e\"],[0.4444444444444444,\"#bd3786\"],[0.5555555555555556,\"#d8576b\"],[0.6666666666666666,\"#ed7953\"],[0.7777777777777778,\"#fb9f3a\"],[0.8888888888888888,\"#fdca26\"],[1.0,\"#f0f921\"]]}],\"choropleth\":[{\"type\":\"choropleth\",\"colorbar\":{\"outlinewidth\":0,\"ticks\":\"\"}}],\"histogram2d\":[{\"type\":\"histogram2d\",\"colorbar\":{\"outlinewidth\":0,\"ticks\":\"\"},\"colorscale\":[[0.0,\"#0d0887\"],[0.1111111111111111,\"#46039f\"],[0.2222222222222222,\"#7201a8\"],[0.3333333333333333,\"#9c179e\"],[0.4444444444444444,\"#bd3786\"],[0.5555555555555556,\"#d8576b\"],[0.6666666666666666,\"#ed7953\"],[0.7777777777777778,\"#fb9f3a\"],[0.8888888888888888,\"#fdca26\"],[1.0,\"#f0f921\"]]}],\"heatmap\":[{\"type\":\"heatmap\",\"colorbar\":{\"outlinewidth\":0,\"ticks\":\"\"},\"colorscale\":[[0.0,\"#0d0887\"],[0.1111111111111111,\"#46039f\"],[0.2222222222222222,\"#7201a8\"],[0.3333333333333333,\"#9c179e\"],[0.4444444444444444,\"#bd3786\"],[0.5555555555555556,\"#d8576b\"],[0.6666666666666666,\"#ed7953\"],[0.7777777777777778,\"#fb9f3a\"],[0.8888888888888888,\"#fdca26\"],[1.0,\"#f0f921\"]]}],\"heatmapgl\":[{\"type\":\"heatmapgl\",\"colorbar\":{\"outlinewidth\":0,\"ticks\":\"\"},\"colorscale\":[[0.0,\"#0d0887\"],[0.1111111111111111,\"#46039f\"],[0.2222222222222222,\"#7201a8\"],[0.3333333333333333,\"#9c179e\"],[0.4444444444444444,\"#bd3786\"],[0.5555555555555556,\"#d8576b\"],[0.6666666666666666,\"#ed7953\"],[0.7777777777777778,\"#fb9f3a\"],[0.8888888888888888,\"#fdca26\"],[1.0,\"#f0f921\"]]}],\"contourcarpet\":[{\"type\":\"contourcarpet\",\"colorbar\":{\"outlinewidth\":0,\"ticks\":\"\"}}],\"contour\":[{\"type\":\"contour\",\"colorbar\":{\"outlinewidth\":0,\"ticks\":\"\"},\"colorscale\":[[0.0,\"#0d0887\"],[0.1111111111111111,\"#46039f\"],[0.2222222222222222,\"#7201a8\"],[0.3333333333333333,\"#9c179e\"],[0.4444444444444444,\"#bd3786\"],[0.5555555555555556,\"#d8576b\"],[0.6666666666666666,\"#ed7953\"],[0.7777777777777778,\"#fb9f3a\"],[0.8888888888888888,\"#fdca26\"],[1.0,\"#f0f921\"]]}],\"surface\":[{\"type\":\"surface\",\"colorbar\":{\"outlinewidth\":0,\"ticks\":\"\"},\"colorscale\":[[0.0,\"#0d0887\"],[0.1111111111111111,\"#46039f\"],[0.2222222222222222,\"#7201a8\"],[0.3333333333333333,\"#9c179e\"],[0.4444444444444444,\"#bd3786\"],[0.5555555555555556,\"#d8576b\"],[0.6666666666666666,\"#ed7953\"],[0.7777777777777778,\"#fb9f3a\"],[0.8888888888888888,\"#fdca26\"],[1.0,\"#f0f921\"]]}],\"mesh3d\":[{\"type\":\"mesh3d\",\"colorbar\":{\"outlinewidth\":0,\"ticks\":\"\"}}],\"scatter\":[{\"fillpattern\":{\"fillmode\":\"overlay\",\"size\":10,\"solidity\":0.2},\"type\":\"scatter\"}],\"parcoords\":[{\"type\":\"parcoords\",\"line\":{\"colorbar\":{\"outlinewidth\":0,\"ticks\":\"\"}}}],\"scatterpolargl\":[{\"type\":\"scatterpolargl\",\"marker\":{\"colorbar\":{\"outlinewidth\":0,\"ticks\":\"\"}}}],\"bar\":[{\"error_x\":{\"color\":\"#2a3f5f\"},\"error_y\":{\"color\":\"#2a3f5f\"},\"marker\":{\"line\":{\"color\":\"#E5ECF6\",\"width\":0.5},\"pattern\":{\"fillmode\":\"overlay\",\"size\":10,\"solidity\":0.2}},\"type\":\"bar\"}],\"scattergeo\":[{\"type\":\"scattergeo\",\"marker\":{\"colorbar\":{\"outlinewidth\":0,\"ticks\":\"\"}}}],\"scatterpolar\":[{\"type\":\"scatterpolar\",\"marker\":{\"colorbar\":{\"outlinewidth\":0,\"ticks\":\"\"}}}],\"histogram\":[{\"marker\":{\"pattern\":{\"fillmode\":\"overlay\",\"size\":10,\"solidity\":0.2}},\"type\":\"histogram\"}],\"scattergl\":[{\"type\":\"scattergl\",\"marker\":{\"colorbar\":{\"outlinewidth\":0,\"ticks\":\"\"}}}],\"scatter3d\":[{\"type\":\"scatter3d\",\"line\":{\"colorbar\":{\"outlinewidth\":0,\"ticks\":\"\"}},\"marker\":{\"colorbar\":{\"outlinewidth\":0,\"ticks\":\"\"}}}],\"scattermapbox\":[{\"type\":\"scattermapbox\",\"marker\":{\"colorbar\":{\"outlinewidth\":0,\"ticks\":\"\"}}}],\"scatterternary\":[{\"type\":\"scatterternary\",\"marker\":{\"colorbar\":{\"outlinewidth\":0,\"ticks\":\"\"}}}],\"scattercarpet\":[{\"type\":\"scattercarpet\",\"marker\":{\"colorbar\":{\"outlinewidth\":0,\"ticks\":\"\"}}}],\"carpet\":[{\"aaxis\":{\"endlinecolor\":\"#2a3f5f\",\"gridcolor\":\"white\",\"linecolor\":\"white\",\"minorgridcolor\":\"white\",\"startlinecolor\":\"#2a3f5f\"},\"baxis\":{\"endlinecolor\":\"#2a3f5f\",\"gridcolor\":\"white\",\"linecolor\":\"white\",\"minorgridcolor\":\"white\",\"startlinecolor\":\"#2a3f5f\"},\"type\":\"carpet\"}],\"table\":[{\"cells\":{\"fill\":{\"color\":\"#EBF0F8\"},\"line\":{\"color\":\"white\"}},\"header\":{\"fill\":{\"color\":\"#C8D4E3\"},\"line\":{\"color\":\"white\"}},\"type\":\"table\"}],\"barpolar\":[{\"marker\":{\"line\":{\"color\":\"#E5ECF6\",\"width\":0.5},\"pattern\":{\"fillmode\":\"overlay\",\"size\":10,\"solidity\":0.2}},\"type\":\"barpolar\"}],\"pie\":[{\"automargin\":true,\"type\":\"pie\"}]},\"layout\":{\"autotypenumbers\":\"strict\",\"colorway\":[\"#636efa\",\"#EF553B\",\"#00cc96\",\"#ab63fa\",\"#FFA15A\",\"#19d3f3\",\"#FF6692\",\"#B6E880\",\"#FF97FF\",\"#FECB52\"],\"font\":{\"color\":\"#2a3f5f\"},\"hovermode\":\"closest\",\"hoverlabel\":{\"align\":\"left\"},\"paper_bgcolor\":\"white\",\"plot_bgcolor\":\"#E5ECF6\",\"polar\":{\"bgcolor\":\"#E5ECF6\",\"angularaxis\":{\"gridcolor\":\"white\",\"linecolor\":\"white\",\"ticks\":\"\"},\"radialaxis\":{\"gridcolor\":\"white\",\"linecolor\":\"white\",\"ticks\":\"\"}},\"ternary\":{\"bgcolor\":\"#E5ECF6\",\"aaxis\":{\"gridcolor\":\"white\",\"linecolor\":\"white\",\"ticks\":\"\"},\"baxis\":{\"gridcolor\":\"white\",\"linecolor\":\"white\",\"ticks\":\"\"},\"caxis\":{\"gridcolor\":\"white\",\"linecolor\":\"white\",\"ticks\":\"\"}},\"coloraxis\":{\"colorbar\":{\"outlinewidth\":0,\"ticks\":\"\"}},\"colorscale\":{\"sequential\":[[0.0,\"#0d0887\"],[0.1111111111111111,\"#46039f\"],[0.2222222222222222,\"#7201a8\"],[0.3333333333333333,\"#9c179e\"],[0.4444444444444444,\"#bd3786\"],[0.5555555555555556,\"#d8576b\"],[0.6666666666666666,\"#ed7953\"],[0.7777777777777778,\"#fb9f3a\"],[0.8888888888888888,\"#fdca26\"],[1.0,\"#f0f921\"]],\"sequentialminus\":[[0.0,\"#0d0887\"],[0.1111111111111111,\"#46039f\"],[0.2222222222222222,\"#7201a8\"],[0.3333333333333333,\"#9c179e\"],[0.4444444444444444,\"#bd3786\"],[0.5555555555555556,\"#d8576b\"],[0.6666666666666666,\"#ed7953\"],[0.7777777777777778,\"#fb9f3a\"],[0.8888888888888888,\"#fdca26\"],[1.0,\"#f0f921\"]],\"diverging\":[[0,\"#8e0152\"],[0.1,\"#c51b7d\"],[0.2,\"#de77ae\"],[0.3,\"#f1b6da\"],[0.4,\"#fde0ef\"],[0.5,\"#f7f7f7\"],[0.6,\"#e6f5d0\"],[0.7,\"#b8e186\"],[0.8,\"#7fbc41\"],[0.9,\"#4d9221\"],[1,\"#276419\"]]},\"xaxis\":{\"gridcolor\":\"white\",\"linecolor\":\"white\",\"ticks\":\"\",\"title\":{\"standoff\":15},\"zerolinecolor\":\"white\",\"automargin\":true,\"zerolinewidth\":2},\"yaxis\":{\"gridcolor\":\"white\",\"linecolor\":\"white\",\"ticks\":\"\",\"title\":{\"standoff\":15},\"zerolinecolor\":\"white\",\"automargin\":true,\"zerolinewidth\":2},\"scene\":{\"xaxis\":{\"backgroundcolor\":\"#E5ECF6\",\"gridcolor\":\"white\",\"linecolor\":\"white\",\"showbackground\":true,\"ticks\":\"\",\"zerolinecolor\":\"white\",\"gridwidth\":2},\"yaxis\":{\"backgroundcolor\":\"#E5ECF6\",\"gridcolor\":\"white\",\"linecolor\":\"white\",\"showbackground\":true,\"ticks\":\"\",\"zerolinecolor\":\"white\",\"gridwidth\":2},\"zaxis\":{\"backgroundcolor\":\"#E5ECF6\",\"gridcolor\":\"white\",\"linecolor\":\"white\",\"showbackground\":true,\"ticks\":\"\",\"zerolinecolor\":\"white\",\"gridwidth\":2}},\"shapedefaults\":{\"line\":{\"color\":\"#2a3f5f\"}},\"annotationdefaults\":{\"arrowcolor\":\"#2a3f5f\",\"arrowhead\":0,\"arrowwidth\":1},\"geo\":{\"bgcolor\":\"white\",\"landcolor\":\"#E5ECF6\",\"subunitcolor\":\"white\",\"showland\":true,\"showlakes\":true,\"lakecolor\":\"white\"},\"title\":{\"x\":0.05},\"mapbox\":{\"style\":\"light\"}}}},                        {\"responsive\": true}                    ).then(function(){\n",
       "                            \n",
       "var gd = document.getElementById('c1d49ffb-87d0-489d-9be9-9b9512e10241');\n",
       "var x = new MutationObserver(function (mutations, observer) {{\n",
       "        var display = window.getComputedStyle(gd).display;\n",
       "        if (!display || display === 'none') {{\n",
       "            console.log([gd, 'removed!']);\n",
       "            Plotly.purge(gd);\n",
       "            observer.disconnect();\n",
       "        }}\n",
       "}});\n",
       "\n",
       "// Listen for the removal of the full notebook cells\n",
       "var notebookContainer = gd.closest('#notebook-container');\n",
       "if (notebookContainer) {{\n",
       "    x.observe(notebookContainer, {childList: true});\n",
       "}}\n",
       "\n",
       "// Listen for the clearing of the current output cell\n",
       "var outputEl = gd.closest('.output');\n",
       "if (outputEl) {{\n",
       "    x.observe(outputEl, {childList: true});\n",
       "}}\n",
       "\n",
       "                        })                };                });            </script>        </div>"
      ]
     },
     "metadata": {},
     "output_type": "display_data"
    }
   ],
   "source": [
    "import plotly.graph_objects as go\n",
    "import plotly.offline as pyo\n",
    "\n",
    "\n",
    "categories = ['CASA', 'CASA PARENTI/AMICI', 'RISTORANTE', 'PUB', 'DISCO', 'STRADA']\n",
    "categories = [*categories, categories[0]]\n",
    "\n",
    "# fascia eta 1, fascia eta 2, fascia eta 3, ...\n",
    "fascia_5=[0.2,0.2,0,0,0.2]\n",
    "fascia_6=[0,0,0,0.17,0.33,0]\n",
    "fascia_7=[0.21,0.12,0.08,0.25,0.08,0.13]\n",
    "fascia_8=[0.04,0.14,0.05,0.19,0.10,0.06]\n",
    "fascia_9=[0.13,0.14,0.09,0.09,0.06,0.04]\n",
    "\n",
    "fascia_5=[*fascia_5, fascia_5[0]]\n",
    "fascia_6=[*fascia_6, fascia_6[0]]\n",
    "fascia_7=[*fascia_7, fascia_7[0]]\n",
    "fascia_8=[*fascia_8, fascia_8[0]]\n",
    "fascia_9=[*fascia_9, fascia_9[0]]\n",
    "\n",
    "fig = go.Figure(\n",
    "    data=[\n",
    "        go.Scatterpolar(r=fascia_5, theta=categories, name='14-15'),\n",
    "        go.Scatterpolar(r=fascia_6, theta=categories, name='16-17'),\n",
    "        go.Scatterpolar(r=fascia_7, theta=categories, name='18-19'),\n",
    "        go.Scatterpolar(r=fascia_8, theta=categories, name='20-24'),\n",
    "        go.Scatterpolar(r=fascia_9, theta=categories, name='25-29'),\n",
    "    ],\n",
    "    layout=go.Layout(\n",
    "        title=go.layout.Title(text='Luogo di consumo di almeno 6 bicchieri di vino'),\n",
    "        polar={'radialaxis': {'visible': False}},\n",
    "        showlegend=True,\n",
    "    )\n",
    ")\n",
    "\n",
    "fig.show()"
   ]
  },
  {
   "cell_type": "markdown",
   "id": "e83e3e11",
   "metadata": {},
   "source": [
    "### SUPERALCOLICI"
   ]
  },
  {
   "cell_type": "code",
   "execution_count": 127,
   "id": "808b5d33",
   "metadata": {},
   "outputs": [],
   "source": [
    "liquor_vis = dati['LIQUOR'].value_counts(normalize=True)"
   ]
  },
  {
   "cell_type": "code",
   "execution_count": 128,
   "id": "7a1899c3",
   "metadata": {},
   "outputs": [
    {
     "data": {
      "text/html": [
       "<div>\n",
       "<style scoped>\n",
       "    .dataframe tbody tr th:only-of-type {\n",
       "        vertical-align: middle;\n",
       "    }\n",
       "\n",
       "    .dataframe tbody tr th {\n",
       "        vertical-align: top;\n",
       "    }\n",
       "\n",
       "    .dataframe thead th {\n",
       "        text-align: right;\n",
       "    }\n",
       "</style>\n",
       "<table border=\"1\" class=\"dataframe\">\n",
       "  <thead>\n",
       "    <tr style=\"text-align: right;\">\n",
       "      <th></th>\n",
       "      <th>SESSO</th>\n",
       "      <th>ETAMi</th>\n",
       "      <th>LIQUOR</th>\n",
       "      <th>BICALTROM</th>\n",
       "    </tr>\n",
       "  </thead>\n",
       "  <tbody>\n",
       "    <tr>\n",
       "      <th>0</th>\n",
       "      <td>2</td>\n",
       "      <td>9</td>\n",
       "      <td>6.0</td>\n",
       "      <td>NaN</td>\n",
       "    </tr>\n",
       "    <tr>\n",
       "      <th>1</th>\n",
       "      <td>1</td>\n",
       "      <td>9</td>\n",
       "      <td>5.0</td>\n",
       "      <td>NaN</td>\n",
       "    </tr>\n",
       "    <tr>\n",
       "      <th>2</th>\n",
       "      <td>2</td>\n",
       "      <td>9</td>\n",
       "      <td>4.0</td>\n",
       "      <td>NaN</td>\n",
       "    </tr>\n",
       "    <tr>\n",
       "      <th>3</th>\n",
       "      <td>2</td>\n",
       "      <td>8</td>\n",
       "      <td>6.0</td>\n",
       "      <td>NaN</td>\n",
       "    </tr>\n",
       "    <tr>\n",
       "      <th>4</th>\n",
       "      <td>2</td>\n",
       "      <td>7</td>\n",
       "      <td>6.0</td>\n",
       "      <td>NaN</td>\n",
       "    </tr>\n",
       "    <tr>\n",
       "      <th>...</th>\n",
       "      <td>...</td>\n",
       "      <td>...</td>\n",
       "      <td>...</td>\n",
       "      <td>...</td>\n",
       "    </tr>\n",
       "    <tr>\n",
       "      <th>9711</th>\n",
       "      <td>2</td>\n",
       "      <td>9</td>\n",
       "      <td>6.0</td>\n",
       "      <td>NaN</td>\n",
       "    </tr>\n",
       "    <tr>\n",
       "      <th>9712</th>\n",
       "      <td>1</td>\n",
       "      <td>9</td>\n",
       "      <td>3.0</td>\n",
       "      <td>NaN</td>\n",
       "    </tr>\n",
       "    <tr>\n",
       "      <th>9713</th>\n",
       "      <td>1</td>\n",
       "      <td>8</td>\n",
       "      <td>5.0</td>\n",
       "      <td>NaN</td>\n",
       "    </tr>\n",
       "    <tr>\n",
       "      <th>9714</th>\n",
       "      <td>1</td>\n",
       "      <td>9</td>\n",
       "      <td>6.0</td>\n",
       "      <td>1.0</td>\n",
       "    </tr>\n",
       "    <tr>\n",
       "      <th>9715</th>\n",
       "      <td>1</td>\n",
       "      <td>9</td>\n",
       "      <td>6.0</td>\n",
       "      <td>NaN</td>\n",
       "    </tr>\n",
       "  </tbody>\n",
       "</table>\n",
       "<p>9716 rows × 4 columns</p>\n",
       "</div>"
      ],
      "text/plain": [
       "      SESSO  ETAMi  LIQUOR  BICALTROM\n",
       "0         2      9     6.0        NaN\n",
       "1         1      9     5.0        NaN\n",
       "2         2      9     4.0        NaN\n",
       "3         2      8     6.0        NaN\n",
       "4         2      7     6.0        NaN\n",
       "...     ...    ...     ...        ...\n",
       "9711      2      9     6.0        NaN\n",
       "9712      1      9     3.0        NaN\n",
       "9713      1      8     5.0        NaN\n",
       "9714      1      9     6.0        1.0\n",
       "9715      1      9     6.0        NaN\n",
       "\n",
       "[9716 rows x 4 columns]"
      ]
     },
     "execution_count": 128,
     "metadata": {},
     "output_type": "execute_result"
    }
   ],
   "source": [
    "liq = dati[['SESSO', 'ETAMi', 'LIQUOR', 'BICALTROM']]\n",
    "liq"
   ]
  },
  {
   "cell_type": "code",
   "execution_count": 129,
   "id": "6ef15850",
   "metadata": {},
   "outputs": [
    {
     "data": {
      "text/html": [
       "<div>\n",
       "<style scoped>\n",
       "    .dataframe tbody tr th:only-of-type {\n",
       "        vertical-align: middle;\n",
       "    }\n",
       "\n",
       "    .dataframe tbody tr th {\n",
       "        vertical-align: top;\n",
       "    }\n",
       "\n",
       "    .dataframe thead th {\n",
       "        text-align: right;\n",
       "    }\n",
       "</style>\n",
       "<table border=\"1\" class=\"dataframe\">\n",
       "  <thead>\n",
       "    <tr style=\"text-align: right;\">\n",
       "      <th></th>\n",
       "      <th>SESSO</th>\n",
       "      <th>ETAMi</th>\n",
       "      <th>LIQUOR</th>\n",
       "      <th>BICALTROM</th>\n",
       "    </tr>\n",
       "  </thead>\n",
       "  <tbody>\n",
       "    <tr>\n",
       "      <th>18</th>\n",
       "      <td>1</td>\n",
       "      <td>8</td>\n",
       "      <td>3.0</td>\n",
       "      <td>NaN</td>\n",
       "    </tr>\n",
       "    <tr>\n",
       "      <th>22</th>\n",
       "      <td>1</td>\n",
       "      <td>9</td>\n",
       "      <td>3.0</td>\n",
       "      <td>NaN</td>\n",
       "    </tr>\n",
       "    <tr>\n",
       "      <th>80</th>\n",
       "      <td>1</td>\n",
       "      <td>7</td>\n",
       "      <td>3.0</td>\n",
       "      <td>NaN</td>\n",
       "    </tr>\n",
       "    <tr>\n",
       "      <th>87</th>\n",
       "      <td>2</td>\n",
       "      <td>7</td>\n",
       "      <td>3.0</td>\n",
       "      <td>NaN</td>\n",
       "    </tr>\n",
       "    <tr>\n",
       "      <th>122</th>\n",
       "      <td>1</td>\n",
       "      <td>9</td>\n",
       "      <td>3.0</td>\n",
       "      <td>NaN</td>\n",
       "    </tr>\n",
       "    <tr>\n",
       "      <th>...</th>\n",
       "      <td>...</td>\n",
       "      <td>...</td>\n",
       "      <td>...</td>\n",
       "      <td>...</td>\n",
       "    </tr>\n",
       "    <tr>\n",
       "      <th>9630</th>\n",
       "      <td>1</td>\n",
       "      <td>7</td>\n",
       "      <td>3.0</td>\n",
       "      <td>NaN</td>\n",
       "    </tr>\n",
       "    <tr>\n",
       "      <th>9670</th>\n",
       "      <td>1</td>\n",
       "      <td>9</td>\n",
       "      <td>3.0</td>\n",
       "      <td>NaN</td>\n",
       "    </tr>\n",
       "    <tr>\n",
       "      <th>9675</th>\n",
       "      <td>1</td>\n",
       "      <td>9</td>\n",
       "      <td>3.0</td>\n",
       "      <td>NaN</td>\n",
       "    </tr>\n",
       "    <tr>\n",
       "      <th>9676</th>\n",
       "      <td>1</td>\n",
       "      <td>9</td>\n",
       "      <td>3.0</td>\n",
       "      <td>NaN</td>\n",
       "    </tr>\n",
       "    <tr>\n",
       "      <th>9712</th>\n",
       "      <td>1</td>\n",
       "      <td>9</td>\n",
       "      <td>3.0</td>\n",
       "      <td>NaN</td>\n",
       "    </tr>\n",
       "  </tbody>\n",
       "</table>\n",
       "<p>324 rows × 4 columns</p>\n",
       "</div>"
      ],
      "text/plain": [
       "      SESSO  ETAMi  LIQUOR  BICALTROM\n",
       "18        1      8     3.0        NaN\n",
       "22        1      9     3.0        NaN\n",
       "80        1      7     3.0        NaN\n",
       "87        2      7     3.0        NaN\n",
       "122       1      9     3.0        NaN\n",
       "...     ...    ...     ...        ...\n",
       "9630      1      7     3.0        NaN\n",
       "9670      1      9     3.0        NaN\n",
       "9675      1      9     3.0        NaN\n",
       "9676      1      9     3.0        NaN\n",
       "9712      1      9     3.0        NaN\n",
       "\n",
       "[324 rows x 4 columns]"
      ]
     },
     "execution_count": 129,
     "metadata": {},
     "output_type": "execute_result"
    }
   ],
   "source": [
    "si_liquor= liq[liq['LIQUOR']<4]\n",
    "si_liquor"
   ]
  },
  {
   "cell_type": "code",
   "execution_count": null,
   "id": "cd6ecfee",
   "metadata": {},
   "outputs": [],
   "source": []
  },
  {
   "cell_type": "code",
   "execution_count": 124,
   "id": "554cd1d9",
   "metadata": {},
   "outputs": [
    {
     "data": {
      "text/html": [
       "<div>\n",
       "<style scoped>\n",
       "    .dataframe tbody tr th:only-of-type {\n",
       "        vertical-align: middle;\n",
       "    }\n",
       "\n",
       "    .dataframe tbody tr th {\n",
       "        vertical-align: top;\n",
       "    }\n",
       "\n",
       "    .dataframe thead th {\n",
       "        text-align: right;\n",
       "    }\n",
       "</style>\n",
       "<table border=\"1\" class=\"dataframe\">\n",
       "  <thead>\n",
       "    <tr style=\"text-align: right;\">\n",
       "      <th></th>\n",
       "      <th>Donna</th>\n",
       "      <th>Uomo</th>\n",
       "    </tr>\n",
       "  </thead>\n",
       "  <tbody>\n",
       "    <tr>\n",
       "      <th>non ne consuma</th>\n",
       "      <td>76.278379</td>\n",
       "      <td>61.175980</td>\n",
       "    </tr>\n",
       "    <tr>\n",
       "      <th>stagionalmente</th>\n",
       "      <td>15.764906</td>\n",
       "      <td>21.705588</td>\n",
       "    </tr>\n",
       "    <tr>\n",
       "      <th>raramente</th>\n",
       "      <td>6.131975</td>\n",
       "      <td>12.155963</td>\n",
       "    </tr>\n",
       "    <tr>\n",
       "      <th>1-2 bicchieri al giorno</th>\n",
       "      <td>1.718651</td>\n",
       "      <td>4.587156</td>\n",
       "    </tr>\n",
       "    <tr>\n",
       "      <th>da 1/2 a 1 L /giorno</th>\n",
       "      <td>0.063654</td>\n",
       "      <td>0.229358</td>\n",
       "    </tr>\n",
       "    <tr>\n",
       "      <th>1 L/giorno</th>\n",
       "      <td>0.042436</td>\n",
       "      <td>0.145955</td>\n",
       "    </tr>\n",
       "  </tbody>\n",
       "</table>\n",
       "</div>"
      ],
      "text/plain": [
       "                             Donna       Uomo\n",
       "non ne consuma           76.278379  61.175980\n",
       "stagionalmente           15.764906  21.705588\n",
       "raramente                 6.131975  12.155963\n",
       "1-2 bicchieri al giorno   1.718651   4.587156\n",
       "da 1/2 a 1 L /giorno      0.063654   0.229358\n",
       "1 L/giorno                0.042436   0.145955"
      ]
     },
     "metadata": {},
     "output_type": "display_data"
    },
    {
     "data": {
      "image/png": "[encoded data removed]",
      "text/plain": [
       "<Figure size 640x480 with 1 Axes>"
      ]
     },
     "metadata": {},
     "output_type": "display_data"
    }
   ],
   "source": [
    "\n",
    "male_liq=dati[dati['SESSO']==1]['LIQUOR'].value_counts(normalize=True)\n",
    "female_liq=dati[dati['SESSO']==2]['LIQUOR'].value_counts(normalize=True)\n",
    "\n",
    "df = pd.DataFrame(dict(Donna=female_liq.values*100, Uomo=male_liq.values*100), index= labels_birra)\n",
    "display(df)\n",
    "graph= df.plot.barh(width= 0.8, color=[palette[0], palette[2]])\n",
    "\n",
    "i = 0\n",
    "s=''\n",
    "color=''\n",
    "for p in graph.patches:    \n",
    "    width = p.get_width()\n",
    "    height = p.get_height()\n",
    "    x, y = p.get_xy()\n",
    "    if round(width)==0:\n",
    "        s='< 1%'\n",
    "    else:\n",
    "        s=str(round(width)) + '%'\n",
    "    plt.text(x + width, y+height/2, s ,ha='left',weight='light')\n",
    "    i+=1\n",
    "plt.title(\"Suddivisione assunzione di superalcolici tra maschi e femmine\")\n",
    "plt.grid(False)\n",
    "plt.show()"
   ]
  },
  {
   "cell_type": "code",
   "execution_count": 130,
   "id": "fb77a2e3",
   "metadata": {},
   "outputs": [
    {
     "data": {
      "text/html": [
       "<div>\n",
       "<style scoped>\n",
       "    .dataframe tbody tr th:only-of-type {\n",
       "        vertical-align: middle;\n",
       "    }\n",
       "\n",
       "    .dataframe tbody tr th {\n",
       "        vertical-align: top;\n",
       "    }\n",
       "\n",
       "    .dataframe thead th {\n",
       "        text-align: right;\n",
       "    }\n",
       "</style>\n",
       "<table border=\"1\" class=\"dataframe\">\n",
       "  <thead>\n",
       "    <tr style=\"text-align: right;\">\n",
       "      <th></th>\n",
       "      <th>ETAMi</th>\n",
       "      <th>BICALTROM</th>\n",
       "    </tr>\n",
       "  </thead>\n",
       "  <tbody>\n",
       "    <tr>\n",
       "      <th>1</th>\n",
       "      <td>5</td>\n",
       "      <td>5.0</td>\n",
       "    </tr>\n",
       "    <tr>\n",
       "      <th>2</th>\n",
       "      <td>6</td>\n",
       "      <td>3.0</td>\n",
       "    </tr>\n",
       "    <tr>\n",
       "      <th>3</th>\n",
       "      <td>7</td>\n",
       "      <td>17.0</td>\n",
       "    </tr>\n",
       "    <tr>\n",
       "      <th>4</th>\n",
       "      <td>8</td>\n",
       "      <td>33.0</td>\n",
       "    </tr>\n",
       "    <tr>\n",
       "      <th>5</th>\n",
       "      <td>9</td>\n",
       "      <td>63.0</td>\n",
       "    </tr>\n",
       "  </tbody>\n",
       "</table>\n",
       "</div>"
      ],
      "text/plain": [
       "   ETAMi  BICALTROM\n",
       "1      5        5.0\n",
       "2      6        3.0\n",
       "3      7       17.0\n",
       "4      8       33.0\n",
       "5      9       63.0"
      ]
     },
     "metadata": {},
     "output_type": "display_data"
    },
    {
     "data": {
      "image/png": "[encoded data removed]",
      "text/plain": [
       "<Figure size 640x480 with 1 Axes>"
      ]
     },
     "metadata": {},
     "output_type": "display_data"
    }
   ],
   "source": [
    "dfliq = si_liquor.groupby([\"ETAMi\"],as_index=False)[\"BICALTROM\"].sum()\n",
    "dfliq[\"BICALTROM\"]\n",
    "display(dfliq[1:])\n",
    "\n",
    "sns.set_style(style=\"whitegrid\") \n",
    "l = ['14-15','16-17','18-19','20-24','25-34']\n",
    "squarify.plot(sizes=dfliq[\"BICALTROM\"][1:], label=l, alpha=0.6, color=['#0072c6', '#cce6ff', '#0092e8', '#66b2ff', '#099cff']).set(\n",
    "    title='Consumo di superalcolici nei giovani suddivisi per età')\n",
    "plt.axis('off')\n",
    "plt.show()"
   ]
  },
  {
   "cell_type": "code",
   "execution_count": 134,
   "id": "ddaf2571",
   "metadata": {},
   "outputs": [
    {
     "name": "stdout",
     "output_type": "stream",
     "text": [
      "[0.0, 0.8333333333333334, 0.2, 0.3953488372093023, 0.36666666666666664, 0.3727810650887574]\n"
     ]
    },
    {
     "data": {
      "text/plain": [
       "['11-13 anni',\n",
       " '14-15 anni',\n",
       " '16-17 anni',\n",
       " '18-19 anni',\n",
       " '20-24 anni',\n",
       " '25-29 anni',\n",
       " 0.0,\n",
       " 1.0,\n",
       " 0.24,\n",
       " 0.47441860465116276,\n",
       " 0.43999999999999995,\n",
       " 0.44733727810650886]"
      ]
     },
     "metadata": {},
     "output_type": "display_data"
    },
    {
     "data": {
      "image/png": "[encoded data removed]",
      "text/plain": [
       "<Figure size 640x480 with 1 Axes>"
      ]
     },
     "metadata": {},
     "output_type": "display_data"
    }
   ],
   "source": [
    "dfSup = si_liquor.groupby([\"ETAMi\"],as_index=False)[\"BICALTROM\"].sum()\n",
    "tot= si_liquor[\"ETAMi\"].value_counts().sort_index()\n",
    "k=(dfSup['BICALTROM'].tolist()/tot).tolist()\n",
    "print(k)\n",
    "g=[]\n",
    "min_v= min(k)\n",
    "max_v= max(k)\n",
    "palette_b=['#0072c6', '#66b2ff','#cce6ff',  '#099cff', '#0092e8']\n",
    "           \n",
    "for i in k:\n",
    "           g.append((i - min_v)/(max_v - min_v ))\n",
    "\n",
    "display(list(labels_eta) + g)\n",
    "\n",
    "norm=squarify.normalize_sizes([i for i in g if i > 0], dx=3, dy=3)\n",
    "squarify.plot(sizes=norm, label=labels_eta[1:], color=palette_b, text_kwargs={'color': 'black'}, alpha=0.6).set(\n",
    "    title='Consumo di superalcolici nei giovani suddivisi per età')\n",
    "plt.axis('off')\n",
    "plt.show()"
   ]
  },
  {
   "cell_type": "code",
   "execution_count": 148,
   "id": "448053b1",
   "metadata": {},
   "outputs": [
    {
     "data": {
      "image/png": "[encoded data removed]",
      "text/plain": [
       "<Figure size 640x480 with 1 Axes>"
      ]
     },
     "metadata": {},
     "output_type": "display_data"
    }
   ],
   "source": [
    "no_liq=liq[liq['LIQUOR']>=4]\n",
    "dati_no_liq = pd.crosstab(no_liq['ETAMi'], no_liq['SESSO'], normalize=True)\n",
    "dati_no_liq\n",
    "\n",
    "explode=(0.02,0.02)\n",
    "_,_, autotexts= plt.pie(no_liq['SESSO'].value_counts(normalize=True).values, labels = ['Donna','Uomo'] ,colors=[palette[0], palette[2]], autopct='%.0f%%', explode=explode)\n",
    "for autotext in autotexts:\n",
    "    autotext.set_color('white')\n",
    "plt.title('Intervastati che non bevono superalcolici')\n",
    "plt.show()"
   ]
  },
  {
   "cell_type": "code",
   "execution_count": 150,
   "id": "36ec6b32",
   "metadata": {},
   "outputs": [
    {
     "data": {
      "image/png": "[encoded data removed]",
      "text/plain": [
       "<Figure size 640x480 with 1 Axes>"
      ]
     },
     "metadata": {},
     "output_type": "display_data"
    }
   ],
   "source": [
    "pd.DataFrame(index=labels_eta, data={'Donna':dati_no_liq[2].values*100, 'Uomo':dati_no_liq[1].values*100 }).plot(kind='barh',color=[palette[0], palette[2]])\n",
    "plt.grid(False)\n",
    "plt.show()"
   ]
  },
  {
   "cell_type": "code",
   "execution_count": 509,
   "id": "78cc23e4",
   "metadata": {},
   "outputs": [
    {
     "data": {
      "text/html": [
       "<div>\n",
       "<style scoped>\n",
       "    .dataframe tbody tr th:only-of-type {\n",
       "        vertical-align: middle;\n",
       "    }\n",
       "\n",
       "    .dataframe tbody tr th {\n",
       "        vertical-align: top;\n",
       "    }\n",
       "\n",
       "    .dataframe thead th {\n",
       "        text-align: right;\n",
       "    }\n",
       "</style>\n",
       "<table border=\"1\" class=\"dataframe\">\n",
       "  <thead>\n",
       "    <tr style=\"text-align: right;\">\n",
       "      <th></th>\n",
       "      <th>ETAMi</th>\n",
       "      <th>SESSO</th>\n",
       "      <th>LIQUOR</th>\n",
       "      <th>BICALTROM</th>\n",
       "      <th>DOVCASP</th>\n",
       "      <th>DOVAMPA</th>\n",
       "      <th>DOVRISTO</th>\n",
       "      <th>DOVPUB</th>\n",
       "      <th>DOVDISCO</th>\n",
       "      <th>DOVSTR</th>\n",
       "    </tr>\n",
       "  </thead>\n",
       "  <tbody>\n",
       "    <tr>\n",
       "      <th>18</th>\n",
       "      <td>8</td>\n",
       "      <td>1</td>\n",
       "      <td>3.0</td>\n",
       "      <td>0.0</td>\n",
       "      <td>NO</td>\n",
       "      <td>NO</td>\n",
       "      <td>NO</td>\n",
       "      <td>NO</td>\n",
       "      <td>NO</td>\n",
       "      <td>NO</td>\n",
       "    </tr>\n",
       "    <tr>\n",
       "      <th>22</th>\n",
       "      <td>9</td>\n",
       "      <td>1</td>\n",
       "      <td>3.0</td>\n",
       "      <td>0.0</td>\n",
       "      <td>NO</td>\n",
       "      <td>NO</td>\n",
       "      <td>NO</td>\n",
       "      <td>NO</td>\n",
       "      <td>NO</td>\n",
       "      <td>NO</td>\n",
       "    </tr>\n",
       "    <tr>\n",
       "      <th>80</th>\n",
       "      <td>7</td>\n",
       "      <td>1</td>\n",
       "      <td>3.0</td>\n",
       "      <td>0.0</td>\n",
       "      <td>NO</td>\n",
       "      <td>NO</td>\n",
       "      <td>NO</td>\n",
       "      <td>NO</td>\n",
       "      <td>NO</td>\n",
       "      <td>NO</td>\n",
       "    </tr>\n",
       "    <tr>\n",
       "      <th>87</th>\n",
       "      <td>7</td>\n",
       "      <td>2</td>\n",
       "      <td>3.0</td>\n",
       "      <td>0.0</td>\n",
       "      <td>NO</td>\n",
       "      <td>NO</td>\n",
       "      <td>NO</td>\n",
       "      <td>NO</td>\n",
       "      <td>SI</td>\n",
       "      <td>NO</td>\n",
       "    </tr>\n",
       "    <tr>\n",
       "      <th>122</th>\n",
       "      <td>9</td>\n",
       "      <td>1</td>\n",
       "      <td>3.0</td>\n",
       "      <td>0.0</td>\n",
       "      <td>NO</td>\n",
       "      <td>NO</td>\n",
       "      <td>NO</td>\n",
       "      <td>SI</td>\n",
       "      <td>NO</td>\n",
       "      <td>NO</td>\n",
       "    </tr>\n",
       "    <tr>\n",
       "      <th>...</th>\n",
       "      <td>...</td>\n",
       "      <td>...</td>\n",
       "      <td>...</td>\n",
       "      <td>...</td>\n",
       "      <td>...</td>\n",
       "      <td>...</td>\n",
       "      <td>...</td>\n",
       "      <td>...</td>\n",
       "      <td>...</td>\n",
       "      <td>...</td>\n",
       "    </tr>\n",
       "    <tr>\n",
       "      <th>9630</th>\n",
       "      <td>7</td>\n",
       "      <td>1</td>\n",
       "      <td>3.0</td>\n",
       "      <td>0.0</td>\n",
       "      <td>SI</td>\n",
       "      <td>SI</td>\n",
       "      <td>NO</td>\n",
       "      <td>NO</td>\n",
       "      <td>NO</td>\n",
       "      <td>NO</td>\n",
       "    </tr>\n",
       "    <tr>\n",
       "      <th>9670</th>\n",
       "      <td>9</td>\n",
       "      <td>1</td>\n",
       "      <td>3.0</td>\n",
       "      <td>0.0</td>\n",
       "      <td>NO</td>\n",
       "      <td>SI</td>\n",
       "      <td>NO</td>\n",
       "      <td>NO</td>\n",
       "      <td>NO</td>\n",
       "      <td>NO</td>\n",
       "    </tr>\n",
       "    <tr>\n",
       "      <th>9675</th>\n",
       "      <td>9</td>\n",
       "      <td>1</td>\n",
       "      <td>3.0</td>\n",
       "      <td>0.0</td>\n",
       "      <td>NO</td>\n",
       "      <td>NO</td>\n",
       "      <td>NO</td>\n",
       "      <td>NO</td>\n",
       "      <td>NO</td>\n",
       "      <td>NO</td>\n",
       "    </tr>\n",
       "    <tr>\n",
       "      <th>9676</th>\n",
       "      <td>9</td>\n",
       "      <td>1</td>\n",
       "      <td>3.0</td>\n",
       "      <td>0.0</td>\n",
       "      <td>NO</td>\n",
       "      <td>NO</td>\n",
       "      <td>NO</td>\n",
       "      <td>NO</td>\n",
       "      <td>NO</td>\n",
       "      <td>NO</td>\n",
       "    </tr>\n",
       "    <tr>\n",
       "      <th>9712</th>\n",
       "      <td>9</td>\n",
       "      <td>1</td>\n",
       "      <td>3.0</td>\n",
       "      <td>0.0</td>\n",
       "      <td>SI</td>\n",
       "      <td>NO</td>\n",
       "      <td>NO</td>\n",
       "      <td>NO</td>\n",
       "      <td>NO</td>\n",
       "      <td>NO</td>\n",
       "    </tr>\n",
       "  </tbody>\n",
       "</table>\n",
       "<p>324 rows × 10 columns</p>\n",
       "</div>"
      ],
      "text/plain": [
       "      ETAMi  SESSO  LIQUOR  BICALTROM DOVCASP DOVAMPA DOVRISTO DOVPUB  \\\n",
       "18        8      1     3.0        0.0      NO      NO       NO     NO   \n",
       "22        9      1     3.0        0.0      NO      NO       NO     NO   \n",
       "80        7      1     3.0        0.0      NO      NO       NO     NO   \n",
       "87        7      2     3.0        0.0      NO      NO       NO     NO   \n",
       "122       9      1     3.0        0.0      NO      NO       NO     SI   \n",
       "...     ...    ...     ...        ...     ...     ...      ...    ...   \n",
       "9630      7      1     3.0        0.0      SI      SI       NO     NO   \n",
       "9670      9      1     3.0        0.0      NO      SI       NO     NO   \n",
       "9675      9      1     3.0        0.0      NO      NO       NO     NO   \n",
       "9676      9      1     3.0        0.0      NO      NO       NO     NO   \n",
       "9712      9      1     3.0        0.0      SI      NO       NO     NO   \n",
       "\n",
       "     DOVDISCO DOVSTR  \n",
       "18         NO     NO  \n",
       "22         NO     NO  \n",
       "80         NO     NO  \n",
       "87         SI     NO  \n",
       "122        NO     NO  \n",
       "...       ...    ...  \n",
       "9630       NO     NO  \n",
       "9670       NO     NO  \n",
       "9675       NO     NO  \n",
       "9676       NO     NO  \n",
       "9712       NO     NO  \n",
       "\n",
       "[324 rows x 10 columns]"
      ]
     },
     "execution_count": 509,
     "metadata": {},
     "output_type": "execute_result"
    }
   ],
   "source": [
    "posto_consumo_di_liq=dati[dati['LIQUOR']<4][['ETAMi', 'SESSO', 'LIQUOR', 'BICALTROM', 'DOVCASP', 'DOVAMPA', 'DOVRISTO', 'DOVPUB',\n",
    "       'DOVDISCO', 'DOVSTR']]\n",
    "posto_consumo_di_liq = posto_consumo_di_liq.fillna(0)\n",
    "\n",
    "\n",
    "\n",
    "for num, i in enumerate([ 'DOVCASP', 'DOVAMPA', 'DOVRISTO', 'DOVPUB', 'DOVDISCO', 'DOVSTR']):\n",
    "    num= num +1\n",
    "    posto_consumo_di_liq[i].replace( num, 'SI', inplace=True)\n",
    "    posto_consumo_di_liq[i].replace( 0, 'NO', inplace=True)\n",
    "posto_consumo_di_liq"
   ]
  },
  {
   "cell_type": "code",
   "execution_count": 510,
   "id": "c94937f4",
   "metadata": {},
   "outputs": [
    {
     "name": "stdout",
     "output_type": "stream",
     "text": [
      "DOVCASP 8\n",
      "NO    0.944444\n",
      "SI    0.055556\n",
      "Name: DOVCASP, dtype: float64\n",
      "--------------------------------------------------------------------------------\n",
      "DOVCASP 9\n",
      "NO    0.83432\n",
      "SI    0.16568\n",
      "Name: DOVCASP, dtype: float64\n",
      "--------------------------------------------------------------------------------\n",
      "DOVCASP 7\n",
      "NO    0.813953\n",
      "SI    0.186047\n",
      "Name: DOVCASP, dtype: float64\n",
      "--------------------------------------------------------------------------------\n",
      "DOVCASP 6\n",
      "NO    0.933333\n",
      "SI    0.066667\n",
      "Name: DOVCASP, dtype: float64\n",
      "--------------------------------------------------------------------------------\n",
      "DOVCASP 5\n",
      "NO    0.666667\n",
      "SI    0.333333\n",
      "Name: DOVCASP, dtype: float64\n",
      "--------------------------------------------------------------------------------\n",
      "DOVCASP 4\n",
      "NO    1.0\n",
      "Name: DOVCASP, dtype: float64\n",
      "--------------------------------------------------------------------------------\n",
      "DOVAMPA 8\n",
      "NO    0.866667\n",
      "SI    0.133333\n",
      "Name: DOVAMPA, dtype: float64\n",
      "--------------------------------------------------------------------------------\n",
      "DOVAMPA 9\n",
      "NO    0.816568\n",
      "SI    0.183432\n",
      "Name: DOVAMPA, dtype: float64\n",
      "--------------------------------------------------------------------------------\n",
      "DOVAMPA 7\n",
      "NO    0.697674\n",
      "SI    0.302326\n",
      "Name: DOVAMPA, dtype: float64\n",
      "--------------------------------------------------------------------------------\n",
      "DOVAMPA 6\n",
      "NO    0.8\n",
      "SI    0.2\n",
      "Name: DOVAMPA, dtype: float64\n",
      "--------------------------------------------------------------------------------\n",
      "DOVAMPA 5\n",
      "NO    0.833333\n",
      "SI    0.166667\n",
      "Name: DOVAMPA, dtype: float64\n",
      "--------------------------------------------------------------------------------\n",
      "DOVAMPA 4\n",
      "NO    1.0\n",
      "Name: DOVAMPA, dtype: float64\n",
      "--------------------------------------------------------------------------------\n",
      "DOVRISTO 8\n",
      "NO    0.944444\n",
      "SI    0.055556\n",
      "Name: DOVRISTO, dtype: float64\n",
      "--------------------------------------------------------------------------------\n",
      "DOVRISTO 9\n",
      "NO    0.869822\n",
      "SI    0.130178\n",
      "Name: DOVRISTO, dtype: float64\n",
      "--------------------------------------------------------------------------------\n",
      "DOVRISTO 7\n",
      "NO    0.860465\n",
      "SI    0.139535\n",
      "Name: DOVRISTO, dtype: float64\n",
      "--------------------------------------------------------------------------------\n",
      "DOVRISTO 6\n",
      "NO    1.0\n",
      "Name: DOVRISTO, dtype: float64\n",
      "--------------------------------------------------------------------------------\n",
      "DOVRISTO 5\n",
      "NO    1.0\n",
      "Name: DOVRISTO, dtype: float64\n",
      "--------------------------------------------------------------------------------\n",
      "DOVRISTO 4\n",
      "NO    1.0\n",
      "Name: DOVRISTO, dtype: float64\n",
      "--------------------------------------------------------------------------------\n",
      "DOVPUB 8\n",
      "NO    0.588889\n",
      "SI    0.411111\n",
      "Name: DOVPUB, dtype: float64\n",
      "--------------------------------------------------------------------------------\n",
      "DOVPUB 9\n",
      "NO    0.769231\n",
      "SI    0.230769\n",
      "Name: DOVPUB, dtype: float64\n",
      "--------------------------------------------------------------------------------\n",
      "DOVPUB 7\n",
      "NO    0.697674\n",
      "SI    0.302326\n",
      "Name: DOVPUB, dtype: float64\n",
      "--------------------------------------------------------------------------------\n",
      "DOVPUB 6\n",
      "NO    0.733333\n",
      "SI    0.266667\n",
      "Name: DOVPUB, dtype: float64\n",
      "--------------------------------------------------------------------------------\n",
      "DOVPUB 5\n",
      "NO    0.833333\n",
      "SI    0.166667\n",
      "Name: DOVPUB, dtype: float64\n",
      "--------------------------------------------------------------------------------\n",
      "DOVPUB 4\n",
      "NO    1.0\n",
      "Name: DOVPUB, dtype: float64\n",
      "--------------------------------------------------------------------------------\n",
      "DOVDISCO 8\n",
      "NO    0.8\n",
      "SI    0.2\n",
      "Name: DOVDISCO, dtype: float64\n",
      "--------------------------------------------------------------------------------\n",
      "DOVDISCO 9\n",
      "NO    0.87574\n",
      "SI    0.12426\n",
      "Name: DOVDISCO, dtype: float64\n",
      "--------------------------------------------------------------------------------\n",
      "DOVDISCO 7\n",
      "NO    0.790698\n",
      "SI    0.209302\n",
      "Name: DOVDISCO, dtype: float64\n",
      "--------------------------------------------------------------------------------\n",
      "DOVDISCO 6\n",
      "NO    0.666667\n",
      "SI    0.333333\n",
      "Name: DOVDISCO, dtype: float64\n",
      "--------------------------------------------------------------------------------\n",
      "DOVDISCO 5\n",
      "NO    0.833333\n",
      "SI    0.166667\n",
      "Name: DOVDISCO, dtype: float64\n",
      "--------------------------------------------------------------------------------\n",
      "DOVDISCO 4\n",
      "NO    1.0\n",
      "Name: DOVDISCO, dtype: float64\n",
      "--------------------------------------------------------------------------------\n",
      "DOVSTR 8\n",
      "NO    0.888889\n",
      "SI    0.111111\n",
      "Name: DOVSTR, dtype: float64\n",
      "--------------------------------------------------------------------------------\n",
      "DOVSTR 9\n",
      "NO    0.934911\n",
      "SI    0.065089\n",
      "Name: DOVSTR, dtype: float64\n",
      "--------------------------------------------------------------------------------\n",
      "DOVSTR 7\n",
      "NO    0.837209\n",
      "SI    0.162791\n",
      "Name: DOVSTR, dtype: float64\n",
      "--------------------------------------------------------------------------------\n",
      "DOVSTR 6\n",
      "NO    0.933333\n",
      "SI    0.066667\n",
      "Name: DOVSTR, dtype: float64\n",
      "--------------------------------------------------------------------------------\n",
      "DOVSTR 5\n",
      "NO    0.5\n",
      "SI    0.5\n",
      "Name: DOVSTR, dtype: float64\n",
      "--------------------------------------------------------------------------------\n",
      "DOVSTR 4\n",
      "NO    1.0\n",
      "Name: DOVSTR, dtype: float64\n",
      "--------------------------------------------------------------------------------\n"
     ]
    }
   ],
   "source": [
    "for k in ['DOVCASP', 'DOVAMPA', 'DOVRISTO', 'DOVPUB', 'DOVDISCO', 'DOVSTR']:    \n",
    "    for i in posto_consumo_di_liq['ETAMi'].unique():\n",
    "        print(k, i)\n",
    "        print(posto_consumo_di_liq[posto_consumo_di_liq['ETAMi']==i][k].value_counts(normalize=True))\n",
    "        print('-'*80)"
   ]
  },
  {
   "cell_type": "code",
   "execution_count": 152,
   "id": "2b09dfac",
   "metadata": {},
   "outputs": [
    {
     "data": {
      "application/vnd.plotly.v1+json": {
       "config": {
        "plotlyServerURL": "https://plot.ly"
       },
       "data": [
        {
         "name": "14-15",
         "r": [
          0.33,
          0.17,
          0,
          0.17,
          0.17,
          0.5,
          0.33
         ],
         "theta": [
          "CASA",
          "CASA PARENTI/AMICI",
          "RISTORANTE",
          "PUB",
          "DISCO",
          "STRADA",
          "CASA"
         ],
         "type": "scatterpolar"
        },
        {
         "name": "16-17",
         "r": [
          0.07,
          0.2,
          0,
          0.27,
          0.33,
          0.07,
          0.07
         ],
         "theta": [
          "CASA",
          "CASA PARENTI/AMICI",
          "RISTORANTE",
          "PUB",
          "DISCO",
          "STRADA",
          "CASA"
         ],
         "type": "scatterpolar"
        },
        {
         "name": "18-19",
         "r": [
          0.19,
          0.3,
          0.14,
          0.3,
          0.21,
          0.16,
          0.19
         ],
         "theta": [
          "CASA",
          "CASA PARENTI/AMICI",
          "RISTORANTE",
          "PUB",
          "DISCO",
          "STRADA",
          "CASA"
         ],
         "type": "scatterpolar"
        },
        {
         "name": "20-24",
         "r": [
          0.06,
          0.13,
          0.06,
          0.41,
          0.2,
          0.11,
          0.06
         ],
         "theta": [
          "CASA",
          "CASA PARENTI/AMICI",
          "RISTORANTE",
          "PUB",
          "DISCO",
          "STRADA",
          "CASA"
         ],
         "type": "scatterpolar"
        },
        {
         "name": "25-29",
         "r": [
          0.17,
          0.18,
          0.13,
          0.23,
          0.12,
          0.07,
          0.17
         ],
         "theta": [
          "CASA",
          "CASA PARENTI/AMICI",
          "RISTORANTE",
          "PUB",
          "DISCO",
          "STRADA",
          "CASA"
         ],
         "type": "scatterpolar"
        }
       ],
       "layout": {
        "polar": {
         "radialaxis": {
          "visible": false
         }
        },
        "showlegend": true,
        "template": {
         "data": {
          "bar": [
           {
            "error_x": {
             "color": "#2a3f5f"
            },
            "error_y": {
             "color": "#2a3f5f"
            },
            "marker": {
             "line": {
              "color": "#E5ECF6",
              "width": 0.5
             },
             "pattern": {
              "fillmode": "overlay",
              "size": 10,
              "solidity": 0.2
             }
            },
            "type": "bar"
           }
          ],
          "barpolar": [
           {
            "marker": {
             "line": {
              "color": "#E5ECF6",
              "width": 0.5
             },
             "pattern": {
              "fillmode": "overlay",
              "size": 10,
              "solidity": 0.2
             }
            },
            "type": "barpolar"
           }
          ],
          "carpet": [
           {
            "aaxis": {
             "endlinecolor": "#2a3f5f",
             "gridcolor": "white",
             "linecolor": "white",
             "minorgridcolor": "white",
             "startlinecolor": "#2a3f5f"
            },
            "baxis": {
             "endlinecolor": "#2a3f5f",
             "gridcolor": "white",
             "linecolor": "white",
             "minorgridcolor": "white",
             "startlinecolor": "#2a3f5f"
            },
            "type": "carpet"
           }
          ],
          "choropleth": [
           {
            "colorbar": {
             "outlinewidth": 0,
             "ticks": ""
            },
            "type": "choropleth"
           }
          ],
          "contour": [
           {
            "colorbar": {
             "outlinewidth": 0,
             "ticks": ""
            },
            "colorscale": [
             [
              0,
              "#0d0887"
             ],
             [
              0.1111111111111111,
              "#46039f"
             ],
             [
              0.2222222222222222,
              "#7201a8"
             ],
             [
              0.3333333333333333,
              "#9c179e"
             ],
             [
              0.4444444444444444,
              "#bd3786"
             ],
             [
              0.5555555555555556,
              "#d8576b"
             ],
             [
              0.6666666666666666,
              "#ed7953"
             ],
             [
              0.7777777777777778,
              "#fb9f3a"
             ],
             [
              0.8888888888888888,
              "#fdca26"
             ],
             [
              1,
              "#f0f921"
             ]
            ],
            "type": "contour"
           }
          ],
          "contourcarpet": [
           {
            "colorbar": {
             "outlinewidth": 0,
             "ticks": ""
            },
            "type": "contourcarpet"
           }
          ],
          "heatmap": [
           {
            "colorbar": {
             "outlinewidth": 0,
             "ticks": ""
            },
            "colorscale": [
             [
              0,
              "#0d0887"
             ],
             [
              0.1111111111111111,
              "#46039f"
             ],
             [
              0.2222222222222222,
              "#7201a8"
             ],
             [
              0.3333333333333333,
              "#9c179e"
             ],
             [
              0.4444444444444444,
              "#bd3786"
             ],
             [
              0.5555555555555556,
              "#d8576b"
             ],
             [
              0.6666666666666666,
              "#ed7953"
             ],
             [
              0.7777777777777778,
              "#fb9f3a"
             ],
             [
              0.8888888888888888,
              "#fdca26"
             ],
             [
              1,
              "#f0f921"
             ]
            ],
            "type": "heatmap"
           }
          ],
          "heatmapgl": [
           {
            "colorbar": {
             "outlinewidth": 0,
             "ticks": ""
            },
            "colorscale": [
             [
              0,
              "#0d0887"
             ],
             [
              0.1111111111111111,
              "#46039f"
             ],
             [
              0.2222222222222222,
              "#7201a8"
             ],
             [
              0.3333333333333333,
              "#9c179e"
             ],
             [
              0.4444444444444444,
              "#bd3786"
             ],
             [
              0.5555555555555556,
              "#d8576b"
             ],
             [
              0.6666666666666666,
              "#ed7953"
             ],
             [
              0.7777777777777778,
              "#fb9f3a"
             ],
             [
              0.8888888888888888,
              "#fdca26"
             ],
             [
              1,
              "#f0f921"
             ]
            ],
            "type": "heatmapgl"
           }
          ],
          "histogram": [
           {
            "marker": {
             "pattern": {
              "fillmode": "overlay",
              "size": 10,
              "solidity": 0.2
             }
            },
            "type": "histogram"
           }
          ],
          "histogram2d": [
           {
            "colorbar": {
             "outlinewidth": 0,
             "ticks": ""
            },
            "colorscale": [
             [
              0,
              "#0d0887"
             ],
             [
              0.1111111111111111,
              "#46039f"
             ],
             [
              0.2222222222222222,
              "#7201a8"
             ],
             [
              0.3333333333333333,
              "#9c179e"
             ],
             [
              0.4444444444444444,
              "#bd3786"
             ],
             [
              0.5555555555555556,
              "#d8576b"
             ],
             [
              0.6666666666666666,
              "#ed7953"
             ],
             [
              0.7777777777777778,
              "#fb9f3a"
             ],
             [
              0.8888888888888888,
              "#fdca26"
             ],
             [
              1,
              "#f0f921"
             ]
            ],
            "type": "histogram2d"
           }
          ],
          "histogram2dcontour": [
           {
            "colorbar": {
             "outlinewidth": 0,
             "ticks": ""
            },
            "colorscale": [
             [
              0,
              "#0d0887"
             ],
             [
              0.1111111111111111,
              "#46039f"
             ],
             [
              0.2222222222222222,
              "#7201a8"
             ],
             [
              0.3333333333333333,
              "#9c179e"
             ],
             [
              0.4444444444444444,
              "#bd3786"
             ],
             [
              0.5555555555555556,
              "#d8576b"
             ],
             [
              0.6666666666666666,
              "#ed7953"
             ],
             [
              0.7777777777777778,
              "#fb9f3a"
             ],
             [
              0.8888888888888888,
              "#fdca26"
             ],
             [
              1,
              "#f0f921"
             ]
            ],
            "type": "histogram2dcontour"
           }
          ],
          "mesh3d": [
           {
            "colorbar": {
             "outlinewidth": 0,
             "ticks": ""
            },
            "type": "mesh3d"
           }
          ],
          "parcoords": [
           {
            "line": {
             "colorbar": {
              "outlinewidth": 0,
              "ticks": ""
             }
            },
            "type": "parcoords"
           }
          ],
          "pie": [
           {
            "automargin": true,
            "type": "pie"
           }
          ],
          "scatter": [
           {
            "fillpattern": {
             "fillmode": "overlay",
             "size": 10,
             "solidity": 0.2
            },
            "type": "scatter"
           }
          ],
          "scatter3d": [
           {
            "line": {
             "colorbar": {
              "outlinewidth": 0,
              "ticks": ""
             }
            },
            "marker": {
             "colorbar": {
              "outlinewidth": 0,
              "ticks": ""
             }
            },
            "type": "scatter3d"
           }
          ],
          "scattercarpet": [
           {
            "marker": {
             "colorbar": {
              "outlinewidth": 0,
              "ticks": ""
             }
            },
            "type": "scattercarpet"
           }
          ],
          "scattergeo": [
           {
            "marker": {
             "colorbar": {
              "outlinewidth": 0,
              "ticks": ""
             }
            },
            "type": "scattergeo"
           }
          ],
          "scattergl": [
           {
            "marker": {
             "colorbar": {
              "outlinewidth": 0,
              "ticks": ""
             }
            },
            "type": "scattergl"
           }
          ],
          "scattermapbox": [
           {
            "marker": {
             "colorbar": {
              "outlinewidth": 0,
              "ticks": ""
             }
            },
            "type": "scattermapbox"
           }
          ],
          "scatterpolar": [
           {
            "marker": {
             "colorbar": {
              "outlinewidth": 0,
              "ticks": ""
             }
            },
            "type": "scatterpolar"
           }
          ],
          "scatterpolargl": [
           {
            "marker": {
             "colorbar": {
              "outlinewidth": 0,
              "ticks": ""
             }
            },
            "type": "scatterpolargl"
           }
          ],
          "scatterternary": [
           {
            "marker": {
             "colorbar": {
              "outlinewidth": 0,
              "ticks": ""
             }
            },
            "type": "scatterternary"
           }
          ],
          "surface": [
           {
            "colorbar": {
             "outlinewidth": 0,
             "ticks": ""
            },
            "colorscale": [
             [
              0,
              "#0d0887"
             ],
             [
              0.1111111111111111,
              "#46039f"
             ],
             [
              0.2222222222222222,
              "#7201a8"
             ],
             [
              0.3333333333333333,
              "#9c179e"
             ],
             [
              0.4444444444444444,
              "#bd3786"
             ],
             [
              0.5555555555555556,
              "#d8576b"
             ],
             [
              0.6666666666666666,
              "#ed7953"
             ],
             [
              0.7777777777777778,
              "#fb9f3a"
             ],
             [
              0.8888888888888888,
              "#fdca26"
             ],
             [
              1,
              "#f0f921"
             ]
            ],
            "type": "surface"
           }
          ],
          "table": [
           {
            "cells": {
             "fill": {
              "color": "#EBF0F8"
             },
             "line": {
              "color": "white"
             }
            },
            "header": {
             "fill": {
              "color": "#C8D4E3"
             },
             "line": {
              "color": "white"
             }
            },
            "type": "table"
           }
          ]
         },
         "layout": {
          "annotationdefaults": {
           "arrowcolor": "#2a3f5f",
           "arrowhead": 0,
           "arrowwidth": 1
          },
          "autotypenumbers": "strict",
          "coloraxis": {
           "colorbar": {
            "outlinewidth": 0,
            "ticks": ""
           }
          },
          "colorscale": {
           "diverging": [
            [
             0,
             "#8e0152"
            ],
            [
             0.1,
             "#c51b7d"
            ],
            [
             0.2,
             "#de77ae"
            ],
            [
             0.3,
             "#f1b6da"
            ],
            [
             0.4,
             "#fde0ef"
            ],
            [
             0.5,
             "#f7f7f7"
            ],
            [
             0.6,
             "#e6f5d0"
            ],
            [
             0.7,
             "#b8e186"
            ],
            [
             0.8,
             "#7fbc41"
            ],
            [
             0.9,
             "#4d9221"
            ],
            [
             1,
             "#276419"
            ]
           ],
           "sequential": [
            [
             0,
             "#0d0887"
            ],
            [
             0.1111111111111111,
             "#46039f"
            ],
            [
             0.2222222222222222,
             "#7201a8"
            ],
            [
             0.3333333333333333,
             "#9c179e"
            ],
            [
             0.4444444444444444,
             "#bd3786"
            ],
            [
             0.5555555555555556,
             "#d8576b"
            ],
            [
             0.6666666666666666,
             "#ed7953"
            ],
            [
             0.7777777777777778,
             "#fb9f3a"
            ],
            [
             0.8888888888888888,
             "#fdca26"
            ],
            [
             1,
             "#f0f921"
            ]
           ],
           "sequentialminus": [
            [
             0,
             "#0d0887"
            ],
            [
             0.1111111111111111,
             "#46039f"
            ],
            [
             0.2222222222222222,
             "#7201a8"
            ],
            [
             0.3333333333333333,
             "#9c179e"
            ],
            [
             0.4444444444444444,
             "#bd3786"
            ],
            [
             0.5555555555555556,
             "#d8576b"
            ],
            [
             0.6666666666666666,
             "#ed7953"
            ],
            [
             0.7777777777777778,
             "#fb9f3a"
            ],
            [
             0.8888888888888888,
             "#fdca26"
            ],
            [
             1,
             "#f0f921"
            ]
           ]
          },
          "colorway": [
           "#636efa",
           "#EF553B",
           "#00cc96",
           "#ab63fa",
           "#FFA15A",
           "#19d3f3",
           "#FF6692",
           "#B6E880",
           "#FF97FF",
           "#FECB52"
          ],
          "font": {
           "color": "#2a3f5f"
          },
          "geo": {
           "bgcolor": "white",
           "lakecolor": "white",
           "landcolor": "#E5ECF6",
           "showlakes": true,
           "showland": true,
           "subunitcolor": "white"
          },
          "hoverlabel": {
           "align": "left"
          },
          "hovermode": "closest",
          "mapbox": {
           "style": "light"
          },
          "paper_bgcolor": "white",
          "plot_bgcolor": "#E5ECF6",
          "polar": {
           "angularaxis": {
            "gridcolor": "white",
            "linecolor": "white",
            "ticks": ""
           },
           "bgcolor": "#E5ECF6",
           "radialaxis": {
            "gridcolor": "white",
            "linecolor": "white",
            "ticks": ""
           }
          },
          "scene": {
           "xaxis": {
            "backgroundcolor": "#E5ECF6",
            "gridcolor": "white",
            "gridwidth": 2,
            "linecolor": "white",
            "showbackground": true,
            "ticks": "",
            "zerolinecolor": "white"
           },
           "yaxis": {
            "backgroundcolor": "#E5ECF6",
            "gridcolor": "white",
            "gridwidth": 2,
            "linecolor": "white",
            "showbackground": true,
            "ticks": "",
            "zerolinecolor": "white"
           },
           "zaxis": {
            "backgroundcolor": "#E5ECF6",
            "gridcolor": "white",
            "gridwidth": 2,
            "linecolor": "white",
            "showbackground": true,
            "ticks": "",
            "zerolinecolor": "white"
           }
          },
          "shapedefaults": {
           "line": {
            "color": "#2a3f5f"
           }
          },
          "ternary": {
           "aaxis": {
            "gridcolor": "white",
            "linecolor": "white",
            "ticks": ""
           },
           "baxis": {
            "gridcolor": "white",
            "linecolor": "white",
            "ticks": ""
           },
           "bgcolor": "#E5ECF6",
           "caxis": {
            "gridcolor": "white",
            "linecolor": "white",
            "ticks": ""
           }
          },
          "title": {
           "x": 0.05
          },
          "xaxis": {
           "automargin": true,
           "gridcolor": "white",
           "linecolor": "white",
           "ticks": "",
           "title": {
            "standoff": 15
           },
           "zerolinecolor": "white",
           "zerolinewidth": 2
          },
          "yaxis": {
           "automargin": true,
           "gridcolor": "white",
           "linecolor": "white",
           "ticks": "",
           "title": {
            "standoff": 15
           },
           "zerolinecolor": "white",
           "zerolinewidth": 2
          }
         }
        },
        "title": {
         "text": "Luogo di consumo di almeno 6 bicchieri di superalcolici"
        }
       }
      },
      "text/html": [
       "<div>                            <div id=\"b62df979-3194-4de8-9693-f0999cbdcfbe\" class=\"plotly-graph-div\" style=\"height:525px; width:100%;\"></div>            <script type=\"text/javascript\">                require([\"plotly\"], function(Plotly) {                    window.PLOTLYENV=window.PLOTLYENV || {};                                    if (document.getElementById(\"b62df979-3194-4de8-9693-f0999cbdcfbe\")) {                    Plotly.newPlot(                        \"b62df979-3194-4de8-9693-f0999cbdcfbe\",                        [{\"name\":\"14-15\",\"r\":[0.33,0.17,0,0.17,0.17,0.5,0.33],\"theta\":[\"CASA\",\"CASA PARENTI/AMICI\",\"RISTORANTE\",\"PUB\",\"DISCO\",\"STRADA\",\"CASA\"],\"type\":\"scatterpolar\"},{\"name\":\"16-17\",\"r\":[0.07,0.2,0,0.27,0.33,0.07,0.07],\"theta\":[\"CASA\",\"CASA PARENTI/AMICI\",\"RISTORANTE\",\"PUB\",\"DISCO\",\"STRADA\",\"CASA\"],\"type\":\"scatterpolar\"},{\"name\":\"18-19\",\"r\":[0.19,0.3,0.14,0.3,0.21,0.16,0.19],\"theta\":[\"CASA\",\"CASA PARENTI/AMICI\",\"RISTORANTE\",\"PUB\",\"DISCO\",\"STRADA\",\"CASA\"],\"type\":\"scatterpolar\"},{\"name\":\"20-24\",\"r\":[0.06,0.13,0.06,0.41,0.2,0.11,0.06],\"theta\":[\"CASA\",\"CASA PARENTI/AMICI\",\"RISTORANTE\",\"PUB\",\"DISCO\",\"STRADA\",\"CASA\"],\"type\":\"scatterpolar\"},{\"name\":\"25-29\",\"r\":[0.17,0.18,0.13,0.23,0.12,0.07,0.17],\"theta\":[\"CASA\",\"CASA PARENTI/AMICI\",\"RISTORANTE\",\"PUB\",\"DISCO\",\"STRADA\",\"CASA\"],\"type\":\"scatterpolar\"}],                        {\"polar\":{\"radialaxis\":{\"visible\":false}},\"showlegend\":true,\"title\":{\"text\":\"Luogo di consumo di almeno 6 bicchieri di superalcolici\"},\"template\":{\"data\":{\"histogram2dcontour\":[{\"type\":\"histogram2dcontour\",\"colorbar\":{\"outlinewidth\":0,\"ticks\":\"\"},\"colorscale\":[[0.0,\"#0d0887\"],[0.1111111111111111,\"#46039f\"],[0.2222222222222222,\"#7201a8\"],[0.3333333333333333,\"#9c179e\"],[0.4444444444444444,\"#bd3786\"],[0.5555555555555556,\"#d8576b\"],[0.6666666666666666,\"#ed7953\"],[0.7777777777777778,\"#fb9f3a\"],[0.8888888888888888,\"#fdca26\"],[1.0,\"#f0f921\"]]}],\"choropleth\":[{\"type\":\"choropleth\",\"colorbar\":{\"outlinewidth\":0,\"ticks\":\"\"}}],\"histogram2d\":[{\"type\":\"histogram2d\",\"colorbar\":{\"outlinewidth\":0,\"ticks\":\"\"},\"colorscale\":[[0.0,\"#0d0887\"],[0.1111111111111111,\"#46039f\"],[0.2222222222222222,\"#7201a8\"],[0.3333333333333333,\"#9c179e\"],[0.4444444444444444,\"#bd3786\"],[0.5555555555555556,\"#d8576b\"],[0.6666666666666666,\"#ed7953\"],[0.7777777777777778,\"#fb9f3a\"],[0.8888888888888888,\"#fdca26\"],[1.0,\"#f0f921\"]]}],\"heatmap\":[{\"type\":\"heatmap\",\"colorbar\":{\"outlinewidth\":0,\"ticks\":\"\"},\"colorscale\":[[0.0,\"#0d0887\"],[0.1111111111111111,\"#46039f\"],[0.2222222222222222,\"#7201a8\"],[0.3333333333333333,\"#9c179e\"],[0.4444444444444444,\"#bd3786\"],[0.5555555555555556,\"#d8576b\"],[0.6666666666666666,\"#ed7953\"],[0.7777777777777778,\"#fb9f3a\"],[0.8888888888888888,\"#fdca26\"],[1.0,\"#f0f921\"]]}],\"heatmapgl\":[{\"type\":\"heatmapgl\",\"colorbar\":{\"outlinewidth\":0,\"ticks\":\"\"},\"colorscale\":[[0.0,\"#0d0887\"],[0.1111111111111111,\"#46039f\"],[0.2222222222222222,\"#7201a8\"],[0.3333333333333333,\"#9c179e\"],[0.4444444444444444,\"#bd3786\"],[0.5555555555555556,\"#d8576b\"],[0.6666666666666666,\"#ed7953\"],[0.7777777777777778,\"#fb9f3a\"],[0.8888888888888888,\"#fdca26\"],[1.0,\"#f0f921\"]]}],\"contourcarpet\":[{\"type\":\"contourcarpet\",\"colorbar\":{\"outlinewidth\":0,\"ticks\":\"\"}}],\"contour\":[{\"type\":\"contour\",\"colorbar\":{\"outlinewidth\":0,\"ticks\":\"\"},\"colorscale\":[[0.0,\"#0d0887\"],[0.1111111111111111,\"#46039f\"],[0.2222222222222222,\"#7201a8\"],[0.3333333333333333,\"#9c179e\"],[0.4444444444444444,\"#bd3786\"],[0.5555555555555556,\"#d8576b\"],[0.6666666666666666,\"#ed7953\"],[0.7777777777777778,\"#fb9f3a\"],[0.8888888888888888,\"#fdca26\"],[1.0,\"#f0f921\"]]}],\"surface\":[{\"type\":\"surface\",\"colorbar\":{\"outlinewidth\":0,\"ticks\":\"\"},\"colorscale\":[[0.0,\"#0d0887\"],[0.1111111111111111,\"#46039f\"],[0.2222222222222222,\"#7201a8\"],[0.3333333333333333,\"#9c179e\"],[0.4444444444444444,\"#bd3786\"],[0.5555555555555556,\"#d8576b\"],[0.6666666666666666,\"#ed7953\"],[0.7777777777777778,\"#fb9f3a\"],[0.8888888888888888,\"#fdca26\"],[1.0,\"#f0f921\"]]}],\"mesh3d\":[{\"type\":\"mesh3d\",\"colorbar\":{\"outlinewidth\":0,\"ticks\":\"\"}}],\"scatter\":[{\"fillpattern\":{\"fillmode\":\"overlay\",\"size\":10,\"solidity\":0.2},\"type\":\"scatter\"}],\"parcoords\":[{\"type\":\"parcoords\",\"line\":{\"colorbar\":{\"outlinewidth\":0,\"ticks\":\"\"}}}],\"scatterpolargl\":[{\"type\":\"scatterpolargl\",\"marker\":{\"colorbar\":{\"outlinewidth\":0,\"ticks\":\"\"}}}],\"bar\":[{\"error_x\":{\"color\":\"#2a3f5f\"},\"error_y\":{\"color\":\"#2a3f5f\"},\"marker\":{\"line\":{\"color\":\"#E5ECF6\",\"width\":0.5},\"pattern\":{\"fillmode\":\"overlay\",\"size\":10,\"solidity\":0.2}},\"type\":\"bar\"}],\"scattergeo\":[{\"type\":\"scattergeo\",\"marker\":{\"colorbar\":{\"outlinewidth\":0,\"ticks\":\"\"}}}],\"scatterpolar\":[{\"type\":\"scatterpolar\",\"marker\":{\"colorbar\":{\"outlinewidth\":0,\"ticks\":\"\"}}}],\"histogram\":[{\"marker\":{\"pattern\":{\"fillmode\":\"overlay\",\"size\":10,\"solidity\":0.2}},\"type\":\"histogram\"}],\"scattergl\":[{\"type\":\"scattergl\",\"marker\":{\"colorbar\":{\"outlinewidth\":0,\"ticks\":\"\"}}}],\"scatter3d\":[{\"type\":\"scatter3d\",\"line\":{\"colorbar\":{\"outlinewidth\":0,\"ticks\":\"\"}},\"marker\":{\"colorbar\":{\"outlinewidth\":0,\"ticks\":\"\"}}}],\"scattermapbox\":[{\"type\":\"scattermapbox\",\"marker\":{\"colorbar\":{\"outlinewidth\":0,\"ticks\":\"\"}}}],\"scatterternary\":[{\"type\":\"scatterternary\",\"marker\":{\"colorbar\":{\"outlinewidth\":0,\"ticks\":\"\"}}}],\"scattercarpet\":[{\"type\":\"scattercarpet\",\"marker\":{\"colorbar\":{\"outlinewidth\":0,\"ticks\":\"\"}}}],\"carpet\":[{\"aaxis\":{\"endlinecolor\":\"#2a3f5f\",\"gridcolor\":\"white\",\"linecolor\":\"white\",\"minorgridcolor\":\"white\",\"startlinecolor\":\"#2a3f5f\"},\"baxis\":{\"endlinecolor\":\"#2a3f5f\",\"gridcolor\":\"white\",\"linecolor\":\"white\",\"minorgridcolor\":\"white\",\"startlinecolor\":\"#2a3f5f\"},\"type\":\"carpet\"}],\"table\":[{\"cells\":{\"fill\":{\"color\":\"#EBF0F8\"},\"line\":{\"color\":\"white\"}},\"header\":{\"fill\":{\"color\":\"#C8D4E3\"},\"line\":{\"color\":\"white\"}},\"type\":\"table\"}],\"barpolar\":[{\"marker\":{\"line\":{\"color\":\"#E5ECF6\",\"width\":0.5},\"pattern\":{\"fillmode\":\"overlay\",\"size\":10,\"solidity\":0.2}},\"type\":\"barpolar\"}],\"pie\":[{\"automargin\":true,\"type\":\"pie\"}]},\"layout\":{\"autotypenumbers\":\"strict\",\"colorway\":[\"#636efa\",\"#EF553B\",\"#00cc96\",\"#ab63fa\",\"#FFA15A\",\"#19d3f3\",\"#FF6692\",\"#B6E880\",\"#FF97FF\",\"#FECB52\"],\"font\":{\"color\":\"#2a3f5f\"},\"hovermode\":\"closest\",\"hoverlabel\":{\"align\":\"left\"},\"paper_bgcolor\":\"white\",\"plot_bgcolor\":\"#E5ECF6\",\"polar\":{\"bgcolor\":\"#E5ECF6\",\"angularaxis\":{\"gridcolor\":\"white\",\"linecolor\":\"white\",\"ticks\":\"\"},\"radialaxis\":{\"gridcolor\":\"white\",\"linecolor\":\"white\",\"ticks\":\"\"}},\"ternary\":{\"bgcolor\":\"#E5ECF6\",\"aaxis\":{\"gridcolor\":\"white\",\"linecolor\":\"white\",\"ticks\":\"\"},\"baxis\":{\"gridcolor\":\"white\",\"linecolor\":\"white\",\"ticks\":\"\"},\"caxis\":{\"gridcolor\":\"white\",\"linecolor\":\"white\",\"ticks\":\"\"}},\"coloraxis\":{\"colorbar\":{\"outlinewidth\":0,\"ticks\":\"\"}},\"colorscale\":{\"sequential\":[[0.0,\"#0d0887\"],[0.1111111111111111,\"#46039f\"],[0.2222222222222222,\"#7201a8\"],[0.3333333333333333,\"#9c179e\"],[0.4444444444444444,\"#bd3786\"],[0.5555555555555556,\"#d8576b\"],[0.6666666666666666,\"#ed7953\"],[0.7777777777777778,\"#fb9f3a\"],[0.8888888888888888,\"#fdca26\"],[1.0,\"#f0f921\"]],\"sequentialminus\":[[0.0,\"#0d0887\"],[0.1111111111111111,\"#46039f\"],[0.2222222222222222,\"#7201a8\"],[0.3333333333333333,\"#9c179e\"],[0.4444444444444444,\"#bd3786\"],[0.5555555555555556,\"#d8576b\"],[0.6666666666666666,\"#ed7953\"],[0.7777777777777778,\"#fb9f3a\"],[0.8888888888888888,\"#fdca26\"],[1.0,\"#f0f921\"]],\"diverging\":[[0,\"#8e0152\"],[0.1,\"#c51b7d\"],[0.2,\"#de77ae\"],[0.3,\"#f1b6da\"],[0.4,\"#fde0ef\"],[0.5,\"#f7f7f7\"],[0.6,\"#e6f5d0\"],[0.7,\"#b8e186\"],[0.8,\"#7fbc41\"],[0.9,\"#4d9221\"],[1,\"#276419\"]]},\"xaxis\":{\"gridcolor\":\"white\",\"linecolor\":\"white\",\"ticks\":\"\",\"title\":{\"standoff\":15},\"zerolinecolor\":\"white\",\"automargin\":true,\"zerolinewidth\":2},\"yaxis\":{\"gridcolor\":\"white\",\"linecolor\":\"white\",\"ticks\":\"\",\"title\":{\"standoff\":15},\"zerolinecolor\":\"white\",\"automargin\":true,\"zerolinewidth\":2},\"scene\":{\"xaxis\":{\"backgroundcolor\":\"#E5ECF6\",\"gridcolor\":\"white\",\"linecolor\":\"white\",\"showbackground\":true,\"ticks\":\"\",\"zerolinecolor\":\"white\",\"gridwidth\":2},\"yaxis\":{\"backgroundcolor\":\"#E5ECF6\",\"gridcolor\":\"white\",\"linecolor\":\"white\",\"showbackground\":true,\"ticks\":\"\",\"zerolinecolor\":\"white\",\"gridwidth\":2},\"zaxis\":{\"backgroundcolor\":\"#E5ECF6\",\"gridcolor\":\"white\",\"linecolor\":\"white\",\"showbackground\":true,\"ticks\":\"\",\"zerolinecolor\":\"white\",\"gridwidth\":2}},\"shapedefaults\":{\"line\":{\"color\":\"#2a3f5f\"}},\"annotationdefaults\":{\"arrowcolor\":\"#2a3f5f\",\"arrowhead\":0,\"arrowwidth\":1},\"geo\":{\"bgcolor\":\"white\",\"landcolor\":\"#E5ECF6\",\"subunitcolor\":\"white\",\"showland\":true,\"showlakes\":true,\"lakecolor\":\"white\"},\"title\":{\"x\":0.05},\"mapbox\":{\"style\":\"light\"}}}},                        {\"responsive\": true}                    ).then(function(){\n",
       "                            \n",
       "var gd = document.getElementById('b62df979-3194-4de8-9693-f0999cbdcfbe');\n",
       "var x = new MutationObserver(function (mutations, observer) {{\n",
       "        var display = window.getComputedStyle(gd).display;\n",
       "        if (!display || display === 'none') {{\n",
       "            console.log([gd, 'removed!']);\n",
       "            Plotly.purge(gd);\n",
       "            observer.disconnect();\n",
       "        }}\n",
       "}});\n",
       "\n",
       "// Listen for the removal of the full notebook cells\n",
       "var notebookContainer = gd.closest('#notebook-container');\n",
       "if (notebookContainer) {{\n",
       "    x.observe(notebookContainer, {childList: true});\n",
       "}}\n",
       "\n",
       "// Listen for the clearing of the current output cell\n",
       "var outputEl = gd.closest('.output');\n",
       "if (outputEl) {{\n",
       "    x.observe(outputEl, {childList: true});\n",
       "}}\n",
       "\n",
       "                        })                };                });            </script>        </div>"
      ]
     },
     "metadata": {},
     "output_type": "display_data"
    }
   ],
   "source": [
    "import plotly.graph_objects as go\n",
    "import plotly.offline as pyo\n",
    "\n",
    "\n",
    "categories = ['CASA', 'CASA PARENTI/AMICI', 'RISTORANTE', 'PUB', 'DISCO', 'STRADA']\n",
    "categories = [*categories, categories[0]]\n",
    "\n",
    "# fascia eta 1, fascia eta 2, fascia eta 3, ...\n",
    "fascia_5=[0.33,0.17,0,0.17,0.17,0.5]\n",
    "fascia_6=[0.07,0.2,0,0.27, 0.33, 0.07]\n",
    "fascia_7=[0.19, 0.3,0.14,0.3,0.21,0.16]\n",
    "fascia_8=[0.06, 0.13, 0.06, 0.41, 0.2, 0.11 ]\n",
    "fascia_9=[0.17,0.18,0.13,0.23,0.12, 0.07]\n",
    "\n",
    "fascia_5=[*fascia_5, fascia_5[0]]\n",
    "fascia_6=[*fascia_6, fascia_6[0]]\n",
    "fascia_7=[*fascia_7, fascia_7[0]]\n",
    "fascia_8=[*fascia_8, fascia_8[0]]\n",
    "fascia_9=[*fascia_9, fascia_9[0]]\n",
    "\n",
    "fig = go.Figure(\n",
    "    data=[\n",
    "        go.Scatterpolar(r=fascia_5, theta=categories, name='14-15'),\n",
    "        go.Scatterpolar(r=fascia_6, theta=categories, name='16-17'),\n",
    "        go.Scatterpolar(r=fascia_7, theta=categories, name='18-19'),\n",
    "        go.Scatterpolar(r=fascia_8, theta=categories, name='20-24'),\n",
    "        go.Scatterpolar(r=fascia_9, theta=categories, name='25-29'),\n",
    "    ],\n",
    "    layout=go.Layout(\n",
    "        title=go.layout.Title(text='Luogo di consumo di almeno 6 bicchieri di superalcolici'),\n",
    "        polar={'radialaxis': {'visible': False}},\n",
    "        showlegend=True,\n",
    "    )\n",
    ")\n",
    "\n",
    "fig.show()"
   ]
  }
 ],
 "metadata": {
  "kernelspec": {
   "display_name": "Python 3 (ipykernel)",
   "language": "python",
   "name": "python3"
  },
  "language_info": {
   "codemirror_mode": {
    "name": "ipython",
    "version": 3
   },
   "file_extension": ".py",
   "mimetype": "text/x-python",
   "name": "python",
   "nbconvert_exporter": "python",
   "pygments_lexer": "ipython3",
   "version": "3.9.15"
  }
 },
 "nbformat": 4,
 "nbformat_minor": 5
}
