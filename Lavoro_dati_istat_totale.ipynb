{
 "cells": [
  {
   "cell_type": "code",
   "execution_count": 2,
   "id": "74f1fe42",
   "metadata": {},
   "outputs": [],
   "source": [
    "import matplotlib.pyplot as plt\n",
    "import pandas as pd\n",
    "import numpy as np\n",
    "import seaborn as sns"
   ]
  },
  {
   "cell_type": "code",
   "execution_count": 3,
   "id": "0582e6d9",
   "metadata": {},
   "outputs": [
    {
     "data": {
      "text/html": [
       "<div>\n",
       "<style scoped>\n",
       "    .dataframe tbody tr th:only-of-type {\n",
       "        vertical-align: middle;\n",
       "    }\n",
       "\n",
       "    .dataframe tbody tr th {\n",
       "        vertical-align: top;\n",
       "    }\n",
       "\n",
       "    .dataframe thead th {\n",
       "        text-align: right;\n",
       "    }\n",
       "</style>\n",
       "<table border=\"1\" class=\"dataframe\">\n",
       "  <thead>\n",
       "    <tr style=\"text-align: right;\">\n",
       "      <th></th>\n",
       "      <th>NCOMP</th>\n",
       "      <th>ETAMi</th>\n",
       "      <th>SESSO</th>\n",
       "      <th>LEZPR</th>\n",
       "      <th>INFOR</th>\n",
       "      <th>LING</th>\n",
       "      <th>MMSCLA</th>\n",
       "      <th>SPOCON</th>\n",
       "      <th>SPOSAL</th>\n",
       "      <th>BIRRA</th>\n",
       "      <th>...</th>\n",
       "      <th>FUMO</th>\n",
       "      <th>FRFUMO</th>\n",
       "      <th>TFUMO</th>\n",
       "      <th>NSIGARM</th>\n",
       "      <th>SALUTE</th>\n",
       "      <th>CRONI</th>\n",
       "      <th>DIAB</th>\n",
       "      <th>FEGATO</th>\n",
       "      <th>CIRRO</th>\n",
       "      <th>NEURO</th>\n",
       "    </tr>\n",
       "  </thead>\n",
       "  <tbody>\n",
       "    <tr>\n",
       "      <th>0</th>\n",
       "      <td>4</td>\n",
       "      <td>9</td>\n",
       "      <td>2</td>\n",
       "      <td>1.0</td>\n",
       "      <td>1.0</td>\n",
       "      <td>1.0</td>\n",
       "      <td>15.0</td>\n",
       "      <td>1.0</td>\n",
       "      <td>1.0</td>\n",
       "      <td>6.0</td>\n",
       "      <td>...</td>\n",
       "      <td>3.0</td>\n",
       "      <td>NaN</td>\n",
       "      <td>NaN</td>\n",
       "      <td>NaN</td>\n",
       "      <td>2</td>\n",
       "      <td>1.0</td>\n",
       "      <td>1.0</td>\n",
       "      <td>3.0</td>\n",
       "      <td>5.0</td>\n",
       "      <td>5.0</td>\n",
       "    </tr>\n",
       "    <tr>\n",
       "      <th>1</th>\n",
       "      <td>4</td>\n",
       "      <td>9</td>\n",
       "      <td>1</td>\n",
       "      <td>1.0</td>\n",
       "      <td>1.0</td>\n",
       "      <td>1.0</td>\n",
       "      <td>99.0</td>\n",
       "      <td>1.0</td>\n",
       "      <td>2.0</td>\n",
       "      <td>1.0</td>\n",
       "      <td>...</td>\n",
       "      <td>1.0</td>\n",
       "      <td>1.0</td>\n",
       "      <td>3.0</td>\n",
       "      <td>17.0</td>\n",
       "      <td>2</td>\n",
       "      <td>1.0</td>\n",
       "      <td>1.0</td>\n",
       "      <td>3.0</td>\n",
       "      <td>5.0</td>\n",
       "      <td>5.0</td>\n",
       "    </tr>\n",
       "    <tr>\n",
       "      <th>2</th>\n",
       "      <td>3</td>\n",
       "      <td>9</td>\n",
       "      <td>2</td>\n",
       "      <td>1.0</td>\n",
       "      <td>1.0</td>\n",
       "      <td>4.0</td>\n",
       "      <td>50.0</td>\n",
       "      <td>2.0</td>\n",
       "      <td>NaN</td>\n",
       "      <td>6.0</td>\n",
       "      <td>...</td>\n",
       "      <td>3.0</td>\n",
       "      <td>NaN</td>\n",
       "      <td>NaN</td>\n",
       "      <td>NaN</td>\n",
       "      <td>2</td>\n",
       "      <td>1.0</td>\n",
       "      <td>1.0</td>\n",
       "      <td>3.0</td>\n",
       "      <td>5.0</td>\n",
       "      <td>5.0</td>\n",
       "    </tr>\n",
       "    <tr>\n",
       "      <th>3</th>\n",
       "      <td>3</td>\n",
       "      <td>8</td>\n",
       "      <td>2</td>\n",
       "      <td>1.0</td>\n",
       "      <td>1.0</td>\n",
       "      <td>1.0</td>\n",
       "      <td>NaN</td>\n",
       "      <td>1.0</td>\n",
       "      <td>1.0</td>\n",
       "      <td>6.0</td>\n",
       "      <td>...</td>\n",
       "      <td>3.0</td>\n",
       "      <td>NaN</td>\n",
       "      <td>NaN</td>\n",
       "      <td>NaN</td>\n",
       "      <td>2</td>\n",
       "      <td>1.0</td>\n",
       "      <td>1.0</td>\n",
       "      <td>3.0</td>\n",
       "      <td>5.0</td>\n",
       "      <td>5.0</td>\n",
       "    </tr>\n",
       "    <tr>\n",
       "      <th>4</th>\n",
       "      <td>3</td>\n",
       "      <td>7</td>\n",
       "      <td>2</td>\n",
       "      <td>1.0</td>\n",
       "      <td>1.0</td>\n",
       "      <td>1.0</td>\n",
       "      <td>23.0</td>\n",
       "      <td>1.0</td>\n",
       "      <td>1.0</td>\n",
       "      <td>6.0</td>\n",
       "      <td>...</td>\n",
       "      <td>3.0</td>\n",
       "      <td>NaN</td>\n",
       "      <td>NaN</td>\n",
       "      <td>NaN</td>\n",
       "      <td>2</td>\n",
       "      <td>1.0</td>\n",
       "      <td>1.0</td>\n",
       "      <td>3.0</td>\n",
       "      <td>5.0</td>\n",
       "      <td>5.0</td>\n",
       "    </tr>\n",
       "  </tbody>\n",
       "</table>\n",
       "<p>5 rows × 41 columns</p>\n",
       "</div>"
      ],
      "text/plain": [
       "   NCOMP  ETAMi  SESSO  LEZPR  INFOR  LING  MMSCLA  SPOCON  SPOSAL  BIRRA  \\\n",
       "0      4      9      2    1.0    1.0   1.0    15.0     1.0     1.0    6.0   \n",
       "1      4      9      1    1.0    1.0   1.0    99.0     1.0     2.0    1.0   \n",
       "2      3      9      2    1.0    1.0   4.0    50.0     2.0     NaN    6.0   \n",
       "3      3      8      2    1.0    1.0   1.0     NaN     1.0     1.0    6.0   \n",
       "4      3      7      2    1.0    1.0   1.0    23.0     1.0     1.0    6.0   \n",
       "\n",
       "   ...  FUMO  FRFUMO  TFUMO  NSIGARM  SALUTE  CRONI  DIAB  FEGATO  CIRRO  \\\n",
       "0  ...   3.0     NaN    NaN      NaN       2    1.0   1.0     3.0    5.0   \n",
       "1  ...   1.0     1.0    3.0     17.0       2    1.0   1.0     3.0    5.0   \n",
       "2  ...   3.0     NaN    NaN      NaN       2    1.0   1.0     3.0    5.0   \n",
       "3  ...   3.0     NaN    NaN      NaN       2    1.0   1.0     3.0    5.0   \n",
       "4  ...   3.0     NaN    NaN      NaN       2    1.0   1.0     3.0    5.0   \n",
       "\n",
       "   NEURO  \n",
       "0    5.0  \n",
       "1    5.0  \n",
       "2    5.0  \n",
       "3    5.0  \n",
       "4    5.0  \n",
       "\n",
       "[5 rows x 41 columns]"
      ]
     },
     "execution_count": 3,
     "metadata": {},
     "output_type": "execute_result"
    }
   ],
   "source": [
    "dati = pd.read_csv('database_ripulito.csv')\n",
    "del(dati['Unnamed: 0'])\n",
    "dati.head()"
   ]
  },
  {
   "cell_type": "code",
   "execution_count": 4,
   "id": "7f9857a5",
   "metadata": {},
   "outputs": [],
   "source": [
    "palette=[\"#0072c6\",\"#00a2e8\",\"#66b2ff\",\"#99cfff\",\"#cce6ff\"]"
   ]
  },
  {
   "cell_type": "code",
   "execution_count": 32,
   "id": "69108c11",
   "metadata": {},
   "outputs": [],
   "source": [
    "labels_eta = ['11-13 anni', '14-15 anni', '16-17 anni', '18-19 anni', '20-24 anni', '25-29 anni']"
   ]
  },
  {
   "cell_type": "code",
   "execution_count": 6,
   "id": "c5009c85",
   "metadata": {},
   "outputs": [
    {
     "data": {
      "text/plain": [
       "Birra            1.482759\n",
       "Vino             2.405405\n",
       "Superalcolici    3.571429\n",
       "Name: 0, dtype: float64"
      ]
     },
     "metadata": {},
     "output_type": "display_data"
    },
    {
     "data": {
      "image/png": "[encoded data removed]",
      "text/plain": [
       "<Figure size 640x480 with 1 Axes>"
      ]
     },
     "metadata": {},
     "output_type": "display_data"
    }
   ],
   "source": [
    "dati_superiori= dati[dati['ETAMi'].between(4,7)]\n",
    "dati_uni = dati[dati['ETAMi'].between(8,9)]\n",
    "\n",
    "boh= [dati_superiori[dati_superiori['BIRRA']<4]['BICBIRRAM'].mean(), dati_superiori[dati_superiori['VINO']<4]['BICVINOM'].mean(),dati_superiori[dati_superiori['LIQUOR']<4]['BICALTROM'].mean()]\n",
    "boh\n",
    "labels =['Birra', 'Vino', 'Superalcolici']\n",
    "data = pd.DataFrame(index=labels, data=boh)\n",
    "display(data[0])\n",
    "\n",
    "explode=(0.02,0.02, 0.02)\n",
    "plt.title(\"\\nPercentuale di preferenze alcolici superiori\\n\",fontsize=20)\n",
    "plt.pie(data[0], labels = data.index,colors=palette, autopct='%.0f%%', explode=explode)\n",
    "plt.show()\n"
   ]
  },
  {
   "cell_type": "code",
   "execution_count": 7,
   "id": "7f40a842",
   "metadata": {},
   "outputs": [
    {
     "data": {
      "text/plain": [
       "Birra            1.531049\n",
       "Vino             1.760563\n",
       "Superalcolici    2.909091\n",
       "Name: 0, dtype: float64"
      ]
     },
     "metadata": {},
     "output_type": "display_data"
    },
    {
     "data": {
      "image/png": "[encoded data removed]",
      "text/plain": [
       "<Figure size 640x480 with 1 Axes>"
      ]
     },
     "metadata": {},
     "output_type": "display_data"
    }
   ],
   "source": [
    "boh= [dati_uni[dati_uni['BIRRA']<4]['BICBIRRAM'].mean(), dati_uni[dati_uni['VINO']<4]['BICVINOM'].mean(),dati_uni[dati_uni['LIQUOR']<4]['BICALTROM'].mean()]\n",
    "boh\n",
    "labels =['Birra', 'Vino', 'Superalcolici']\n",
    "data = pd.DataFrame(index=labels, data=boh)\n",
    "display(data[0])\n",
    "\n",
    "explode=(0.02,0.02, 0.02)\n",
    "plt.title(\"\\nPercentuale di preferenze alcolici universitari\\n\",fontsize=20)\n",
    "plt.pie(data[0], labels = data.index,colors=palette, autopct='%.0f%%', explode=explode)\n",
    "plt.show()\n"
   ]
  },
  {
   "cell_type": "code",
   "execution_count": 8,
   "id": "db14bf9f",
   "metadata": {},
   "outputs": [
    {
     "data": {
      "text/html": [
       "<div>\n",
       "<style scoped>\n",
       "    .dataframe tbody tr th:only-of-type {\n",
       "        vertical-align: middle;\n",
       "    }\n",
       "\n",
       "    .dataframe tbody tr th {\n",
       "        vertical-align: top;\n",
       "    }\n",
       "\n",
       "    .dataframe thead th {\n",
       "        text-align: right;\n",
       "    }\n",
       "</style>\n",
       "<table border=\"1\" class=\"dataframe\">\n",
       "  <thead>\n",
       "    <tr style=\"text-align: right;\">\n",
       "      <th>ETAMi</th>\n",
       "      <th>4</th>\n",
       "      <th>5</th>\n",
       "      <th>6</th>\n",
       "      <th>7</th>\n",
       "      <th>8</th>\n",
       "      <th>9</th>\n",
       "    </tr>\n",
       "    <tr>\n",
       "      <th>BICBIRRAM</th>\n",
       "      <th></th>\n",
       "      <th></th>\n",
       "      <th></th>\n",
       "      <th></th>\n",
       "      <th></th>\n",
       "      <th></th>\n",
       "    </tr>\n",
       "  </thead>\n",
       "  <tbody>\n",
       "    <tr>\n",
       "      <th>1.0</th>\n",
       "      <td>0.000000</td>\n",
       "      <td>0.009524</td>\n",
       "      <td>0.011429</td>\n",
       "      <td>0.055238</td>\n",
       "      <td>0.180952</td>\n",
       "      <td>0.420952</td>\n",
       "    </tr>\n",
       "    <tr>\n",
       "      <th>2.0</th>\n",
       "      <td>0.001905</td>\n",
       "      <td>0.000000</td>\n",
       "      <td>0.005714</td>\n",
       "      <td>0.017143</td>\n",
       "      <td>0.045714</td>\n",
       "      <td>0.131429</td>\n",
       "    </tr>\n",
       "    <tr>\n",
       "      <th>3.0</th>\n",
       "      <td>0.000000</td>\n",
       "      <td>0.000000</td>\n",
       "      <td>0.003810</td>\n",
       "      <td>0.001905</td>\n",
       "      <td>0.013333</td>\n",
       "      <td>0.059048</td>\n",
       "    </tr>\n",
       "    <tr>\n",
       "      <th>4.0</th>\n",
       "      <td>0.000000</td>\n",
       "      <td>0.000000</td>\n",
       "      <td>0.000000</td>\n",
       "      <td>0.000000</td>\n",
       "      <td>0.007619</td>\n",
       "      <td>0.009524</td>\n",
       "    </tr>\n",
       "    <tr>\n",
       "      <th>5.0</th>\n",
       "      <td>0.000000</td>\n",
       "      <td>0.000000</td>\n",
       "      <td>0.000000</td>\n",
       "      <td>0.001905</td>\n",
       "      <td>0.003810</td>\n",
       "      <td>0.001905</td>\n",
       "    </tr>\n",
       "    <tr>\n",
       "      <th>6.0</th>\n",
       "      <td>0.000000</td>\n",
       "      <td>0.000000</td>\n",
       "      <td>0.000000</td>\n",
       "      <td>0.001905</td>\n",
       "      <td>0.001905</td>\n",
       "      <td>0.013333</td>\n",
       "    </tr>\n",
       "  </tbody>\n",
       "</table>\n",
       "</div>"
      ],
      "text/plain": [
       "ETAMi             4         5         6         7         8         9\n",
       "BICBIRRAM                                                            \n",
       "1.0        0.000000  0.009524  0.011429  0.055238  0.180952  0.420952\n",
       "2.0        0.001905  0.000000  0.005714  0.017143  0.045714  0.131429\n",
       "3.0        0.000000  0.000000  0.003810  0.001905  0.013333  0.059048\n",
       "4.0        0.000000  0.000000  0.000000  0.000000  0.007619  0.009524\n",
       "5.0        0.000000  0.000000  0.000000  0.001905  0.003810  0.001905\n",
       "6.0        0.000000  0.000000  0.000000  0.001905  0.001905  0.013333"
      ]
     },
     "execution_count": 8,
     "metadata": {},
     "output_type": "execute_result"
    }
   ],
   "source": [
    "dati[dati['BIRRA']<4]['BICBIRRAM'].value_counts(normalize=True)\n",
    "pd.crosstab(dati[dati['BIRRA']<4]['BICBIRRAM'], dati[dati['BIRRA']<4]['ETAMi'], normalize=True)"
   ]
  },
  {
   "cell_type": "code",
   "execution_count": 9,
   "id": "53f1a3e3",
   "metadata": {},
   "outputs": [],
   "source": [
    "totale_alcol = pd.crosstab(dati[dati['BIRRA']<4]['ETAMi'],dati[dati['BIRRA']<4]['BICBIRRAM'],  normalize=True)+ pd.crosstab( dati[dati['VINO']<4]['ETAMi'], dati[dati['VINO']<4]['BICVINOM'], normalize=True) + pd.crosstab( dati[dati['LIQUOR']<4]['ETAMi'], dati[dati['LIQUOR']<4]['BICALTROM'], normalize=True)"
   ]
  },
  {
   "cell_type": "code",
   "execution_count": 21,
   "id": "c0e9c14f",
   "metadata": {},
   "outputs": [],
   "source": [
    "totale_alcol =(dati[dati['LIQUOR']<4].groupby([\"ETAMi\"],as_index=False)[\"BICALTROM\"].mean()['BICALTROM'] + dati[dati['VINO']<4].groupby([\"ETAMi\"],as_index=False)[\"BICVINOM\"].mean()['BICVINOM']+ dati[dati['BIRRA']<4].groupby([\"ETAMi\"],as_index=False)[\"BICBIRRAM\"].mean()['BICBIRRAM'])"
   ]
  },
  {
   "cell_type": "code",
   "execution_count": 20,
   "id": "6560c0ed",
   "metadata": {},
   "outputs": [
    {
     "data": {
      "text/html": [
       "<div>\n",
       "<style scoped>\n",
       "    .dataframe tbody tr th:only-of-type {\n",
       "        vertical-align: middle;\n",
       "    }\n",
       "\n",
       "    .dataframe tbody tr th {\n",
       "        vertical-align: top;\n",
       "    }\n",
       "\n",
       "    .dataframe thead th {\n",
       "        text-align: right;\n",
       "    }\n",
       "</style>\n",
       "<table border=\"1\" class=\"dataframe\">\n",
       "  <thead>\n",
       "    <tr style=\"text-align: right;\">\n",
       "      <th></th>\n",
       "      <th>ETAMi</th>\n",
       "      <th>BICALTROM</th>\n",
       "    </tr>\n",
       "  </thead>\n",
       "  <tbody>\n",
       "    <tr>\n",
       "      <th>0</th>\n",
       "      <td>4</td>\n",
       "      <td>0.0</td>\n",
       "    </tr>\n",
       "    <tr>\n",
       "      <th>1</th>\n",
       "      <td>5</td>\n",
       "      <td>5.0</td>\n",
       "    </tr>\n",
       "    <tr>\n",
       "      <th>2</th>\n",
       "      <td>6</td>\n",
       "      <td>3.0</td>\n",
       "    </tr>\n",
       "    <tr>\n",
       "      <th>3</th>\n",
       "      <td>7</td>\n",
       "      <td>17.0</td>\n",
       "    </tr>\n",
       "    <tr>\n",
       "      <th>4</th>\n",
       "      <td>8</td>\n",
       "      <td>33.0</td>\n",
       "    </tr>\n",
       "    <tr>\n",
       "      <th>5</th>\n",
       "      <td>9</td>\n",
       "      <td>63.0</td>\n",
       "    </tr>\n",
       "  </tbody>\n",
       "</table>\n",
       "</div>"
      ],
      "text/plain": [
       "   ETAMi  BICALTROM\n",
       "0      4        0.0\n",
       "1      5        5.0\n",
       "2      6        3.0\n",
       "3      7       17.0\n",
       "4      8       33.0\n",
       "5      9       63.0"
      ]
     },
     "execution_count": 20,
     "metadata": {},
     "output_type": "execute_result"
    }
   ],
   "source": [
    "dati[dati['LIQUOR']<4].groupby([\"ETAMi\"],as_index=False)[\"BICALTROM\"].sum()"
   ]
  },
  {
   "cell_type": "code",
   "execution_count": 22,
   "id": "4b84dd5a",
   "metadata": {},
   "outputs": [
    {
     "data": {
      "text/plain": [
       "0         NaN\n",
       "1    9.600000\n",
       "2    5.303030\n",
       "3    7.904472\n",
       "4    7.483742\n",
       "5    5.802506\n",
       "dtype: float64"
      ]
     },
     "execution_count": 22,
     "metadata": {},
     "output_type": "execute_result"
    }
   ],
   "source": [
    "totale_alcol"
   ]
  },
  {
   "cell_type": "code",
   "execution_count": 23,
   "id": "0956f3a5",
   "metadata": {},
   "outputs": [
    {
     "data": {
      "text/plain": [
       "(1    9.60000\n",
       " 2    5.30303\n",
       " dtype: float64,\n",
       " 4    7.483742\n",
       " 5    5.802506\n",
       " dtype: float64)"
      ]
     },
     "execution_count": 23,
     "metadata": {},
     "output_type": "execute_result"
    }
   ],
   "source": [
    "totale_alcol[1:3], totale_alcol[4:]"
   ]
  },
  {
   "cell_type": "code",
   "execution_count": 33,
   "id": "61ba4362",
   "metadata": {},
   "outputs": [
    {
     "data": {
      "image/png": "[encoded data removed]",
      "text/plain": [
       "<Figure size 640x480 with 1 Axes>"
      ]
     },
     "metadata": {},
     "output_type": "display_data"
    }
   ],
   "source": [
    "import squarify\n",
    "\n",
    "sns.set_style(style=\"whitegrid\") \n",
    "l = ['11-13','14-15','16-17','18-19','20-24','25-29']\n",
    "squarify.plot(sizes=totale_alcol[1:4], label=labels_eta[1:4], alpha=0.6, color=palette).set(\n",
    "    title='Consumo di alcol nei ragazzi delle superiori')\n",
    "plt.axis('off')\n",
    "plt.show()"
   ]
  },
  {
   "cell_type": "code",
   "execution_count": 34,
   "id": "bfdc208a",
   "metadata": {},
   "outputs": [
    {
     "data": {
      "image/png": "[encoded data removed]",
      "text/plain": [
       "<Figure size 640x480 with 1 Axes>"
      ]
     },
     "metadata": {},
     "output_type": "display_data"
    }
   ],
   "source": [
    "sns.set_style(style=\"whitegrid\") \n",
    "l = ['11-13','14-15','16-17','18-19','20-24','25-34']\n",
    "squarify.plot(sizes=totale_alcol[4:], label=labels_eta[4:], alpha=0.6, color=palette).set(\n",
    "    title='Consumo di alcol negli universitari per età')\n",
    "plt.axis('off')\n",
    "plt.show()"
   ]
  }
 ],
 "metadata": {
  "kernelspec": {
   "display_name": "Python 3 (ipykernel)",
   "language": "python",
   "name": "python3"
  },
  "language_info": {
   "codemirror_mode": {
    "name": "ipython",
    "version": 3
   },
   "file_extension": ".py",
   "mimetype": "text/x-python",
   "name": "python",
   "nbconvert_exporter": "python",
   "pygments_lexer": "ipython3",
   "version": "3.9.15"
  }
 },
 "nbformat": 4,
 "nbformat_minor": 5
}
